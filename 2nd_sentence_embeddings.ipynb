{
  "nbformat": 4,
  "nbformat_minor": 0,
  "metadata": {
    "colab": {
      "name": "2nd_sentence_embeddings.ipynb",
      "provenance": [],
      "collapsed_sections": []
    },
    "kernelspec": {
      "name": "python3",
      "display_name": "Python 3"
    },
    "accelerator": "GPU",
    "widgets": {
      "application/vnd.jupyter.widget-state+json": {
        "2254f52456e645918251e6a2f2e91baa": {
          "model_module": "@jupyter-widgets/controls",
          "model_name": "HBoxModel",
          "state": {
            "_view_name": "HBoxView",
            "_dom_classes": [],
            "_model_name": "HBoxModel",
            "_view_module": "@jupyter-widgets/controls",
            "_model_module_version": "1.5.0",
            "_view_count": null,
            "_view_module_version": "1.5.0",
            "box_style": "",
            "layout": "IPY_MODEL_6973b74cca0942d99f2ed1d5bfc9a145",
            "_model_module": "@jupyter-widgets/controls",
            "children": [
              "IPY_MODEL_8ad9f0686858423f9a518bca7dd23ca5",
              "IPY_MODEL_72200660b2b0470c83707a778e4083a9"
            ]
          }
        },
        "6973b74cca0942d99f2ed1d5bfc9a145": {
          "model_module": "@jupyter-widgets/base",
          "model_name": "LayoutModel",
          "state": {
            "_view_name": "LayoutView",
            "grid_template_rows": null,
            "right": null,
            "justify_content": null,
            "_view_module": "@jupyter-widgets/base",
            "overflow": null,
            "_model_module_version": "1.2.0",
            "_view_count": null,
            "flex_flow": null,
            "width": null,
            "min_width": null,
            "border": null,
            "align_items": null,
            "bottom": null,
            "_model_module": "@jupyter-widgets/base",
            "top": null,
            "grid_column": null,
            "overflow_y": null,
            "overflow_x": null,
            "grid_auto_flow": null,
            "grid_area": null,
            "grid_template_columns": null,
            "flex": null,
            "_model_name": "LayoutModel",
            "justify_items": null,
            "grid_row": null,
            "max_height": null,
            "align_content": null,
            "visibility": null,
            "align_self": null,
            "height": null,
            "min_height": null,
            "padding": null,
            "grid_auto_rows": null,
            "grid_gap": null,
            "max_width": null,
            "order": null,
            "_view_module_version": "1.2.0",
            "grid_template_areas": null,
            "object_position": null,
            "object_fit": null,
            "grid_auto_columns": null,
            "margin": null,
            "display": null,
            "left": null
          }
        },
        "8ad9f0686858423f9a518bca7dd23ca5": {
          "model_module": "@jupyter-widgets/controls",
          "model_name": "FloatProgressModel",
          "state": {
            "_view_name": "ProgressView",
            "style": "IPY_MODEL_afa2c3acce0547d6864e89843d4e0468",
            "_dom_classes": [],
            "description": "Downloading: 100%",
            "_model_name": "FloatProgressModel",
            "bar_style": "success",
            "max": 497,
            "_view_module": "@jupyter-widgets/controls",
            "_model_module_version": "1.5.0",
            "value": 497,
            "_view_count": null,
            "_view_module_version": "1.5.0",
            "orientation": "horizontal",
            "min": 0,
            "description_tooltip": null,
            "_model_module": "@jupyter-widgets/controls",
            "layout": "IPY_MODEL_47d98c7ae6714583bbca465cfc25ef5b"
          }
        },
        "72200660b2b0470c83707a778e4083a9": {
          "model_module": "@jupyter-widgets/controls",
          "model_name": "HTMLModel",
          "state": {
            "_view_name": "HTMLView",
            "style": "IPY_MODEL_ec5f87b6fb5b4a96a66d450b041d777e",
            "_dom_classes": [],
            "description": "",
            "_model_name": "HTMLModel",
            "placeholder": "​",
            "_view_module": "@jupyter-widgets/controls",
            "_model_module_version": "1.5.0",
            "value": " 497/497 [00:02&lt;00:00, 174B/s]",
            "_view_count": null,
            "_view_module_version": "1.5.0",
            "description_tooltip": null,
            "_model_module": "@jupyter-widgets/controls",
            "layout": "IPY_MODEL_62e2cef644484750936315fdddd17fd3"
          }
        },
        "afa2c3acce0547d6864e89843d4e0468": {
          "model_module": "@jupyter-widgets/controls",
          "model_name": "ProgressStyleModel",
          "state": {
            "_view_name": "StyleView",
            "_model_name": "ProgressStyleModel",
            "description_width": "initial",
            "_view_module": "@jupyter-widgets/base",
            "_model_module_version": "1.5.0",
            "_view_count": null,
            "_view_module_version": "1.2.0",
            "bar_color": null,
            "_model_module": "@jupyter-widgets/controls"
          }
        },
        "47d98c7ae6714583bbca465cfc25ef5b": {
          "model_module": "@jupyter-widgets/base",
          "model_name": "LayoutModel",
          "state": {
            "_view_name": "LayoutView",
            "grid_template_rows": null,
            "right": null,
            "justify_content": null,
            "_view_module": "@jupyter-widgets/base",
            "overflow": null,
            "_model_module_version": "1.2.0",
            "_view_count": null,
            "flex_flow": null,
            "width": null,
            "min_width": null,
            "border": null,
            "align_items": null,
            "bottom": null,
            "_model_module": "@jupyter-widgets/base",
            "top": null,
            "grid_column": null,
            "overflow_y": null,
            "overflow_x": null,
            "grid_auto_flow": null,
            "grid_area": null,
            "grid_template_columns": null,
            "flex": null,
            "_model_name": "LayoutModel",
            "justify_items": null,
            "grid_row": null,
            "max_height": null,
            "align_content": null,
            "visibility": null,
            "align_self": null,
            "height": null,
            "min_height": null,
            "padding": null,
            "grid_auto_rows": null,
            "grid_gap": null,
            "max_width": null,
            "order": null,
            "_view_module_version": "1.2.0",
            "grid_template_areas": null,
            "object_position": null,
            "object_fit": null,
            "grid_auto_columns": null,
            "margin": null,
            "display": null,
            "left": null
          }
        },
        "ec5f87b6fb5b4a96a66d450b041d777e": {
          "model_module": "@jupyter-widgets/controls",
          "model_name": "DescriptionStyleModel",
          "state": {
            "_view_name": "StyleView",
            "_model_name": "DescriptionStyleModel",
            "description_width": "",
            "_view_module": "@jupyter-widgets/base",
            "_model_module_version": "1.5.0",
            "_view_count": null,
            "_view_module_version": "1.2.0",
            "_model_module": "@jupyter-widgets/controls"
          }
        },
        "62e2cef644484750936315fdddd17fd3": {
          "model_module": "@jupyter-widgets/base",
          "model_name": "LayoutModel",
          "state": {
            "_view_name": "LayoutView",
            "grid_template_rows": null,
            "right": null,
            "justify_content": null,
            "_view_module": "@jupyter-widgets/base",
            "overflow": null,
            "_model_module_version": "1.2.0",
            "_view_count": null,
            "flex_flow": null,
            "width": null,
            "min_width": null,
            "border": null,
            "align_items": null,
            "bottom": null,
            "_model_module": "@jupyter-widgets/base",
            "top": null,
            "grid_column": null,
            "overflow_y": null,
            "overflow_x": null,
            "grid_auto_flow": null,
            "grid_area": null,
            "grid_template_columns": null,
            "flex": null,
            "_model_name": "LayoutModel",
            "justify_items": null,
            "grid_row": null,
            "max_height": null,
            "align_content": null,
            "visibility": null,
            "align_self": null,
            "height": null,
            "min_height": null,
            "padding": null,
            "grid_auto_rows": null,
            "grid_gap": null,
            "max_width": null,
            "order": null,
            "_view_module_version": "1.2.0",
            "grid_template_areas": null,
            "object_position": null,
            "object_fit": null,
            "grid_auto_columns": null,
            "margin": null,
            "display": null,
            "left": null
          }
        },
        "4a2aee461ce3472e8262a8ce1aa9371c": {
          "model_module": "@jupyter-widgets/controls",
          "model_name": "HBoxModel",
          "state": {
            "_view_name": "HBoxView",
            "_dom_classes": [],
            "_model_name": "HBoxModel",
            "_view_module": "@jupyter-widgets/controls",
            "_model_module_version": "1.5.0",
            "_view_count": null,
            "_view_module_version": "1.5.0",
            "box_style": "",
            "layout": "IPY_MODEL_f7e10bf6f3824a26aa1c6a42a6fb4609",
            "_model_module": "@jupyter-widgets/controls",
            "children": [
              "IPY_MODEL_e04cf69772764ef798fb7b357bfced7c",
              "IPY_MODEL_028235f98f874ffa8956da6be7d06caa"
            ]
          }
        },
        "f7e10bf6f3824a26aa1c6a42a6fb4609": {
          "model_module": "@jupyter-widgets/base",
          "model_name": "LayoutModel",
          "state": {
            "_view_name": "LayoutView",
            "grid_template_rows": null,
            "right": null,
            "justify_content": null,
            "_view_module": "@jupyter-widgets/base",
            "overflow": null,
            "_model_module_version": "1.2.0",
            "_view_count": null,
            "flex_flow": null,
            "width": null,
            "min_width": null,
            "border": null,
            "align_items": null,
            "bottom": null,
            "_model_module": "@jupyter-widgets/base",
            "top": null,
            "grid_column": null,
            "overflow_y": null,
            "overflow_x": null,
            "grid_auto_flow": null,
            "grid_area": null,
            "grid_template_columns": null,
            "flex": null,
            "_model_name": "LayoutModel",
            "justify_items": null,
            "grid_row": null,
            "max_height": null,
            "align_content": null,
            "visibility": null,
            "align_self": null,
            "height": null,
            "min_height": null,
            "padding": null,
            "grid_auto_rows": null,
            "grid_gap": null,
            "max_width": null,
            "order": null,
            "_view_module_version": "1.2.0",
            "grid_template_areas": null,
            "object_position": null,
            "object_fit": null,
            "grid_auto_columns": null,
            "margin": null,
            "display": null,
            "left": null
          }
        },
        "e04cf69772764ef798fb7b357bfced7c": {
          "model_module": "@jupyter-widgets/controls",
          "model_name": "FloatProgressModel",
          "state": {
            "_view_name": "ProgressView",
            "style": "IPY_MODEL_4fb2919ecc284d74b58225e37e4466b7",
            "_dom_classes": [],
            "description": "Downloading: 100%",
            "_model_name": "FloatProgressModel",
            "bar_style": "success",
            "max": 231508,
            "_view_module": "@jupyter-widgets/controls",
            "_model_module_version": "1.5.0",
            "value": 231508,
            "_view_count": null,
            "_view_module_version": "1.5.0",
            "orientation": "horizontal",
            "min": 0,
            "description_tooltip": null,
            "_model_module": "@jupyter-widgets/controls",
            "layout": "IPY_MODEL_e8b32d8243b343dfaf1593b2d4ffd8c3"
          }
        },
        "028235f98f874ffa8956da6be7d06caa": {
          "model_module": "@jupyter-widgets/controls",
          "model_name": "HTMLModel",
          "state": {
            "_view_name": "HTMLView",
            "style": "IPY_MODEL_c61fe4862bfc45798c7c7b398ff36753",
            "_dom_classes": [],
            "description": "",
            "_model_name": "HTMLModel",
            "placeholder": "​",
            "_view_module": "@jupyter-widgets/controls",
            "_model_module_version": "1.5.0",
            "value": " 232k/232k [00:01&lt;00:00, 130kB/s]",
            "_view_count": null,
            "_view_module_version": "1.5.0",
            "description_tooltip": null,
            "_model_module": "@jupyter-widgets/controls",
            "layout": "IPY_MODEL_a80153d870cc425a9a6fc03c9b9def08"
          }
        },
        "4fb2919ecc284d74b58225e37e4466b7": {
          "model_module": "@jupyter-widgets/controls",
          "model_name": "ProgressStyleModel",
          "state": {
            "_view_name": "StyleView",
            "_model_name": "ProgressStyleModel",
            "description_width": "initial",
            "_view_module": "@jupyter-widgets/base",
            "_model_module_version": "1.5.0",
            "_view_count": null,
            "_view_module_version": "1.2.0",
            "bar_color": null,
            "_model_module": "@jupyter-widgets/controls"
          }
        },
        "e8b32d8243b343dfaf1593b2d4ffd8c3": {
          "model_module": "@jupyter-widgets/base",
          "model_name": "LayoutModel",
          "state": {
            "_view_name": "LayoutView",
            "grid_template_rows": null,
            "right": null,
            "justify_content": null,
            "_view_module": "@jupyter-widgets/base",
            "overflow": null,
            "_model_module_version": "1.2.0",
            "_view_count": null,
            "flex_flow": null,
            "width": null,
            "min_width": null,
            "border": null,
            "align_items": null,
            "bottom": null,
            "_model_module": "@jupyter-widgets/base",
            "top": null,
            "grid_column": null,
            "overflow_y": null,
            "overflow_x": null,
            "grid_auto_flow": null,
            "grid_area": null,
            "grid_template_columns": null,
            "flex": null,
            "_model_name": "LayoutModel",
            "justify_items": null,
            "grid_row": null,
            "max_height": null,
            "align_content": null,
            "visibility": null,
            "align_self": null,
            "height": null,
            "min_height": null,
            "padding": null,
            "grid_auto_rows": null,
            "grid_gap": null,
            "max_width": null,
            "order": null,
            "_view_module_version": "1.2.0",
            "grid_template_areas": null,
            "object_position": null,
            "object_fit": null,
            "grid_auto_columns": null,
            "margin": null,
            "display": null,
            "left": null
          }
        },
        "c61fe4862bfc45798c7c7b398ff36753": {
          "model_module": "@jupyter-widgets/controls",
          "model_name": "DescriptionStyleModel",
          "state": {
            "_view_name": "StyleView",
            "_model_name": "DescriptionStyleModel",
            "description_width": "",
            "_view_module": "@jupyter-widgets/base",
            "_model_module_version": "1.5.0",
            "_view_count": null,
            "_view_module_version": "1.2.0",
            "_model_module": "@jupyter-widgets/controls"
          }
        },
        "a80153d870cc425a9a6fc03c9b9def08": {
          "model_module": "@jupyter-widgets/base",
          "model_name": "LayoutModel",
          "state": {
            "_view_name": "LayoutView",
            "grid_template_rows": null,
            "right": null,
            "justify_content": null,
            "_view_module": "@jupyter-widgets/base",
            "overflow": null,
            "_model_module_version": "1.2.0",
            "_view_count": null,
            "flex_flow": null,
            "width": null,
            "min_width": null,
            "border": null,
            "align_items": null,
            "bottom": null,
            "_model_module": "@jupyter-widgets/base",
            "top": null,
            "grid_column": null,
            "overflow_y": null,
            "overflow_x": null,
            "grid_auto_flow": null,
            "grid_area": null,
            "grid_template_columns": null,
            "flex": null,
            "_model_name": "LayoutModel",
            "justify_items": null,
            "grid_row": null,
            "max_height": null,
            "align_content": null,
            "visibility": null,
            "align_self": null,
            "height": null,
            "min_height": null,
            "padding": null,
            "grid_auto_rows": null,
            "grid_gap": null,
            "max_width": null,
            "order": null,
            "_view_module_version": "1.2.0",
            "grid_template_areas": null,
            "object_position": null,
            "object_fit": null,
            "grid_auto_columns": null,
            "margin": null,
            "display": null,
            "left": null
          }
        },
        "3d6dc5eb512f44d29736ce807cc3adc2": {
          "model_module": "@jupyter-widgets/controls",
          "model_name": "HBoxModel",
          "state": {
            "_view_name": "HBoxView",
            "_dom_classes": [],
            "_model_name": "HBoxModel",
            "_view_module": "@jupyter-widgets/controls",
            "_model_module_version": "1.5.0",
            "_view_count": null,
            "_view_module_version": "1.5.0",
            "box_style": "",
            "layout": "IPY_MODEL_977947f13ed141aaae5e608740efffa6",
            "_model_module": "@jupyter-widgets/controls",
            "children": [
              "IPY_MODEL_e743a697ccc44522b5905e5afb0619f0",
              "IPY_MODEL_c003902fc05d4e43809f9a60722ad51d"
            ]
          }
        },
        "977947f13ed141aaae5e608740efffa6": {
          "model_module": "@jupyter-widgets/base",
          "model_name": "LayoutModel",
          "state": {
            "_view_name": "LayoutView",
            "grid_template_rows": null,
            "right": null,
            "justify_content": null,
            "_view_module": "@jupyter-widgets/base",
            "overflow": null,
            "_model_module_version": "1.2.0",
            "_view_count": null,
            "flex_flow": null,
            "width": null,
            "min_width": null,
            "border": null,
            "align_items": null,
            "bottom": null,
            "_model_module": "@jupyter-widgets/base",
            "top": null,
            "grid_column": null,
            "overflow_y": null,
            "overflow_x": null,
            "grid_auto_flow": null,
            "grid_area": null,
            "grid_template_columns": null,
            "flex": null,
            "_model_name": "LayoutModel",
            "justify_items": null,
            "grid_row": null,
            "max_height": null,
            "align_content": null,
            "visibility": null,
            "align_self": null,
            "height": null,
            "min_height": null,
            "padding": null,
            "grid_auto_rows": null,
            "grid_gap": null,
            "max_width": null,
            "order": null,
            "_view_module_version": "1.2.0",
            "grid_template_areas": null,
            "object_position": null,
            "object_fit": null,
            "grid_auto_columns": null,
            "margin": null,
            "display": null,
            "left": null
          }
        },
        "e743a697ccc44522b5905e5afb0619f0": {
          "model_module": "@jupyter-widgets/controls",
          "model_name": "FloatProgressModel",
          "state": {
            "_view_name": "ProgressView",
            "style": "IPY_MODEL_525004c9867c48dd8f33a78b8d647ef6",
            "_dom_classes": [],
            "description": "Downloading: 100%",
            "_model_name": "FloatProgressModel",
            "bar_style": "success",
            "max": 112,
            "_view_module": "@jupyter-widgets/controls",
            "_model_module_version": "1.5.0",
            "value": 112,
            "_view_count": null,
            "_view_module_version": "1.5.0",
            "orientation": "horizontal",
            "min": 0,
            "description_tooltip": null,
            "_model_module": "@jupyter-widgets/controls",
            "layout": "IPY_MODEL_ff7cafd8e606442fa9dce1536f25b02c"
          }
        },
        "c003902fc05d4e43809f9a60722ad51d": {
          "model_module": "@jupyter-widgets/controls",
          "model_name": "HTMLModel",
          "state": {
            "_view_name": "HTMLView",
            "style": "IPY_MODEL_70df4654ef7441efa6b8450ef8c68787",
            "_dom_classes": [],
            "description": "",
            "_model_name": "HTMLModel",
            "placeholder": "​",
            "_view_module": "@jupyter-widgets/controls",
            "_model_module_version": "1.5.0",
            "value": " 112/112 [00:00&lt;00:00, 167B/s]",
            "_view_count": null,
            "_view_module_version": "1.5.0",
            "description_tooltip": null,
            "_model_module": "@jupyter-widgets/controls",
            "layout": "IPY_MODEL_147319bd9c834f13a2dc0a511a3ad81f"
          }
        },
        "525004c9867c48dd8f33a78b8d647ef6": {
          "model_module": "@jupyter-widgets/controls",
          "model_name": "ProgressStyleModel",
          "state": {
            "_view_name": "StyleView",
            "_model_name": "ProgressStyleModel",
            "description_width": "initial",
            "_view_module": "@jupyter-widgets/base",
            "_model_module_version": "1.5.0",
            "_view_count": null,
            "_view_module_version": "1.2.0",
            "bar_color": null,
            "_model_module": "@jupyter-widgets/controls"
          }
        },
        "ff7cafd8e606442fa9dce1536f25b02c": {
          "model_module": "@jupyter-widgets/base",
          "model_name": "LayoutModel",
          "state": {
            "_view_name": "LayoutView",
            "grid_template_rows": null,
            "right": null,
            "justify_content": null,
            "_view_module": "@jupyter-widgets/base",
            "overflow": null,
            "_model_module_version": "1.2.0",
            "_view_count": null,
            "flex_flow": null,
            "width": null,
            "min_width": null,
            "border": null,
            "align_items": null,
            "bottom": null,
            "_model_module": "@jupyter-widgets/base",
            "top": null,
            "grid_column": null,
            "overflow_y": null,
            "overflow_x": null,
            "grid_auto_flow": null,
            "grid_area": null,
            "grid_template_columns": null,
            "flex": null,
            "_model_name": "LayoutModel",
            "justify_items": null,
            "grid_row": null,
            "max_height": null,
            "align_content": null,
            "visibility": null,
            "align_self": null,
            "height": null,
            "min_height": null,
            "padding": null,
            "grid_auto_rows": null,
            "grid_gap": null,
            "max_width": null,
            "order": null,
            "_view_module_version": "1.2.0",
            "grid_template_areas": null,
            "object_position": null,
            "object_fit": null,
            "grid_auto_columns": null,
            "margin": null,
            "display": null,
            "left": null
          }
        },
        "70df4654ef7441efa6b8450ef8c68787": {
          "model_module": "@jupyter-widgets/controls",
          "model_name": "DescriptionStyleModel",
          "state": {
            "_view_name": "StyleView",
            "_model_name": "DescriptionStyleModel",
            "description_width": "",
            "_view_module": "@jupyter-widgets/base",
            "_model_module_version": "1.5.0",
            "_view_count": null,
            "_view_module_version": "1.2.0",
            "_model_module": "@jupyter-widgets/controls"
          }
        },
        "147319bd9c834f13a2dc0a511a3ad81f": {
          "model_module": "@jupyter-widgets/base",
          "model_name": "LayoutModel",
          "state": {
            "_view_name": "LayoutView",
            "grid_template_rows": null,
            "right": null,
            "justify_content": null,
            "_view_module": "@jupyter-widgets/base",
            "overflow": null,
            "_model_module_version": "1.2.0",
            "_view_count": null,
            "flex_flow": null,
            "width": null,
            "min_width": null,
            "border": null,
            "align_items": null,
            "bottom": null,
            "_model_module": "@jupyter-widgets/base",
            "top": null,
            "grid_column": null,
            "overflow_y": null,
            "overflow_x": null,
            "grid_auto_flow": null,
            "grid_area": null,
            "grid_template_columns": null,
            "flex": null,
            "_model_name": "LayoutModel",
            "justify_items": null,
            "grid_row": null,
            "max_height": null,
            "align_content": null,
            "visibility": null,
            "align_self": null,
            "height": null,
            "min_height": null,
            "padding": null,
            "grid_auto_rows": null,
            "grid_gap": null,
            "max_width": null,
            "order": null,
            "_view_module_version": "1.2.0",
            "grid_template_areas": null,
            "object_position": null,
            "object_fit": null,
            "grid_auto_columns": null,
            "margin": null,
            "display": null,
            "left": null
          }
        },
        "874d0527d8824f7497afacc2781cc9bc": {
          "model_module": "@jupyter-widgets/controls",
          "model_name": "HBoxModel",
          "state": {
            "_view_name": "HBoxView",
            "_dom_classes": [],
            "_model_name": "HBoxModel",
            "_view_module": "@jupyter-widgets/controls",
            "_model_module_version": "1.5.0",
            "_view_count": null,
            "_view_module_version": "1.5.0",
            "box_style": "",
            "layout": "IPY_MODEL_8e7b1bc25f0346c3a973551a76f0dd48",
            "_model_module": "@jupyter-widgets/controls",
            "children": [
              "IPY_MODEL_e62d14d388254408894ff55693579a75",
              "IPY_MODEL_c9893a1783084838ac2da4772ef281cc"
            ]
          }
        },
        "8e7b1bc25f0346c3a973551a76f0dd48": {
          "model_module": "@jupyter-widgets/base",
          "model_name": "LayoutModel",
          "state": {
            "_view_name": "LayoutView",
            "grid_template_rows": null,
            "right": null,
            "justify_content": null,
            "_view_module": "@jupyter-widgets/base",
            "overflow": null,
            "_model_module_version": "1.2.0",
            "_view_count": null,
            "flex_flow": null,
            "width": null,
            "min_width": null,
            "border": null,
            "align_items": null,
            "bottom": null,
            "_model_module": "@jupyter-widgets/base",
            "top": null,
            "grid_column": null,
            "overflow_y": null,
            "overflow_x": null,
            "grid_auto_flow": null,
            "grid_area": null,
            "grid_template_columns": null,
            "flex": null,
            "_model_name": "LayoutModel",
            "justify_items": null,
            "grid_row": null,
            "max_height": null,
            "align_content": null,
            "visibility": null,
            "align_self": null,
            "height": null,
            "min_height": null,
            "padding": null,
            "grid_auto_rows": null,
            "grid_gap": null,
            "max_width": null,
            "order": null,
            "_view_module_version": "1.2.0",
            "grid_template_areas": null,
            "object_position": null,
            "object_fit": null,
            "grid_auto_columns": null,
            "margin": null,
            "display": null,
            "left": null
          }
        },
        "e62d14d388254408894ff55693579a75": {
          "model_module": "@jupyter-widgets/controls",
          "model_name": "FloatProgressModel",
          "state": {
            "_view_name": "ProgressView",
            "style": "IPY_MODEL_81a96664db9a4170b127489fb084188b",
            "_dom_classes": [],
            "description": "Downloading: 100%",
            "_model_name": "FloatProgressModel",
            "bar_style": "success",
            "max": 152,
            "_view_module": "@jupyter-widgets/controls",
            "_model_module_version": "1.5.0",
            "value": 152,
            "_view_count": null,
            "_view_module_version": "1.5.0",
            "orientation": "horizontal",
            "min": 0,
            "description_tooltip": null,
            "_model_module": "@jupyter-widgets/controls",
            "layout": "IPY_MODEL_d479daa1e0874c4cbf316f49cef5defb"
          }
        },
        "c9893a1783084838ac2da4772ef281cc": {
          "model_module": "@jupyter-widgets/controls",
          "model_name": "HTMLModel",
          "state": {
            "_view_name": "HTMLView",
            "style": "IPY_MODEL_15194d29b57345d384e922391ec64e71",
            "_dom_classes": [],
            "description": "",
            "_model_name": "HTMLModel",
            "placeholder": "​",
            "_view_module": "@jupyter-widgets/controls",
            "_model_module_version": "1.5.0",
            "value": " 152/152 [00:00&lt;00:00, 2.12kB/s]",
            "_view_count": null,
            "_view_module_version": "1.5.0",
            "description_tooltip": null,
            "_model_module": "@jupyter-widgets/controls",
            "layout": "IPY_MODEL_d34122f7903141f282b64112aa4c5d5d"
          }
        },
        "81a96664db9a4170b127489fb084188b": {
          "model_module": "@jupyter-widgets/controls",
          "model_name": "ProgressStyleModel",
          "state": {
            "_view_name": "StyleView",
            "_model_name": "ProgressStyleModel",
            "description_width": "initial",
            "_view_module": "@jupyter-widgets/base",
            "_model_module_version": "1.5.0",
            "_view_count": null,
            "_view_module_version": "1.2.0",
            "bar_color": null,
            "_model_module": "@jupyter-widgets/controls"
          }
        },
        "d479daa1e0874c4cbf316f49cef5defb": {
          "model_module": "@jupyter-widgets/base",
          "model_name": "LayoutModel",
          "state": {
            "_view_name": "LayoutView",
            "grid_template_rows": null,
            "right": null,
            "justify_content": null,
            "_view_module": "@jupyter-widgets/base",
            "overflow": null,
            "_model_module_version": "1.2.0",
            "_view_count": null,
            "flex_flow": null,
            "width": null,
            "min_width": null,
            "border": null,
            "align_items": null,
            "bottom": null,
            "_model_module": "@jupyter-widgets/base",
            "top": null,
            "grid_column": null,
            "overflow_y": null,
            "overflow_x": null,
            "grid_auto_flow": null,
            "grid_area": null,
            "grid_template_columns": null,
            "flex": null,
            "_model_name": "LayoutModel",
            "justify_items": null,
            "grid_row": null,
            "max_height": null,
            "align_content": null,
            "visibility": null,
            "align_self": null,
            "height": null,
            "min_height": null,
            "padding": null,
            "grid_auto_rows": null,
            "grid_gap": null,
            "max_width": null,
            "order": null,
            "_view_module_version": "1.2.0",
            "grid_template_areas": null,
            "object_position": null,
            "object_fit": null,
            "grid_auto_columns": null,
            "margin": null,
            "display": null,
            "left": null
          }
        },
        "15194d29b57345d384e922391ec64e71": {
          "model_module": "@jupyter-widgets/controls",
          "model_name": "DescriptionStyleModel",
          "state": {
            "_view_name": "StyleView",
            "_model_name": "DescriptionStyleModel",
            "description_width": "",
            "_view_module": "@jupyter-widgets/base",
            "_model_module_version": "1.5.0",
            "_view_count": null,
            "_view_module_version": "1.2.0",
            "_model_module": "@jupyter-widgets/controls"
          }
        },
        "d34122f7903141f282b64112aa4c5d5d": {
          "model_module": "@jupyter-widgets/base",
          "model_name": "LayoutModel",
          "state": {
            "_view_name": "LayoutView",
            "grid_template_rows": null,
            "right": null,
            "justify_content": null,
            "_view_module": "@jupyter-widgets/base",
            "overflow": null,
            "_model_module_version": "1.2.0",
            "_view_count": null,
            "flex_flow": null,
            "width": null,
            "min_width": null,
            "border": null,
            "align_items": null,
            "bottom": null,
            "_model_module": "@jupyter-widgets/base",
            "top": null,
            "grid_column": null,
            "overflow_y": null,
            "overflow_x": null,
            "grid_auto_flow": null,
            "grid_area": null,
            "grid_template_columns": null,
            "flex": null,
            "_model_name": "LayoutModel",
            "justify_items": null,
            "grid_row": null,
            "max_height": null,
            "align_content": null,
            "visibility": null,
            "align_self": null,
            "height": null,
            "min_height": null,
            "padding": null,
            "grid_auto_rows": null,
            "grid_gap": null,
            "max_width": null,
            "order": null,
            "_view_module_version": "1.2.0",
            "grid_template_areas": null,
            "object_position": null,
            "object_fit": null,
            "grid_auto_columns": null,
            "margin": null,
            "display": null,
            "left": null
          }
        },
        "973d0c61969949e0bbed81e8542d545c": {
          "model_module": "@jupyter-widgets/controls",
          "model_name": "HBoxModel",
          "state": {
            "_view_name": "HBoxView",
            "_dom_classes": [],
            "_model_name": "HBoxModel",
            "_view_module": "@jupyter-widgets/controls",
            "_model_module_version": "1.5.0",
            "_view_count": null,
            "_view_module_version": "1.5.0",
            "box_style": "",
            "layout": "IPY_MODEL_d59d49d5bde54f61aa1389edfabf6984",
            "_model_module": "@jupyter-widgets/controls",
            "children": [
              "IPY_MODEL_9d8e31e72802479d94f53d9e31cf5545",
              "IPY_MODEL_ab6e260403a04f0c8728dd5881b325b2"
            ]
          }
        },
        "d59d49d5bde54f61aa1389edfabf6984": {
          "model_module": "@jupyter-widgets/base",
          "model_name": "LayoutModel",
          "state": {
            "_view_name": "LayoutView",
            "grid_template_rows": null,
            "right": null,
            "justify_content": null,
            "_view_module": "@jupyter-widgets/base",
            "overflow": null,
            "_model_module_version": "1.2.0",
            "_view_count": null,
            "flex_flow": null,
            "width": null,
            "min_width": null,
            "border": null,
            "align_items": null,
            "bottom": null,
            "_model_module": "@jupyter-widgets/base",
            "top": null,
            "grid_column": null,
            "overflow_y": null,
            "overflow_x": null,
            "grid_auto_flow": null,
            "grid_area": null,
            "grid_template_columns": null,
            "flex": null,
            "_model_name": "LayoutModel",
            "justify_items": null,
            "grid_row": null,
            "max_height": null,
            "align_content": null,
            "visibility": null,
            "align_self": null,
            "height": null,
            "min_height": null,
            "padding": null,
            "grid_auto_rows": null,
            "grid_gap": null,
            "max_width": null,
            "order": null,
            "_view_module_version": "1.2.0",
            "grid_template_areas": null,
            "object_position": null,
            "object_fit": null,
            "grid_auto_columns": null,
            "margin": null,
            "display": null,
            "left": null
          }
        },
        "9d8e31e72802479d94f53d9e31cf5545": {
          "model_module": "@jupyter-widgets/controls",
          "model_name": "FloatProgressModel",
          "state": {
            "_view_name": "ProgressView",
            "style": "IPY_MODEL_44f2a915677046d09ff015a8620461b1",
            "_dom_classes": [],
            "description": "Downloading: 100%",
            "_model_name": "FloatProgressModel",
            "bar_style": "success",
            "max": 437976759,
            "_view_module": "@jupyter-widgets/controls",
            "_model_module_version": "1.5.0",
            "value": 437976759,
            "_view_count": null,
            "_view_module_version": "1.5.0",
            "orientation": "horizontal",
            "min": 0,
            "description_tooltip": null,
            "_model_module": "@jupyter-widgets/controls",
            "layout": "IPY_MODEL_9a0f3be85b074ef4b6188c6de3926b80"
          }
        },
        "ab6e260403a04f0c8728dd5881b325b2": {
          "model_module": "@jupyter-widgets/controls",
          "model_name": "HTMLModel",
          "state": {
            "_view_name": "HTMLView",
            "style": "IPY_MODEL_f4f0438f7e514fb796fd37c174ff127f",
            "_dom_classes": [],
            "description": "",
            "_model_name": "HTMLModel",
            "placeholder": "​",
            "_view_module": "@jupyter-widgets/controls",
            "_model_module_version": "1.5.0",
            "value": " 438M/438M [00:11&lt;00:00, 38.4MB/s]",
            "_view_count": null,
            "_view_module_version": "1.5.0",
            "description_tooltip": null,
            "_model_module": "@jupyter-widgets/controls",
            "layout": "IPY_MODEL_4f4d550043b94107b0910b416dbfe307"
          }
        },
        "44f2a915677046d09ff015a8620461b1": {
          "model_module": "@jupyter-widgets/controls",
          "model_name": "ProgressStyleModel",
          "state": {
            "_view_name": "StyleView",
            "_model_name": "ProgressStyleModel",
            "description_width": "initial",
            "_view_module": "@jupyter-widgets/base",
            "_model_module_version": "1.5.0",
            "_view_count": null,
            "_view_module_version": "1.2.0",
            "bar_color": null,
            "_model_module": "@jupyter-widgets/controls"
          }
        },
        "9a0f3be85b074ef4b6188c6de3926b80": {
          "model_module": "@jupyter-widgets/base",
          "model_name": "LayoutModel",
          "state": {
            "_view_name": "LayoutView",
            "grid_template_rows": null,
            "right": null,
            "justify_content": null,
            "_view_module": "@jupyter-widgets/base",
            "overflow": null,
            "_model_module_version": "1.2.0",
            "_view_count": null,
            "flex_flow": null,
            "width": null,
            "min_width": null,
            "border": null,
            "align_items": null,
            "bottom": null,
            "_model_module": "@jupyter-widgets/base",
            "top": null,
            "grid_column": null,
            "overflow_y": null,
            "overflow_x": null,
            "grid_auto_flow": null,
            "grid_area": null,
            "grid_template_columns": null,
            "flex": null,
            "_model_name": "LayoutModel",
            "justify_items": null,
            "grid_row": null,
            "max_height": null,
            "align_content": null,
            "visibility": null,
            "align_self": null,
            "height": null,
            "min_height": null,
            "padding": null,
            "grid_auto_rows": null,
            "grid_gap": null,
            "max_width": null,
            "order": null,
            "_view_module_version": "1.2.0",
            "grid_template_areas": null,
            "object_position": null,
            "object_fit": null,
            "grid_auto_columns": null,
            "margin": null,
            "display": null,
            "left": null
          }
        },
        "f4f0438f7e514fb796fd37c174ff127f": {
          "model_module": "@jupyter-widgets/controls",
          "model_name": "DescriptionStyleModel",
          "state": {
            "_view_name": "StyleView",
            "_model_name": "DescriptionStyleModel",
            "description_width": "",
            "_view_module": "@jupyter-widgets/base",
            "_model_module_version": "1.5.0",
            "_view_count": null,
            "_view_module_version": "1.2.0",
            "_model_module": "@jupyter-widgets/controls"
          }
        },
        "4f4d550043b94107b0910b416dbfe307": {
          "model_module": "@jupyter-widgets/base",
          "model_name": "LayoutModel",
          "state": {
            "_view_name": "LayoutView",
            "grid_template_rows": null,
            "right": null,
            "justify_content": null,
            "_view_module": "@jupyter-widgets/base",
            "overflow": null,
            "_model_module_version": "1.2.0",
            "_view_count": null,
            "flex_flow": null,
            "width": null,
            "min_width": null,
            "border": null,
            "align_items": null,
            "bottom": null,
            "_model_module": "@jupyter-widgets/base",
            "top": null,
            "grid_column": null,
            "overflow_y": null,
            "overflow_x": null,
            "grid_auto_flow": null,
            "grid_area": null,
            "grid_template_columns": null,
            "flex": null,
            "_model_name": "LayoutModel",
            "justify_items": null,
            "grid_row": null,
            "max_height": null,
            "align_content": null,
            "visibility": null,
            "align_self": null,
            "height": null,
            "min_height": null,
            "padding": null,
            "grid_auto_rows": null,
            "grid_gap": null,
            "max_width": null,
            "order": null,
            "_view_module_version": "1.2.0",
            "grid_template_areas": null,
            "object_position": null,
            "object_fit": null,
            "grid_auto_columns": null,
            "margin": null,
            "display": null,
            "left": null
          }
        },
        "c87a95d42c0d4469b79336d4d5f2e5a4": {
          "model_module": "@jupyter-widgets/controls",
          "model_name": "HBoxModel",
          "state": {
            "_view_name": "HBoxView",
            "_dom_classes": [],
            "_model_name": "HBoxModel",
            "_view_module": "@jupyter-widgets/controls",
            "_model_module_version": "1.5.0",
            "_view_count": null,
            "_view_module_version": "1.5.0",
            "box_style": "",
            "layout": "IPY_MODEL_85672762bbf24af2ac856e6e5a8390ab",
            "_model_module": "@jupyter-widgets/controls",
            "children": [
              "IPY_MODEL_334dd3cf6760437da89beb7e5de9457f",
              "IPY_MODEL_c63364a79e6646faaf9a08978793b66c"
            ]
          }
        },
        "85672762bbf24af2ac856e6e5a8390ab": {
          "model_module": "@jupyter-widgets/base",
          "model_name": "LayoutModel",
          "state": {
            "_view_name": "LayoutView",
            "grid_template_rows": null,
            "right": null,
            "justify_content": null,
            "_view_module": "@jupyter-widgets/base",
            "overflow": null,
            "_model_module_version": "1.2.0",
            "_view_count": null,
            "flex_flow": null,
            "width": null,
            "min_width": null,
            "border": null,
            "align_items": null,
            "bottom": null,
            "_model_module": "@jupyter-widgets/base",
            "top": null,
            "grid_column": null,
            "overflow_y": null,
            "overflow_x": null,
            "grid_auto_flow": null,
            "grid_area": null,
            "grid_template_columns": null,
            "flex": null,
            "_model_name": "LayoutModel",
            "justify_items": null,
            "grid_row": null,
            "max_height": null,
            "align_content": null,
            "visibility": null,
            "align_self": null,
            "height": null,
            "min_height": null,
            "padding": null,
            "grid_auto_rows": null,
            "grid_gap": null,
            "max_width": null,
            "order": null,
            "_view_module_version": "1.2.0",
            "grid_template_areas": null,
            "object_position": null,
            "object_fit": null,
            "grid_auto_columns": null,
            "margin": null,
            "display": null,
            "left": null
          }
        },
        "334dd3cf6760437da89beb7e5de9457f": {
          "model_module": "@jupyter-widgets/controls",
          "model_name": "FloatProgressModel",
          "state": {
            "_view_name": "ProgressView",
            "style": "IPY_MODEL_b583292006e64bbab26d6e64bd709bc2",
            "_dom_classes": [],
            "description": "Downloading: 100%",
            "_model_name": "FloatProgressModel",
            "bar_style": "success",
            "max": 508,
            "_view_module": "@jupyter-widgets/controls",
            "_model_module_version": "1.5.0",
            "value": 508,
            "_view_count": null,
            "_view_module_version": "1.5.0",
            "orientation": "horizontal",
            "min": 0,
            "description_tooltip": null,
            "_model_module": "@jupyter-widgets/controls",
            "layout": "IPY_MODEL_922f307b50654cebafd6e25ec93c720c"
          }
        },
        "c63364a79e6646faaf9a08978793b66c": {
          "model_module": "@jupyter-widgets/controls",
          "model_name": "HTMLModel",
          "state": {
            "_view_name": "HTMLView",
            "style": "IPY_MODEL_645c4ae30e984708a07eea2a9187e00b",
            "_dom_classes": [],
            "description": "",
            "_model_name": "HTMLModel",
            "placeholder": "​",
            "_view_module": "@jupyter-widgets/controls",
            "_model_module_version": "1.5.0",
            "value": " 508/508 [00:17&lt;00:00, 29.3B/s]",
            "_view_count": null,
            "_view_module_version": "1.5.0",
            "description_tooltip": null,
            "_model_module": "@jupyter-widgets/controls",
            "layout": "IPY_MODEL_3e26958c280944b1ad247ccb1804b73f"
          }
        },
        "b583292006e64bbab26d6e64bd709bc2": {
          "model_module": "@jupyter-widgets/controls",
          "model_name": "ProgressStyleModel",
          "state": {
            "_view_name": "StyleView",
            "_model_name": "ProgressStyleModel",
            "description_width": "initial",
            "_view_module": "@jupyter-widgets/base",
            "_model_module_version": "1.5.0",
            "_view_count": null,
            "_view_module_version": "1.2.0",
            "bar_color": null,
            "_model_module": "@jupyter-widgets/controls"
          }
        },
        "922f307b50654cebafd6e25ec93c720c": {
          "model_module": "@jupyter-widgets/base",
          "model_name": "LayoutModel",
          "state": {
            "_view_name": "LayoutView",
            "grid_template_rows": null,
            "right": null,
            "justify_content": null,
            "_view_module": "@jupyter-widgets/base",
            "overflow": null,
            "_model_module_version": "1.2.0",
            "_view_count": null,
            "flex_flow": null,
            "width": null,
            "min_width": null,
            "border": null,
            "align_items": null,
            "bottom": null,
            "_model_module": "@jupyter-widgets/base",
            "top": null,
            "grid_column": null,
            "overflow_y": null,
            "overflow_x": null,
            "grid_auto_flow": null,
            "grid_area": null,
            "grid_template_columns": null,
            "flex": null,
            "_model_name": "LayoutModel",
            "justify_items": null,
            "grid_row": null,
            "max_height": null,
            "align_content": null,
            "visibility": null,
            "align_self": null,
            "height": null,
            "min_height": null,
            "padding": null,
            "grid_auto_rows": null,
            "grid_gap": null,
            "max_width": null,
            "order": null,
            "_view_module_version": "1.2.0",
            "grid_template_areas": null,
            "object_position": null,
            "object_fit": null,
            "grid_auto_columns": null,
            "margin": null,
            "display": null,
            "left": null
          }
        },
        "645c4ae30e984708a07eea2a9187e00b": {
          "model_module": "@jupyter-widgets/controls",
          "model_name": "DescriptionStyleModel",
          "state": {
            "_view_name": "StyleView",
            "_model_name": "DescriptionStyleModel",
            "description_width": "",
            "_view_module": "@jupyter-widgets/base",
            "_model_module_version": "1.5.0",
            "_view_count": null,
            "_view_module_version": "1.2.0",
            "_model_module": "@jupyter-widgets/controls"
          }
        },
        "3e26958c280944b1ad247ccb1804b73f": {
          "model_module": "@jupyter-widgets/base",
          "model_name": "LayoutModel",
          "state": {
            "_view_name": "LayoutView",
            "grid_template_rows": null,
            "right": null,
            "justify_content": null,
            "_view_module": "@jupyter-widgets/base",
            "overflow": null,
            "_model_module_version": "1.2.0",
            "_view_count": null,
            "flex_flow": null,
            "width": null,
            "min_width": null,
            "border": null,
            "align_items": null,
            "bottom": null,
            "_model_module": "@jupyter-widgets/base",
            "top": null,
            "grid_column": null,
            "overflow_y": null,
            "overflow_x": null,
            "grid_auto_flow": null,
            "grid_area": null,
            "grid_template_columns": null,
            "flex": null,
            "_model_name": "LayoutModel",
            "justify_items": null,
            "grid_row": null,
            "max_height": null,
            "align_content": null,
            "visibility": null,
            "align_self": null,
            "height": null,
            "min_height": null,
            "padding": null,
            "grid_auto_rows": null,
            "grid_gap": null,
            "max_width": null,
            "order": null,
            "_view_module_version": "1.2.0",
            "grid_template_areas": null,
            "object_position": null,
            "object_fit": null,
            "grid_auto_columns": null,
            "margin": null,
            "display": null,
            "left": null
          }
        },
        "407b3da2a2e343ab83eaf08f3e175058": {
          "model_module": "@jupyter-widgets/controls",
          "model_name": "HBoxModel",
          "state": {
            "_view_name": "HBoxView",
            "_dom_classes": [],
            "_model_name": "HBoxModel",
            "_view_module": "@jupyter-widgets/controls",
            "_model_module_version": "1.5.0",
            "_view_count": null,
            "_view_module_version": "1.5.0",
            "box_style": "",
            "layout": "IPY_MODEL_e2952095ed3d4b35954d091e903c3757",
            "_model_module": "@jupyter-widgets/controls",
            "children": [
              "IPY_MODEL_7da1aadb6ca64762bccf116a1c4f55ce",
              "IPY_MODEL_a45a24de926142c3938819ab1c03d940"
            ]
          }
        },
        "e2952095ed3d4b35954d091e903c3757": {
          "model_module": "@jupyter-widgets/base",
          "model_name": "LayoutModel",
          "state": {
            "_view_name": "LayoutView",
            "grid_template_rows": null,
            "right": null,
            "justify_content": null,
            "_view_module": "@jupyter-widgets/base",
            "overflow": null,
            "_model_module_version": "1.2.0",
            "_view_count": null,
            "flex_flow": null,
            "width": null,
            "min_width": null,
            "border": null,
            "align_items": null,
            "bottom": null,
            "_model_module": "@jupyter-widgets/base",
            "top": null,
            "grid_column": null,
            "overflow_y": null,
            "overflow_x": null,
            "grid_auto_flow": null,
            "grid_area": null,
            "grid_template_columns": null,
            "flex": null,
            "_model_name": "LayoutModel",
            "justify_items": null,
            "grid_row": null,
            "max_height": null,
            "align_content": null,
            "visibility": null,
            "align_self": null,
            "height": null,
            "min_height": null,
            "padding": null,
            "grid_auto_rows": null,
            "grid_gap": null,
            "max_width": null,
            "order": null,
            "_view_module_version": "1.2.0",
            "grid_template_areas": null,
            "object_position": null,
            "object_fit": null,
            "grid_auto_columns": null,
            "margin": null,
            "display": null,
            "left": null
          }
        },
        "7da1aadb6ca64762bccf116a1c4f55ce": {
          "model_module": "@jupyter-widgets/controls",
          "model_name": "FloatProgressModel",
          "state": {
            "_view_name": "ProgressView",
            "style": "IPY_MODEL_030d1f8af34348fe8a39b3685681b540",
            "_dom_classes": [],
            "description": "Downloading: 100%",
            "_model_name": "FloatProgressModel",
            "bar_style": "success",
            "max": 437985356,
            "_view_module": "@jupyter-widgets/controls",
            "_model_module_version": "1.5.0",
            "value": 437985356,
            "_view_count": null,
            "_view_module_version": "1.5.0",
            "orientation": "horizontal",
            "min": 0,
            "description_tooltip": null,
            "_model_module": "@jupyter-widgets/controls",
            "layout": "IPY_MODEL_6e9754b837ff4a02b0ab9ef3988dd2b1"
          }
        },
        "a45a24de926142c3938819ab1c03d940": {
          "model_module": "@jupyter-widgets/controls",
          "model_name": "HTMLModel",
          "state": {
            "_view_name": "HTMLView",
            "style": "IPY_MODEL_a3f100fe366c4bd4a031ec5094ba6ab2",
            "_dom_classes": [],
            "description": "",
            "_model_name": "HTMLModel",
            "placeholder": "​",
            "_view_module": "@jupyter-widgets/controls",
            "_model_module_version": "1.5.0",
            "value": " 438M/438M [00:11&lt;00:00, 39.1MB/s]",
            "_view_count": null,
            "_view_module_version": "1.5.0",
            "description_tooltip": null,
            "_model_module": "@jupyter-widgets/controls",
            "layout": "IPY_MODEL_359f4fff167942aa9c828d0553264b8d"
          }
        },
        "030d1f8af34348fe8a39b3685681b540": {
          "model_module": "@jupyter-widgets/controls",
          "model_name": "ProgressStyleModel",
          "state": {
            "_view_name": "StyleView",
            "_model_name": "ProgressStyleModel",
            "description_width": "initial",
            "_view_module": "@jupyter-widgets/base",
            "_model_module_version": "1.5.0",
            "_view_count": null,
            "_view_module_version": "1.2.0",
            "bar_color": null,
            "_model_module": "@jupyter-widgets/controls"
          }
        },
        "6e9754b837ff4a02b0ab9ef3988dd2b1": {
          "model_module": "@jupyter-widgets/base",
          "model_name": "LayoutModel",
          "state": {
            "_view_name": "LayoutView",
            "grid_template_rows": null,
            "right": null,
            "justify_content": null,
            "_view_module": "@jupyter-widgets/base",
            "overflow": null,
            "_model_module_version": "1.2.0",
            "_view_count": null,
            "flex_flow": null,
            "width": null,
            "min_width": null,
            "border": null,
            "align_items": null,
            "bottom": null,
            "_model_module": "@jupyter-widgets/base",
            "top": null,
            "grid_column": null,
            "overflow_y": null,
            "overflow_x": null,
            "grid_auto_flow": null,
            "grid_area": null,
            "grid_template_columns": null,
            "flex": null,
            "_model_name": "LayoutModel",
            "justify_items": null,
            "grid_row": null,
            "max_height": null,
            "align_content": null,
            "visibility": null,
            "align_self": null,
            "height": null,
            "min_height": null,
            "padding": null,
            "grid_auto_rows": null,
            "grid_gap": null,
            "max_width": null,
            "order": null,
            "_view_module_version": "1.2.0",
            "grid_template_areas": null,
            "object_position": null,
            "object_fit": null,
            "grid_auto_columns": null,
            "margin": null,
            "display": null,
            "left": null
          }
        },
        "a3f100fe366c4bd4a031ec5094ba6ab2": {
          "model_module": "@jupyter-widgets/controls",
          "model_name": "DescriptionStyleModel",
          "state": {
            "_view_name": "StyleView",
            "_model_name": "DescriptionStyleModel",
            "description_width": "",
            "_view_module": "@jupyter-widgets/base",
            "_model_module_version": "1.5.0",
            "_view_count": null,
            "_view_module_version": "1.2.0",
            "_model_module": "@jupyter-widgets/controls"
          }
        },
        "359f4fff167942aa9c828d0553264b8d": {
          "model_module": "@jupyter-widgets/base",
          "model_name": "LayoutModel",
          "state": {
            "_view_name": "LayoutView",
            "grid_template_rows": null,
            "right": null,
            "justify_content": null,
            "_view_module": "@jupyter-widgets/base",
            "overflow": null,
            "_model_module_version": "1.2.0",
            "_view_count": null,
            "flex_flow": null,
            "width": null,
            "min_width": null,
            "border": null,
            "align_items": null,
            "bottom": null,
            "_model_module": "@jupyter-widgets/base",
            "top": null,
            "grid_column": null,
            "overflow_y": null,
            "overflow_x": null,
            "grid_auto_flow": null,
            "grid_area": null,
            "grid_template_columns": null,
            "flex": null,
            "_model_name": "LayoutModel",
            "justify_items": null,
            "grid_row": null,
            "max_height": null,
            "align_content": null,
            "visibility": null,
            "align_self": null,
            "height": null,
            "min_height": null,
            "padding": null,
            "grid_auto_rows": null,
            "grid_gap": null,
            "max_width": null,
            "order": null,
            "_view_module_version": "1.2.0",
            "grid_template_areas": null,
            "object_position": null,
            "object_fit": null,
            "grid_auto_columns": null,
            "margin": null,
            "display": null,
            "left": null
          }
        },
        "c8614994e06e4cf09036dfab3035922f": {
          "model_module": "@jupyter-widgets/controls",
          "model_name": "HBoxModel",
          "state": {
            "_view_name": "HBoxView",
            "_dom_classes": [],
            "_model_name": "HBoxModel",
            "_view_module": "@jupyter-widgets/controls",
            "_model_module_version": "1.5.0",
            "_view_count": null,
            "_view_module_version": "1.5.0",
            "box_style": "",
            "layout": "IPY_MODEL_c1eef85b665d47e99bda492769ce086f",
            "_model_module": "@jupyter-widgets/controls",
            "children": [
              "IPY_MODEL_cb25c0ed984042c2964affe49abac36f",
              "IPY_MODEL_d25751f93ecc424bab94a26a4695e78d"
            ]
          }
        },
        "c1eef85b665d47e99bda492769ce086f": {
          "model_module": "@jupyter-widgets/base",
          "model_name": "LayoutModel",
          "state": {
            "_view_name": "LayoutView",
            "grid_template_rows": null,
            "right": null,
            "justify_content": null,
            "_view_module": "@jupyter-widgets/base",
            "overflow": null,
            "_model_module_version": "1.2.0",
            "_view_count": null,
            "flex_flow": null,
            "width": null,
            "min_width": null,
            "border": null,
            "align_items": null,
            "bottom": null,
            "_model_module": "@jupyter-widgets/base",
            "top": null,
            "grid_column": null,
            "overflow_y": null,
            "overflow_x": null,
            "grid_auto_flow": null,
            "grid_area": null,
            "grid_template_columns": null,
            "flex": null,
            "_model_name": "LayoutModel",
            "justify_items": null,
            "grid_row": null,
            "max_height": null,
            "align_content": null,
            "visibility": null,
            "align_self": null,
            "height": null,
            "min_height": null,
            "padding": null,
            "grid_auto_rows": null,
            "grid_gap": null,
            "max_width": null,
            "order": null,
            "_view_module_version": "1.2.0",
            "grid_template_areas": null,
            "object_position": null,
            "object_fit": null,
            "grid_auto_columns": null,
            "margin": null,
            "display": null,
            "left": null
          }
        },
        "cb25c0ed984042c2964affe49abac36f": {
          "model_module": "@jupyter-widgets/controls",
          "model_name": "FloatProgressModel",
          "state": {
            "_view_name": "ProgressView",
            "style": "IPY_MODEL_d487c18bbdc44754a446af56f6dd01eb",
            "_dom_classes": [],
            "description": "Downloading: 100%",
            "_model_name": "FloatProgressModel",
            "bar_style": "success",
            "max": 231508,
            "_view_module": "@jupyter-widgets/controls",
            "_model_module_version": "1.5.0",
            "value": 231508,
            "_view_count": null,
            "_view_module_version": "1.5.0",
            "orientation": "horizontal",
            "min": 0,
            "description_tooltip": null,
            "_model_module": "@jupyter-widgets/controls",
            "layout": "IPY_MODEL_1cb13bba6b9b4e5ea2cbc9109d1e29d4"
          }
        },
        "d25751f93ecc424bab94a26a4695e78d": {
          "model_module": "@jupyter-widgets/controls",
          "model_name": "HTMLModel",
          "state": {
            "_view_name": "HTMLView",
            "style": "IPY_MODEL_c1f41e8ceaae461283b644ad0eec44cf",
            "_dom_classes": [],
            "description": "",
            "_model_name": "HTMLModel",
            "placeholder": "​",
            "_view_module": "@jupyter-widgets/controls",
            "_model_module_version": "1.5.0",
            "value": " 232k/232k [00:01&lt;00:00, 136kB/s]",
            "_view_count": null,
            "_view_module_version": "1.5.0",
            "description_tooltip": null,
            "_model_module": "@jupyter-widgets/controls",
            "layout": "IPY_MODEL_8b15e7fdc3bc47838a9de2e0cf5187d4"
          }
        },
        "d487c18bbdc44754a446af56f6dd01eb": {
          "model_module": "@jupyter-widgets/controls",
          "model_name": "ProgressStyleModel",
          "state": {
            "_view_name": "StyleView",
            "_model_name": "ProgressStyleModel",
            "description_width": "initial",
            "_view_module": "@jupyter-widgets/base",
            "_model_module_version": "1.5.0",
            "_view_count": null,
            "_view_module_version": "1.2.0",
            "bar_color": null,
            "_model_module": "@jupyter-widgets/controls"
          }
        },
        "1cb13bba6b9b4e5ea2cbc9109d1e29d4": {
          "model_module": "@jupyter-widgets/base",
          "model_name": "LayoutModel",
          "state": {
            "_view_name": "LayoutView",
            "grid_template_rows": null,
            "right": null,
            "justify_content": null,
            "_view_module": "@jupyter-widgets/base",
            "overflow": null,
            "_model_module_version": "1.2.0",
            "_view_count": null,
            "flex_flow": null,
            "width": null,
            "min_width": null,
            "border": null,
            "align_items": null,
            "bottom": null,
            "_model_module": "@jupyter-widgets/base",
            "top": null,
            "grid_column": null,
            "overflow_y": null,
            "overflow_x": null,
            "grid_auto_flow": null,
            "grid_area": null,
            "grid_template_columns": null,
            "flex": null,
            "_model_name": "LayoutModel",
            "justify_items": null,
            "grid_row": null,
            "max_height": null,
            "align_content": null,
            "visibility": null,
            "align_self": null,
            "height": null,
            "min_height": null,
            "padding": null,
            "grid_auto_rows": null,
            "grid_gap": null,
            "max_width": null,
            "order": null,
            "_view_module_version": "1.2.0",
            "grid_template_areas": null,
            "object_position": null,
            "object_fit": null,
            "grid_auto_columns": null,
            "margin": null,
            "display": null,
            "left": null
          }
        },
        "c1f41e8ceaae461283b644ad0eec44cf": {
          "model_module": "@jupyter-widgets/controls",
          "model_name": "DescriptionStyleModel",
          "state": {
            "_view_name": "StyleView",
            "_model_name": "DescriptionStyleModel",
            "description_width": "",
            "_view_module": "@jupyter-widgets/base",
            "_model_module_version": "1.5.0",
            "_view_count": null,
            "_view_module_version": "1.2.0",
            "_model_module": "@jupyter-widgets/controls"
          }
        },
        "8b15e7fdc3bc47838a9de2e0cf5187d4": {
          "model_module": "@jupyter-widgets/base",
          "model_name": "LayoutModel",
          "state": {
            "_view_name": "LayoutView",
            "grid_template_rows": null,
            "right": null,
            "justify_content": null,
            "_view_module": "@jupyter-widgets/base",
            "overflow": null,
            "_model_module_version": "1.2.0",
            "_view_count": null,
            "flex_flow": null,
            "width": null,
            "min_width": null,
            "border": null,
            "align_items": null,
            "bottom": null,
            "_model_module": "@jupyter-widgets/base",
            "top": null,
            "grid_column": null,
            "overflow_y": null,
            "overflow_x": null,
            "grid_auto_flow": null,
            "grid_area": null,
            "grid_template_columns": null,
            "flex": null,
            "_model_name": "LayoutModel",
            "justify_items": null,
            "grid_row": null,
            "max_height": null,
            "align_content": null,
            "visibility": null,
            "align_self": null,
            "height": null,
            "min_height": null,
            "padding": null,
            "grid_auto_rows": null,
            "grid_gap": null,
            "max_width": null,
            "order": null,
            "_view_module_version": "1.2.0",
            "grid_template_areas": null,
            "object_position": null,
            "object_fit": null,
            "grid_auto_columns": null,
            "margin": null,
            "display": null,
            "left": null
          }
        },
        "f2ce12a534d34d079bc49ea34061b144": {
          "model_module": "@jupyter-widgets/controls",
          "model_name": "HBoxModel",
          "state": {
            "_view_name": "HBoxView",
            "_dom_classes": [],
            "_model_name": "HBoxModel",
            "_view_module": "@jupyter-widgets/controls",
            "_model_module_version": "1.5.0",
            "_view_count": null,
            "_view_module_version": "1.5.0",
            "box_style": "",
            "layout": "IPY_MODEL_c4ecf4ec49d94066b98e21e9529f2e72",
            "_model_module": "@jupyter-widgets/controls",
            "children": [
              "IPY_MODEL_7b1f44b740444df5a5b510158974b22e",
              "IPY_MODEL_ba81bea2e28b4c7fa713f2fd25ec2f81"
            ]
          }
        },
        "c4ecf4ec49d94066b98e21e9529f2e72": {
          "model_module": "@jupyter-widgets/base",
          "model_name": "LayoutModel",
          "state": {
            "_view_name": "LayoutView",
            "grid_template_rows": null,
            "right": null,
            "justify_content": null,
            "_view_module": "@jupyter-widgets/base",
            "overflow": null,
            "_model_module_version": "1.2.0",
            "_view_count": null,
            "flex_flow": null,
            "width": null,
            "min_width": null,
            "border": null,
            "align_items": null,
            "bottom": null,
            "_model_module": "@jupyter-widgets/base",
            "top": null,
            "grid_column": null,
            "overflow_y": null,
            "overflow_x": null,
            "grid_auto_flow": null,
            "grid_area": null,
            "grid_template_columns": null,
            "flex": null,
            "_model_name": "LayoutModel",
            "justify_items": null,
            "grid_row": null,
            "max_height": null,
            "align_content": null,
            "visibility": null,
            "align_self": null,
            "height": null,
            "min_height": null,
            "padding": null,
            "grid_auto_rows": null,
            "grid_gap": null,
            "max_width": null,
            "order": null,
            "_view_module_version": "1.2.0",
            "grid_template_areas": null,
            "object_position": null,
            "object_fit": null,
            "grid_auto_columns": null,
            "margin": null,
            "display": null,
            "left": null
          }
        },
        "7b1f44b740444df5a5b510158974b22e": {
          "model_module": "@jupyter-widgets/controls",
          "model_name": "FloatProgressModel",
          "state": {
            "_view_name": "ProgressView",
            "style": "IPY_MODEL_0b176202fffd462a9653e4a02c38e47e",
            "_dom_classes": [],
            "description": "Downloading: 100%",
            "_model_name": "FloatProgressModel",
            "bar_style": "success",
            "max": 112,
            "_view_module": "@jupyter-widgets/controls",
            "_model_module_version": "1.5.0",
            "value": 112,
            "_view_count": null,
            "_view_module_version": "1.5.0",
            "orientation": "horizontal",
            "min": 0,
            "description_tooltip": null,
            "_model_module": "@jupyter-widgets/controls",
            "layout": "IPY_MODEL_8259363261654d38a5228192b30e682b"
          }
        },
        "ba81bea2e28b4c7fa713f2fd25ec2f81": {
          "model_module": "@jupyter-widgets/controls",
          "model_name": "HTMLModel",
          "state": {
            "_view_name": "HTMLView",
            "style": "IPY_MODEL_82b0dc06cb6145b18452be00bff98e14",
            "_dom_classes": [],
            "description": "",
            "_model_name": "HTMLModel",
            "placeholder": "​",
            "_view_module": "@jupyter-widgets/controls",
            "_model_module_version": "1.5.0",
            "value": " 112/112 [00:00&lt;00:00, 169B/s]",
            "_view_count": null,
            "_view_module_version": "1.5.0",
            "description_tooltip": null,
            "_model_module": "@jupyter-widgets/controls",
            "layout": "IPY_MODEL_4c42a0c500ef4dfa83e6ab25fad60aaa"
          }
        },
        "0b176202fffd462a9653e4a02c38e47e": {
          "model_module": "@jupyter-widgets/controls",
          "model_name": "ProgressStyleModel",
          "state": {
            "_view_name": "StyleView",
            "_model_name": "ProgressStyleModel",
            "description_width": "initial",
            "_view_module": "@jupyter-widgets/base",
            "_model_module_version": "1.5.0",
            "_view_count": null,
            "_view_module_version": "1.2.0",
            "bar_color": null,
            "_model_module": "@jupyter-widgets/controls"
          }
        },
        "8259363261654d38a5228192b30e682b": {
          "model_module": "@jupyter-widgets/base",
          "model_name": "LayoutModel",
          "state": {
            "_view_name": "LayoutView",
            "grid_template_rows": null,
            "right": null,
            "justify_content": null,
            "_view_module": "@jupyter-widgets/base",
            "overflow": null,
            "_model_module_version": "1.2.0",
            "_view_count": null,
            "flex_flow": null,
            "width": null,
            "min_width": null,
            "border": null,
            "align_items": null,
            "bottom": null,
            "_model_module": "@jupyter-widgets/base",
            "top": null,
            "grid_column": null,
            "overflow_y": null,
            "overflow_x": null,
            "grid_auto_flow": null,
            "grid_area": null,
            "grid_template_columns": null,
            "flex": null,
            "_model_name": "LayoutModel",
            "justify_items": null,
            "grid_row": null,
            "max_height": null,
            "align_content": null,
            "visibility": null,
            "align_self": null,
            "height": null,
            "min_height": null,
            "padding": null,
            "grid_auto_rows": null,
            "grid_gap": null,
            "max_width": null,
            "order": null,
            "_view_module_version": "1.2.0",
            "grid_template_areas": null,
            "object_position": null,
            "object_fit": null,
            "grid_auto_columns": null,
            "margin": null,
            "display": null,
            "left": null
          }
        },
        "82b0dc06cb6145b18452be00bff98e14": {
          "model_module": "@jupyter-widgets/controls",
          "model_name": "DescriptionStyleModel",
          "state": {
            "_view_name": "StyleView",
            "_model_name": "DescriptionStyleModel",
            "description_width": "",
            "_view_module": "@jupyter-widgets/base",
            "_model_module_version": "1.5.0",
            "_view_count": null,
            "_view_module_version": "1.2.0",
            "_model_module": "@jupyter-widgets/controls"
          }
        },
        "4c42a0c500ef4dfa83e6ab25fad60aaa": {
          "model_module": "@jupyter-widgets/base",
          "model_name": "LayoutModel",
          "state": {
            "_view_name": "LayoutView",
            "grid_template_rows": null,
            "right": null,
            "justify_content": null,
            "_view_module": "@jupyter-widgets/base",
            "overflow": null,
            "_model_module_version": "1.2.0",
            "_view_count": null,
            "flex_flow": null,
            "width": null,
            "min_width": null,
            "border": null,
            "align_items": null,
            "bottom": null,
            "_model_module": "@jupyter-widgets/base",
            "top": null,
            "grid_column": null,
            "overflow_y": null,
            "overflow_x": null,
            "grid_auto_flow": null,
            "grid_area": null,
            "grid_template_columns": null,
            "flex": null,
            "_model_name": "LayoutModel",
            "justify_items": null,
            "grid_row": null,
            "max_height": null,
            "align_content": null,
            "visibility": null,
            "align_self": null,
            "height": null,
            "min_height": null,
            "padding": null,
            "grid_auto_rows": null,
            "grid_gap": null,
            "max_width": null,
            "order": null,
            "_view_module_version": "1.2.0",
            "grid_template_areas": null,
            "object_position": null,
            "object_fit": null,
            "grid_auto_columns": null,
            "margin": null,
            "display": null,
            "left": null
          }
        },
        "9d3639b76f45488ea8c2b2d6b5750e37": {
          "model_module": "@jupyter-widgets/controls",
          "model_name": "HBoxModel",
          "state": {
            "_view_name": "HBoxView",
            "_dom_classes": [],
            "_model_name": "HBoxModel",
            "_view_module": "@jupyter-widgets/controls",
            "_model_module_version": "1.5.0",
            "_view_count": null,
            "_view_module_version": "1.5.0",
            "box_style": "",
            "layout": "IPY_MODEL_298b171e15014f9583241e31db4b6887",
            "_model_module": "@jupyter-widgets/controls",
            "children": [
              "IPY_MODEL_ec01d2218d3c4be5ada5928680f79e17",
              "IPY_MODEL_df8edd77a476411295019f1b87b9b507"
            ]
          }
        },
        "298b171e15014f9583241e31db4b6887": {
          "model_module": "@jupyter-widgets/base",
          "model_name": "LayoutModel",
          "state": {
            "_view_name": "LayoutView",
            "grid_template_rows": null,
            "right": null,
            "justify_content": null,
            "_view_module": "@jupyter-widgets/base",
            "overflow": null,
            "_model_module_version": "1.2.0",
            "_view_count": null,
            "flex_flow": null,
            "width": null,
            "min_width": null,
            "border": null,
            "align_items": null,
            "bottom": null,
            "_model_module": "@jupyter-widgets/base",
            "top": null,
            "grid_column": null,
            "overflow_y": null,
            "overflow_x": null,
            "grid_auto_flow": null,
            "grid_area": null,
            "grid_template_columns": null,
            "flex": null,
            "_model_name": "LayoutModel",
            "justify_items": null,
            "grid_row": null,
            "max_height": null,
            "align_content": null,
            "visibility": null,
            "align_self": null,
            "height": null,
            "min_height": null,
            "padding": null,
            "grid_auto_rows": null,
            "grid_gap": null,
            "max_width": null,
            "order": null,
            "_view_module_version": "1.2.0",
            "grid_template_areas": null,
            "object_position": null,
            "object_fit": null,
            "grid_auto_columns": null,
            "margin": null,
            "display": null,
            "left": null
          }
        },
        "ec01d2218d3c4be5ada5928680f79e17": {
          "model_module": "@jupyter-widgets/controls",
          "model_name": "FloatProgressModel",
          "state": {
            "_view_name": "ProgressView",
            "style": "IPY_MODEL_4ac67293b2b84ef89635122d9ef9a194",
            "_dom_classes": [],
            "description": "Downloading: 100%",
            "_model_name": "FloatProgressModel",
            "bar_style": "success",
            "max": 152,
            "_view_module": "@jupyter-widgets/controls",
            "_model_module_version": "1.5.0",
            "value": 152,
            "_view_count": null,
            "_view_module_version": "1.5.0",
            "orientation": "horizontal",
            "min": 0,
            "description_tooltip": null,
            "_model_module": "@jupyter-widgets/controls",
            "layout": "IPY_MODEL_56f2ccc09d96441a88a9adaae702bd85"
          }
        },
        "df8edd77a476411295019f1b87b9b507": {
          "model_module": "@jupyter-widgets/controls",
          "model_name": "HTMLModel",
          "state": {
            "_view_name": "HTMLView",
            "style": "IPY_MODEL_cf5ddaa604064c6cb81a8c001b52e954",
            "_dom_classes": [],
            "description": "",
            "_model_name": "HTMLModel",
            "placeholder": "​",
            "_view_module": "@jupyter-widgets/controls",
            "_model_module_version": "1.5.0",
            "value": " 152/152 [00:00&lt;00:00, 1.81kB/s]",
            "_view_count": null,
            "_view_module_version": "1.5.0",
            "description_tooltip": null,
            "_model_module": "@jupyter-widgets/controls",
            "layout": "IPY_MODEL_84b8f6db14d24770a5e8dde2a2556e8b"
          }
        },
        "4ac67293b2b84ef89635122d9ef9a194": {
          "model_module": "@jupyter-widgets/controls",
          "model_name": "ProgressStyleModel",
          "state": {
            "_view_name": "StyleView",
            "_model_name": "ProgressStyleModel",
            "description_width": "initial",
            "_view_module": "@jupyter-widgets/base",
            "_model_module_version": "1.5.0",
            "_view_count": null,
            "_view_module_version": "1.2.0",
            "bar_color": null,
            "_model_module": "@jupyter-widgets/controls"
          }
        },
        "56f2ccc09d96441a88a9adaae702bd85": {
          "model_module": "@jupyter-widgets/base",
          "model_name": "LayoutModel",
          "state": {
            "_view_name": "LayoutView",
            "grid_template_rows": null,
            "right": null,
            "justify_content": null,
            "_view_module": "@jupyter-widgets/base",
            "overflow": null,
            "_model_module_version": "1.2.0",
            "_view_count": null,
            "flex_flow": null,
            "width": null,
            "min_width": null,
            "border": null,
            "align_items": null,
            "bottom": null,
            "_model_module": "@jupyter-widgets/base",
            "top": null,
            "grid_column": null,
            "overflow_y": null,
            "overflow_x": null,
            "grid_auto_flow": null,
            "grid_area": null,
            "grid_template_columns": null,
            "flex": null,
            "_model_name": "LayoutModel",
            "justify_items": null,
            "grid_row": null,
            "max_height": null,
            "align_content": null,
            "visibility": null,
            "align_self": null,
            "height": null,
            "min_height": null,
            "padding": null,
            "grid_auto_rows": null,
            "grid_gap": null,
            "max_width": null,
            "order": null,
            "_view_module_version": "1.2.0",
            "grid_template_areas": null,
            "object_position": null,
            "object_fit": null,
            "grid_auto_columns": null,
            "margin": null,
            "display": null,
            "left": null
          }
        },
        "cf5ddaa604064c6cb81a8c001b52e954": {
          "model_module": "@jupyter-widgets/controls",
          "model_name": "DescriptionStyleModel",
          "state": {
            "_view_name": "StyleView",
            "_model_name": "DescriptionStyleModel",
            "description_width": "",
            "_view_module": "@jupyter-widgets/base",
            "_model_module_version": "1.5.0",
            "_view_count": null,
            "_view_module_version": "1.2.0",
            "_model_module": "@jupyter-widgets/controls"
          }
        },
        "84b8f6db14d24770a5e8dde2a2556e8b": {
          "model_module": "@jupyter-widgets/base",
          "model_name": "LayoutModel",
          "state": {
            "_view_name": "LayoutView",
            "grid_template_rows": null,
            "right": null,
            "justify_content": null,
            "_view_module": "@jupyter-widgets/base",
            "overflow": null,
            "_model_module_version": "1.2.0",
            "_view_count": null,
            "flex_flow": null,
            "width": null,
            "min_width": null,
            "border": null,
            "align_items": null,
            "bottom": null,
            "_model_module": "@jupyter-widgets/base",
            "top": null,
            "grid_column": null,
            "overflow_y": null,
            "overflow_x": null,
            "grid_auto_flow": null,
            "grid_area": null,
            "grid_template_columns": null,
            "flex": null,
            "_model_name": "LayoutModel",
            "justify_items": null,
            "grid_row": null,
            "max_height": null,
            "align_content": null,
            "visibility": null,
            "align_self": null,
            "height": null,
            "min_height": null,
            "padding": null,
            "grid_auto_rows": null,
            "grid_gap": null,
            "max_width": null,
            "order": null,
            "_view_module_version": "1.2.0",
            "grid_template_areas": null,
            "object_position": null,
            "object_fit": null,
            "grid_auto_columns": null,
            "margin": null,
            "display": null,
            "left": null
          }
        }
      }
    }
  },
  "cells": [
    {
      "cell_type": "markdown",
      "metadata": {
        "id": "bBXHKtr84syG"
      },
      "source": [
        "# ***Alexanda Apostolopoulou***\n",
        "# ***1115201700005***\n",
        "# *Project 4 in AI (II)* "
      ]
    },
    {
      "cell_type": "markdown",
      "metadata": {
        "id": "LHKZ1NuUw3QI"
      },
      "source": [
        "# 2nd Model of Sentence Embeddings"
      ]
    },
    {
      "cell_type": "code",
      "metadata": {
        "colab": {
          "base_uri": "https://localhost:8080/"
        },
        "id": "1OLeQyU4nNA-",
        "outputId": "4eec5940-92d5-48c3-f047-dbaef1f28528"
      },
      "source": [
        "import pandas as pd\n",
        "import numpy as np\n",
        "import pickle\n",
        "import glob\n",
        "import json  \n",
        "from pandas.io.json import json_normalize  \n",
        "from nltk.tokenize import sent_tokenize\n",
        "import nltk\n",
        "!pip install spicy\n",
        "import scipy.spatial\n",
        "nltk.download('punkt')"
      ],
      "execution_count": null,
      "outputs": [
        {
          "output_type": "stream",
          "text": [
            "Collecting spicy\n",
            "  Downloading https://files.pythonhosted.org/packages/10/f7/58fd43678e56f6eed4b4a186dba367be3b56f95bb5a15741a0bf9861dde4/spicy-0.16.0-py2.py3-none-any.whl\n",
            "Requirement already satisfied: scipy in /usr/local/lib/python3.6/dist-packages (from spicy) (1.4.1)\n",
            "Requirement already satisfied: numpy>=1.13.3 in /usr/local/lib/python3.6/dist-packages (from scipy->spicy) (1.19.5)\n",
            "Installing collected packages: spicy\n",
            "Successfully installed spicy-0.16.0\n",
            "[nltk_data] Downloading package punkt to /root/nltk_data...\n",
            "[nltk_data]   Unzipping tokenizers/punkt.zip.\n"
          ],
          "name": "stdout"
        },
        {
          "output_type": "execute_result",
          "data": {
            "text/plain": [
              "True"
            ]
          },
          "metadata": {
            "tags": []
          },
          "execution_count": 1
        }
      ]
    },
    {
      "cell_type": "markdown",
      "metadata": {
        "id": "XPv3nPvlv6RE"
      },
      "source": [
        "####***Note:*** I implement both questions 1 and 2 in the same notebook"
      ]
    },
    {
      "cell_type": "markdown",
      "metadata": {
        "id": "vpa4LXrqJkc-"
      },
      "source": [
        "## ***Step 1:*** Download and Preprocess of data"
      ]
    },
    {
      "cell_type": "markdown",
      "metadata": {
        "id": "G-vE8oeFxiCi"
      },
      "source": [
        "Here I download the initial dataset of COVID-19 Open Research Dataset (CORD-19) as the previous model. I selected another dataset that have 118 more articles this time."
      ]
    },
    {
      "cell_type": "markdown",
      "metadata": {
        "id": "90Lk8rbLMSPG"
      },
      "source": [
        "Download the dataset"
      ]
    },
    {
      "cell_type": "code",
      "metadata": {
        "id": "AZm6VFLFTj8H"
      },
      "source": [
        "# !wget https://ai2-semanticscholar-cord-19.s3-us-west-2.amazonaws.com/historical_releases/cord-19_2020-03-13.tar.gz\n",
        "# !wget https://ai2-semanticscholar-cord-19.s3-us-west-2.amazonaws.com/historical_releases/cord-19_2020-03-20.tar.gz"
      ],
      "execution_count": null,
      "outputs": []
    },
    {
      "cell_type": "markdown",
      "metadata": {
        "id": "hmCs8Q5XMWK2"
      },
      "source": [
        "Extract the folder"
      ]
    },
    {
      "cell_type": "code",
      "metadata": {
        "id": "lfzCFwpjlQGU"
      },
      "source": [
        "# !tar -xf cord-19_2020-03-13.tar.gz\n",
        "# !tar -xf cord-19_2020-03-20.tar.gz"
      ],
      "execution_count": null,
      "outputs": []
    },
    {
      "cell_type": "markdown",
      "metadata": {
        "id": "a1M21TiZNqH2"
      },
      "source": [
        "Go to specific file"
      ]
    },
    {
      "cell_type": "code",
      "metadata": {
        "id": "0PoF2XjglqzT"
      },
      "source": [
        "# %cd /content/2020-03-13\n",
        "# %cd /content/2020-03-20"
      ],
      "execution_count": null,
      "outputs": []
    },
    {
      "cell_type": "markdown",
      "metadata": {
        "id": "kG8ADqgtN0B8"
      },
      "source": [
        "Extract the desirable folder"
      ]
    },
    {
      "cell_type": "code",
      "metadata": {
        "id": "CeWVZsDtm3ni"
      },
      "source": [
        "# !tar -xf comm_use_subset.tar.gz"
      ],
      "execution_count": null,
      "outputs": []
    },
    {
      "cell_type": "markdown",
      "metadata": {
        "id": "KTMvVCqBOXfq"
      },
      "source": [
        "####Here I take only the title, the abstract and the body texts of each paper and I save them to list of lists as in the previous notebook"
      ]
    },
    {
      "cell_type": "code",
      "metadata": {
        "id": "E6gftCmLNOvs"
      },
      "source": [
        "# data = []\n",
        "\n",
        "# files = glob.glob('comm_use_subset/*', recursive=True)\n",
        "\n",
        "# for single_file in files:\n",
        "# # with open('0093f9ae0861afc0d29fff935ae6a3af898cea00.json', 'r') as f:\n",
        "#   with open(single_file, 'r') as f:\n",
        "#     d = json.load(f) \n",
        "\n",
        "#     df = pd.json_normalize(d)\n",
        "\n",
        "#     title = df['metadata.title'].item()\n",
        "\n",
        "#     if df['abstract'].item() == []:\n",
        "#       abstract = df['abstract'].item()\n",
        "#     else:\n",
        "#       abstract_data = pd.json_normalize(data = d, record_path ='abstract') \n",
        "#       if (abstract_data['text'].shape[0] > 1):\n",
        "#         abstract = abstract_data['text'].str.cat(sep='. ')\n",
        "#       else:\n",
        "#         abstract = abstract_data['text'].item()\n",
        "\n",
        "#     text_data = pd.json_normalize(data = d, record_path ='body_text') \n",
        "\n",
        "#     body_list = text_data['text'].values.tolist()\n",
        "\n",
        "#     body_list = [[el] for el in body_list] \n",
        "\n",
        "#     data.append([title,abstract,body_list])"
      ],
      "execution_count": null,
      "outputs": []
    },
    {
      "cell_type": "code",
      "metadata": {
        "id": "W9meJdR1V-eL"
      },
      "source": [
        "# print(len(data))"
      ],
      "execution_count": null,
      "outputs": []
    },
    {
      "cell_type": "code",
      "metadata": {
        "id": "H1VtjWQLi-38"
      },
      "source": [
        "# print(data[0])\n",
        "# print('\\n')\n",
        "# print(data[0][0])\n",
        "# print('\\n')\n",
        "# print(data[0][1])\n",
        "# print('\\n')\n",
        "# print(data[0][2])\n",
        "# print(len(data[0][2]))"
      ],
      "execution_count": null,
      "outputs": []
    },
    {
      "cell_type": "markdown",
      "metadata": {
        "id": "mCslLI5PP_v_"
      },
      "source": [
        "Save the previous data locally and then in my Google Drive"
      ]
    },
    {
      "cell_type": "code",
      "metadata": {
        "id": "ip_XYYzbn420"
      },
      "source": [
        "# import os\n",
        "# cwd = os.getcwd()\n",
        "# print(cwd)"
      ],
      "execution_count": null,
      "outputs": []
    },
    {
      "cell_type": "code",
      "metadata": {
        "id": "TWzufphinSlB"
      },
      "source": [
        "# with open('listfile_3.data', 'wb') as filehandle:\n",
        "#     # store the data as binary data stream\n",
        "#     pickle.dump(data, filehandle)"
      ],
      "execution_count": null,
      "outputs": []
    },
    {
      "cell_type": "code",
      "metadata": {
        "id": "zjpV8EyCoGWC"
      },
      "source": [
        "# with open('listfile_3.data', 'rb') as filehandle:\n",
        "#     # read the data as binary data stream\n",
        "#     articles = pickle.load(filehandle)"
      ],
      "execution_count": null,
      "outputs": []
    },
    {
      "cell_type": "code",
      "metadata": {
        "id": "d1NxVnHvoPkP"
      },
      "source": [
        "# print(len(articles))\n",
        "# print(articles[0])\n",
        "# print('\\n')\n",
        "# print(articles[0][0])\n",
        "# print('\\n')\n",
        "# print(articles[0][1])\n",
        "# print('\\n')\n",
        "# print(articles[0][2])"
      ],
      "execution_count": null,
      "outputs": []
    },
    {
      "cell_type": "code",
      "metadata": {
        "id": "UJc3BFCyuTDt"
      },
      "source": [
        "# import shutil\n",
        "# shutil.move('/content/listfile_3.data', '/content/drive/MyDrive/listfile_3.data')\n",
        "# # shutil.move('/content/listfile_2.data', '/content/drive/MyDrive/listfile_2.data')"
      ],
      "execution_count": null,
      "outputs": []
    },
    {
      "cell_type": "markdown",
      "metadata": {
        "id": "AAjdF-KFQFva"
      },
      "source": [
        "## ***Step 2:*** Load my preprocess data from my Drive"
      ]
    },
    {
      "cell_type": "code",
      "metadata": {
        "id": "BzKhXX00ujwN"
      },
      "source": [
        "with open('/content/drive/MyDrive/listfile_3.data', 'rb') as filehandle:\n",
        "    # read the data as binary data stream\n",
        "    articles = pickle.load(filehandle)"
      ],
      "execution_count": null,
      "outputs": []
    },
    {
      "cell_type": "markdown",
      "metadata": {
        "id": "pIFv0M4SQXqC"
      },
      "source": [
        "Check if everything is ok"
      ]
    },
    {
      "cell_type": "code",
      "metadata": {
        "colab": {
          "base_uri": "https://localhost:8080/"
        },
        "id": "75ULukVcvENA",
        "outputId": "f166366e-2d62-41b7-95b1-47899b7452fa"
      },
      "source": [
        "# Print the number of articles\n",
        "print(len(articles))\n",
        "# Print the first article\n",
        "print(articles[0])\n",
        "print('\\n')\n",
        "# Print the first title \n",
        "print(articles[0][0])\n",
        "print('\\n')\n",
        "# Print the first abstract \n",
        "print(articles[0][1])\n",
        "print('\\n')\n",
        "# Print the first body text \n",
        "print(articles[0][2])"
      ],
      "execution_count": null,
      "outputs": [
        {
          "output_type": "stream",
          "text": [
            "9118\n",
            "['Case Report Central Hypoventilation: A Case Study of Issues Associated with Travel Medicine and Respiratory Infection', \"Aim. We presented the case of a child with central hypoventilation syndrome (CHS) to highlight issues that need to be considered in planning long-haul flight and problems that may arise during the flight. Case. The pediatric intensive care unit (PICU) received a child with central hypoventilation syndrome (Ondine's curse) on nocturnal ventilatory support who travelled to Hong Kong on a make-a-wish journey. He was diagnosed with central hypoventilation and had been well managed in Canada. During a long-haul aviation travel, he developed respiratory symptoms and desaturations. The child arrived in Hong Kong and his respiratory symptoms persisted. He was taken to a PICU for management. The child remained well and investigations revealed no pathogen to account for his respiratory infection. He went on with his make-a-wish journey. Conclusions. Various issues of travel medicine such as equipment, airline arrangement, in-flight ventilatory support, travel insurance, and respiratory infection are explored and discussed. This case illustrates that long-haul air travel is possible for children with respiratory compromise if anticipatory preparation is timely arranged.\", [['Travel medicine is the branch of medicine that deals with the prevention and management of health problems of international travelers [1] [2] [3] [4] . We presented the case of a child with central hypoventilation syndrome (CHS) to highlight issues that need to be considered in planning long-haul flight and problems that may arise during the flight.'], [\"In the summer of 2013, the pediatric intensive care unit (PICU) of a hospital in Hong Kong received an 8-year-old boy with central hypoventilation with respiratory infection and decompensation en route to Hong Kong on a make-a-wish campaign. He was diagnosed with central hypoventilation (medullary atrophy) or Ondine's curse and had been well managed in Toronto, Canada. He was ambulatory, only needed home ventilatory support at night via tracheostomy, and inhaled salbutamol puffs on a prn basis, and he was on PEG (percutaneous endoscopic gastrostomy) feeding with puree food. Advanced fitness for air-travel arrangement was well negotiated with the respective commercial airline. However, he developed symptoms of respiratory infections with intermittent fever (up to 39 ∘ C), cough, and sputum for 2 days prior to departure. The child was seen at the emergency department of a children's hospital in Toronto and was treated with an oral course of cefuroxime. During the long-haul flight, symptoms of respiratory infections persisted and desaturations (86%) developed. The patient had his own oxygen monitoring and air compressor on board which needed to be increased to 1 L/min. On arrival in Hong Kong, he was taken to the emergency department. His vital signs were as follows: tympanic temperature 38.6 ∘ C, heart rate 157/min, and SpO 2 98% on own ventilator with flow 1 L/min. The home ventilator's electric plug was in Canadian style and did not fit the Hong Kong standard socket. Chest radiograph revealed mild right sided haziness. He was admitted to PICU for management. He weighed 23.2 kg and his vital signs were as follows: temperature 36.5 ∘ C, heart rate 121/min, respiratory rate 23/min, BP 97/57 mmHg, and SpO 2 97% in room air on arrival at PICU. The child received physiotherapy and the tracheostomy was temporarily connected to the ICU ventilator on SIMV mode with pressure control (PC) and pressure support (PS). Settings were FiO 2 0.25, inspiratory time (Ti) 0.9 seconds, intermittent mandatory ventilation (IMV) rate 20/min, positive end expiratory pressure (PEEP) 5 cm H 2 O, pressure control 15 cm H 2 O above PEEP, and PS 13 cm H 2 O above PEEP. There was no further desaturation, and the settings were gradually reduced to IMV 10/min and FiO 2 of 0.21. The child gave a history of drug allergy to Ativan (lorazepam) and gluten sensitivity. Sedation was not needed. He received a course of intravenous amoxicillin/clavulanate (30 mg/kg/dose, 8 hourly). The patient remained playful, talkative, and not in distress. Laboratory data were normal complete blood count with white blood cell count of 16.1 × 10 9 /L, neutrophil differential of 77%, and elevated C-reactive protein of 44.1 (normal < 9.9 mg/L). There was no bacterial or respiratory viral isolation in the tracheal aspirate. Blood culture was negative. The patient was discharged from the PICU 2 days later and went on with his make-a-wish journey to Disneyland in Hong Kong prior to returning home.\"], ['Ondine\\'s curse, also called congenital central hypoventilation syndrome (CCHS) or primary alveolar hypoventilation, is a serious form of central nervous system failure, involving an inborn failure of autonomic control of breathing. Patients generally require tracheotomies and lifetime mechanical ventilator support. With advances of home ventilatory support, patients with central hypoventilation are no longer \"cursed.\" They can live a relative normal life at home, as reported by Hon et al., even in the remote countryside setting in one case report [5] [6] [7] .'], [\"Travel medicine is the branch of medicine that deals with the prevention and management of health problems of international travelers [1] [2] [3] [4] . The field of travel medicine encompasses a wide variety of disciplines including epidemiology, infectious disease, public health, tropical medicine, high altitude physiology, travel related obstetrics, psychiatry, occupational medicine, military and migration medicine, and environmental health. In our case, potential problems that may arise during travel include cardiopulmonary disease mortality, injury, and accident. Infectious disease accounts for about 2.8-4% of deaths during/from travel [1] [2] [3] [4] [8] [9] [10] . In terms of morbidity, traveler's diarrhea is the most common problem encountered [9, 10] .\"], [\"In this day and age, international travel is made possible even for patients who need ventilatory support. Prior to a long-haul air travel, parents should negotiate with airline to detail the transport and inflight plans [8, 11, 12] . The following part gives 4 website addresses of checklists for commercial air-travel preparation for ventilated children. In our case of CCHS with specific needs for ventilatory support, the patient, family, and the airline collaborated well. In general, the patient's usual emergency medication such as inhaled salbutamol should be readily accompanying the patient. Additional space is required to station the ventilator, air compressor, and monitor. An international travel insurance policy is mandatory in this age of unexpected and unavoidable disasters [8] .\"], ['Websites of checklists for commercial air-travel preparation for ventilated children are as follows:'], ['(1) A Special Needs Preflight Checklist: 16 Things You Need to Do before Heading to the Airport (http:// www.friendshipcircle.org/blog/2012/01/09/a-specialneeds-pre-flight-checklist/). This website gives some tips about travelling with a ventilator.'], [\"One more issue pertinent to the discussion of travel medicine is advice regarding feasibility of long-haul travel in a patient with acute or intercurrent respiratory infection. Since the days of SARS (severe acute respiratory syndrome) and recently MERS (Middle East respiratory syndrome) and SARI (severe acute respiratory infection), travel transmission of novel respiratory infections has become hot issues [13] [14] [15] . Ideally, patients with an acute respiratory infection should not be travelling for the patient's own sake as well as for the sake of other passengers. However, travel may be once-in-a-lifetime opportunity for a young person with chronic illness as was in our case. This may be inhumane to the child if his/her opportunity was removed from him/her due to a non-life threatening chest infection. On the other hand, the risk has to be weighed between a seemingly minor infection which may predispose a major decompensation during long-haul travel in a child with already compromised respiratory health.\"], [\"No published literature on mortality and morbidity in children travelling with central hypoventilation syndrome or Ondine's curse is available. Critically ill children are transported safely via medical evacuation teams [16, 17] . However, critically ill children cannot be transported via commercial airlines. Our case illustrates that children who are ventilator dependent may travel in commercial airlines if they are stable. The issue of quarantine to prevent international transmission of SARI is a much more complicated issue that is likely to remain a contemporary controversy. This case illustrates the many issues associated with long-haul flight in a pediatric patient with a chronic respiratory disorder. Air travel is possible for children with respiratory compromise if anticipatory preparation is timely arranged.\"]]]\n",
            "\n",
            "\n",
            "Case Report Central Hypoventilation: A Case Study of Issues Associated with Travel Medicine and Respiratory Infection\n",
            "\n",
            "\n",
            "Aim. We presented the case of a child with central hypoventilation syndrome (CHS) to highlight issues that need to be considered in planning long-haul flight and problems that may arise during the flight. Case. The pediatric intensive care unit (PICU) received a child with central hypoventilation syndrome (Ondine's curse) on nocturnal ventilatory support who travelled to Hong Kong on a make-a-wish journey. He was diagnosed with central hypoventilation and had been well managed in Canada. During a long-haul aviation travel, he developed respiratory symptoms and desaturations. The child arrived in Hong Kong and his respiratory symptoms persisted. He was taken to a PICU for management. The child remained well and investigations revealed no pathogen to account for his respiratory infection. He went on with his make-a-wish journey. Conclusions. Various issues of travel medicine such as equipment, airline arrangement, in-flight ventilatory support, travel insurance, and respiratory infection are explored and discussed. This case illustrates that long-haul air travel is possible for children with respiratory compromise if anticipatory preparation is timely arranged.\n",
            "\n",
            "\n",
            "[['Travel medicine is the branch of medicine that deals with the prevention and management of health problems of international travelers [1] [2] [3] [4] . We presented the case of a child with central hypoventilation syndrome (CHS) to highlight issues that need to be considered in planning long-haul flight and problems that may arise during the flight.'], [\"In the summer of 2013, the pediatric intensive care unit (PICU) of a hospital in Hong Kong received an 8-year-old boy with central hypoventilation with respiratory infection and decompensation en route to Hong Kong on a make-a-wish campaign. He was diagnosed with central hypoventilation (medullary atrophy) or Ondine's curse and had been well managed in Toronto, Canada. He was ambulatory, only needed home ventilatory support at night via tracheostomy, and inhaled salbutamol puffs on a prn basis, and he was on PEG (percutaneous endoscopic gastrostomy) feeding with puree food. Advanced fitness for air-travel arrangement was well negotiated with the respective commercial airline. However, he developed symptoms of respiratory infections with intermittent fever (up to 39 ∘ C), cough, and sputum for 2 days prior to departure. The child was seen at the emergency department of a children's hospital in Toronto and was treated with an oral course of cefuroxime. During the long-haul flight, symptoms of respiratory infections persisted and desaturations (86%) developed. The patient had his own oxygen monitoring and air compressor on board which needed to be increased to 1 L/min. On arrival in Hong Kong, he was taken to the emergency department. His vital signs were as follows: tympanic temperature 38.6 ∘ C, heart rate 157/min, and SpO 2 98% on own ventilator with flow 1 L/min. The home ventilator's electric plug was in Canadian style and did not fit the Hong Kong standard socket. Chest radiograph revealed mild right sided haziness. He was admitted to PICU for management. He weighed 23.2 kg and his vital signs were as follows: temperature 36.5 ∘ C, heart rate 121/min, respiratory rate 23/min, BP 97/57 mmHg, and SpO 2 97% in room air on arrival at PICU. The child received physiotherapy and the tracheostomy was temporarily connected to the ICU ventilator on SIMV mode with pressure control (PC) and pressure support (PS). Settings were FiO 2 0.25, inspiratory time (Ti) 0.9 seconds, intermittent mandatory ventilation (IMV) rate 20/min, positive end expiratory pressure (PEEP) 5 cm H 2 O, pressure control 15 cm H 2 O above PEEP, and PS 13 cm H 2 O above PEEP. There was no further desaturation, and the settings were gradually reduced to IMV 10/min and FiO 2 of 0.21. The child gave a history of drug allergy to Ativan (lorazepam) and gluten sensitivity. Sedation was not needed. He received a course of intravenous amoxicillin/clavulanate (30 mg/kg/dose, 8 hourly). The patient remained playful, talkative, and not in distress. Laboratory data were normal complete blood count with white blood cell count of 16.1 × 10 9 /L, neutrophil differential of 77%, and elevated C-reactive protein of 44.1 (normal < 9.9 mg/L). There was no bacterial or respiratory viral isolation in the tracheal aspirate. Blood culture was negative. The patient was discharged from the PICU 2 days later and went on with his make-a-wish journey to Disneyland in Hong Kong prior to returning home.\"], ['Ondine\\'s curse, also called congenital central hypoventilation syndrome (CCHS) or primary alveolar hypoventilation, is a serious form of central nervous system failure, involving an inborn failure of autonomic control of breathing. Patients generally require tracheotomies and lifetime mechanical ventilator support. With advances of home ventilatory support, patients with central hypoventilation are no longer \"cursed.\" They can live a relative normal life at home, as reported by Hon et al., even in the remote countryside setting in one case report [5] [6] [7] .'], [\"Travel medicine is the branch of medicine that deals with the prevention and management of health problems of international travelers [1] [2] [3] [4] . The field of travel medicine encompasses a wide variety of disciplines including epidemiology, infectious disease, public health, tropical medicine, high altitude physiology, travel related obstetrics, psychiatry, occupational medicine, military and migration medicine, and environmental health. In our case, potential problems that may arise during travel include cardiopulmonary disease mortality, injury, and accident. Infectious disease accounts for about 2.8-4% of deaths during/from travel [1] [2] [3] [4] [8] [9] [10] . In terms of morbidity, traveler's diarrhea is the most common problem encountered [9, 10] .\"], [\"In this day and age, international travel is made possible even for patients who need ventilatory support. Prior to a long-haul air travel, parents should negotiate with airline to detail the transport and inflight plans [8, 11, 12] . The following part gives 4 website addresses of checklists for commercial air-travel preparation for ventilated children. In our case of CCHS with specific needs for ventilatory support, the patient, family, and the airline collaborated well. In general, the patient's usual emergency medication such as inhaled salbutamol should be readily accompanying the patient. Additional space is required to station the ventilator, air compressor, and monitor. An international travel insurance policy is mandatory in this age of unexpected and unavoidable disasters [8] .\"], ['Websites of checklists for commercial air-travel preparation for ventilated children are as follows:'], ['(1) A Special Needs Preflight Checklist: 16 Things You Need to Do before Heading to the Airport (http:// www.friendshipcircle.org/blog/2012/01/09/a-specialneeds-pre-flight-checklist/). This website gives some tips about travelling with a ventilator.'], [\"One more issue pertinent to the discussion of travel medicine is advice regarding feasibility of long-haul travel in a patient with acute or intercurrent respiratory infection. Since the days of SARS (severe acute respiratory syndrome) and recently MERS (Middle East respiratory syndrome) and SARI (severe acute respiratory infection), travel transmission of novel respiratory infections has become hot issues [13] [14] [15] . Ideally, patients with an acute respiratory infection should not be travelling for the patient's own sake as well as for the sake of other passengers. However, travel may be once-in-a-lifetime opportunity for a young person with chronic illness as was in our case. This may be inhumane to the child if his/her opportunity was removed from him/her due to a non-life threatening chest infection. On the other hand, the risk has to be weighed between a seemingly minor infection which may predispose a major decompensation during long-haul travel in a child with already compromised respiratory health.\"], [\"No published literature on mortality and morbidity in children travelling with central hypoventilation syndrome or Ondine's curse is available. Critically ill children are transported safely via medical evacuation teams [16, 17] . However, critically ill children cannot be transported via commercial airlines. Our case illustrates that children who are ventilator dependent may travel in commercial airlines if they are stable. The issue of quarantine to prevent international transmission of SARI is a much more complicated issue that is likely to remain a contemporary controversy. This case illustrates the many issues associated with long-haul flight in a pediatric patient with a chronic respiratory disorder. Air travel is possible for children with respiratory compromise if anticipatory preparation is timely arranged.\"]]\n"
          ],
          "name": "stdout"
        }
      ]
    },
    {
      "cell_type": "markdown",
      "metadata": {
        "id": "RE081LKTQgoF"
      },
      "source": [
        "## ***Step 3:*** Tokenize sentences"
      ]
    },
    {
      "cell_type": "markdown",
      "metadata": {
        "id": "Jtag6JGNRZE8"
      },
      "source": [
        "####This time I selected to tokenize only the abstract of each paper, since I wanted to search for the answer firstly with criterion these parts and not in the title and the body texts. I wanted to save more time and memory."
      ]
    },
    {
      "cell_type": "code",
      "metadata": {
        "id": "zC8wUP2UwIoN"
      },
      "source": [
        "for article in range(len(articles)):\n",
        "  # articles[article][0] = sent_tokenize(articles[article][0])\n",
        "  if articles[article][1] != []:\n",
        "    articles[article][1] = sent_tokenize(articles[article][1])\n",
        "  # articles[article][2] = sent_tokenize(articles[article][2])"
      ],
      "execution_count": null,
      "outputs": []
    },
    {
      "cell_type": "code",
      "metadata": {
        "id": "Hnrkd8aKrgUU",
        "colab": {
          "base_uri": "https://localhost:8080/"
        },
        "outputId": "3e12d5a9-1963-4fe1-c6cf-05967c51d779"
      },
      "source": [
        "print(articles[0][1])"
      ],
      "execution_count": null,
      "outputs": [
        {
          "output_type": "stream",
          "text": [
            "['Aim.', 'We presented the case of a child with central hypoventilation syndrome (CHS) to highlight issues that need to be considered in planning long-haul flight and problems that may arise during the flight.', 'Case.', \"The pediatric intensive care unit (PICU) received a child with central hypoventilation syndrome (Ondine's curse) on nocturnal ventilatory support who travelled to Hong Kong on a make-a-wish journey.\", 'He was diagnosed with central hypoventilation and had been well managed in Canada.', 'During a long-haul aviation travel, he developed respiratory symptoms and desaturations.', 'The child arrived in Hong Kong and his respiratory symptoms persisted.', 'He was taken to a PICU for management.', 'The child remained well and investigations revealed no pathogen to account for his respiratory infection.', 'He went on with his make-a-wish journey.', 'Conclusions.', 'Various issues of travel medicine such as equipment, airline arrangement, in-flight ventilatory support, travel insurance, and respiratory infection are explored and discussed.', 'This case illustrates that long-haul air travel is possible for children with respiratory compromise if anticipatory preparation is timely arranged.']\n"
          ],
          "name": "stdout"
        }
      ]
    },
    {
      "cell_type": "markdown",
      "metadata": {
        "id": "LjrmGEn7Sozr"
      },
      "source": [
        "## ***Step 4:*** Download the Tranformers and Sentence Transformers libraries"
      ]
    },
    {
      "cell_type": "code",
      "metadata": {
        "id": "zTI8R7sXuRJX"
      },
      "source": [
        "%%capture\n",
        "!pip install -q sentence-transformers==0.2.5.1\n",
        "!pip install -q transformers==2.5.1"
      ],
      "execution_count": null,
      "outputs": []
    },
    {
      "cell_type": "markdown",
      "metadata": {
        "id": "QMK4hOIo_Ub3"
      },
      "source": [
        "## ***Step 5:*** Experiment with diferrent Pretrained Dataset\n",
        "\n"
      ]
    },
    {
      "cell_type": "markdown",
      "metadata": {
        "id": "oJi8cHhKAp4m"
      },
      "source": [
        "With a little Internert reasearch, I found out that there are more relevant pretrained datasets for Covid-19. So I select a model provided by gsarti for ranking purposes ***covidbert-nli***, a fine-tuned version of Deepset's CovidBERT.\n",
        "\n",
        "This model is trained on SNLI and MultiNLI using the sentence-transformers library to produce universal sentence embeddings. Embeddings are subsequently used to perform semantic search on CORD-19.\n",
        "\n",
        "In this notebook I follow this strategy:\n",
        "\n",
        "- I rank the abstract of each article.\n",
        "- I rank the paragraphs (body texts) of the best (most similar) abstracts.\n",
        "- Comprehened the top paragraphs of the retrieved documents using HuggingFace question-answering pipeline.\n",
        "\n",
        "For comprehension I used the CovidBERT model on SQuAD question answering data ***covid_squad***, a fine-tuned version of Deepset's CovidBERT on SQuAD dataset."
      ]
    },
    {
      "cell_type": "code",
      "metadata": {
        "id": "67F8E3YbjQ_8"
      },
      "source": [
        "from transformers import AutoTokenizer, AutoModel, pipeline, AutoModelForQuestionAnswering\n",
        "from sentence_transformers import models, SentenceTransformer"
      ],
      "execution_count": null,
      "outputs": []
    },
    {
      "cell_type": "markdown",
      "metadata": {
        "id": "s79vMaqvEzde"
      },
      "source": [
        "I need to download and save locally the model and configure it for sentence-transformers to convert the data into embeddings."
      ]
    },
    {
      "cell_type": "code",
      "metadata": {
        "colab": {
          "base_uri": "https://localhost:8080/",
          "height": 316,
          "referenced_widgets": [
            "2254f52456e645918251e6a2f2e91baa",
            "6973b74cca0942d99f2ed1d5bfc9a145",
            "8ad9f0686858423f9a518bca7dd23ca5",
            "72200660b2b0470c83707a778e4083a9",
            "afa2c3acce0547d6864e89843d4e0468",
            "47d98c7ae6714583bbca465cfc25ef5b",
            "ec5f87b6fb5b4a96a66d450b041d777e",
            "62e2cef644484750936315fdddd17fd3",
            "4a2aee461ce3472e8262a8ce1aa9371c",
            "f7e10bf6f3824a26aa1c6a42a6fb4609",
            "e04cf69772764ef798fb7b357bfced7c",
            "028235f98f874ffa8956da6be7d06caa",
            "4fb2919ecc284d74b58225e37e4466b7",
            "e8b32d8243b343dfaf1593b2d4ffd8c3",
            "c61fe4862bfc45798c7c7b398ff36753",
            "a80153d870cc425a9a6fc03c9b9def08",
            "3d6dc5eb512f44d29736ce807cc3adc2",
            "977947f13ed141aaae5e608740efffa6",
            "e743a697ccc44522b5905e5afb0619f0",
            "c003902fc05d4e43809f9a60722ad51d",
            "525004c9867c48dd8f33a78b8d647ef6",
            "ff7cafd8e606442fa9dce1536f25b02c",
            "70df4654ef7441efa6b8450ef8c68787",
            "147319bd9c834f13a2dc0a511a3ad81f",
            "874d0527d8824f7497afacc2781cc9bc",
            "8e7b1bc25f0346c3a973551a76f0dd48",
            "e62d14d388254408894ff55693579a75",
            "c9893a1783084838ac2da4772ef281cc",
            "81a96664db9a4170b127489fb084188b",
            "d479daa1e0874c4cbf316f49cef5defb",
            "15194d29b57345d384e922391ec64e71",
            "d34122f7903141f282b64112aa4c5d5d",
            "973d0c61969949e0bbed81e8542d545c",
            "d59d49d5bde54f61aa1389edfabf6984",
            "9d8e31e72802479d94f53d9e31cf5545",
            "ab6e260403a04f0c8728dd5881b325b2",
            "44f2a915677046d09ff015a8620461b1",
            "9a0f3be85b074ef4b6188c6de3926b80",
            "f4f0438f7e514fb796fd37c174ff127f",
            "4f4d550043b94107b0910b416dbfe307"
          ]
        },
        "id": "QFwPk_PWjX9I",
        "outputId": "ea8403bd-2495-4cfa-9aa0-77c28aff8943"
      },
      "source": [
        "# Take specific model and its correspoding tokenizer\n",
        "tokenizer = AutoTokenizer.from_pretrained('gsarti/covidbert-nli')\n",
        "model = AutoModel.from_pretrained('gsarti/covidbert-nli')\n",
        "\n",
        "# Save the model locally\n",
        "model.save_pretrained('/content')\n",
        "tokenizer.save_pretrained('/content')"
      ],
      "execution_count": null,
      "outputs": [
        {
          "output_type": "display_data",
          "data": {
            "application/vnd.jupyter.widget-view+json": {
              "model_id": "2254f52456e645918251e6a2f2e91baa",
              "version_minor": 0,
              "version_major": 2
            },
            "text/plain": [
              "HBox(children=(FloatProgress(value=0.0, description='Downloading', max=497.0, style=ProgressStyle(description_…"
            ]
          },
          "metadata": {
            "tags": []
          }
        },
        {
          "output_type": "stream",
          "text": [
            "\n"
          ],
          "name": "stdout"
        },
        {
          "output_type": "display_data",
          "data": {
            "application/vnd.jupyter.widget-view+json": {
              "model_id": "4a2aee461ce3472e8262a8ce1aa9371c",
              "version_minor": 0,
              "version_major": 2
            },
            "text/plain": [
              "HBox(children=(FloatProgress(value=0.0, description='Downloading', max=231508.0, style=ProgressStyle(descripti…"
            ]
          },
          "metadata": {
            "tags": []
          }
        },
        {
          "output_type": "stream",
          "text": [
            "\n"
          ],
          "name": "stdout"
        },
        {
          "output_type": "display_data",
          "data": {
            "application/vnd.jupyter.widget-view+json": {
              "model_id": "3d6dc5eb512f44d29736ce807cc3adc2",
              "version_minor": 0,
              "version_major": 2
            },
            "text/plain": [
              "HBox(children=(FloatProgress(value=0.0, description='Downloading', max=112.0, style=ProgressStyle(description_…"
            ]
          },
          "metadata": {
            "tags": []
          }
        },
        {
          "output_type": "stream",
          "text": [
            "\n"
          ],
          "name": "stdout"
        },
        {
          "output_type": "display_data",
          "data": {
            "application/vnd.jupyter.widget-view+json": {
              "model_id": "874d0527d8824f7497afacc2781cc9bc",
              "version_minor": 0,
              "version_major": 2
            },
            "text/plain": [
              "HBox(children=(FloatProgress(value=0.0, description='Downloading', max=152.0, style=ProgressStyle(description_…"
            ]
          },
          "metadata": {
            "tags": []
          }
        },
        {
          "output_type": "stream",
          "text": [
            "\n"
          ],
          "name": "stdout"
        },
        {
          "output_type": "display_data",
          "data": {
            "application/vnd.jupyter.widget-view+json": {
              "model_id": "973d0c61969949e0bbed81e8542d545c",
              "version_minor": 0,
              "version_major": 2
            },
            "text/plain": [
              "HBox(children=(FloatProgress(value=0.0, description='Downloading', max=437976759.0, style=ProgressStyle(descri…"
            ]
          },
          "metadata": {
            "tags": []
          }
        },
        {
          "output_type": "stream",
          "text": [
            "\n"
          ],
          "name": "stdout"
        },
        {
          "output_type": "execute_result",
          "data": {
            "text/plain": [
              "('/content/vocab.txt',\n",
              " '/content/special_tokens_map.json',\n",
              " '/content/added_tokens.json')"
            ]
          },
          "metadata": {
            "tags": []
          },
          "execution_count": 20
        }
      ]
    },
    {
      "cell_type": "code",
      "metadata": {
        "id": "KFCSwvt2j2He"
      },
      "source": [
        "# Build the SentenceTransformer\n",
        "word_embedding_model = models.BERT('/content')"
      ],
      "execution_count": null,
      "outputs": []
    },
    {
      "cell_type": "markdown",
      "metadata": {
        "id": "n0WVOamMFkSq"
      },
      "source": [
        "Here I chose the pooling strategy of *mean*, since the paper recommended as the best strategy."
      ]
    },
    {
      "cell_type": "code",
      "metadata": {
        "id": "XQ_376a1m5nd"
      },
      "source": [
        "# Add the pooling strategy of Mean\n",
        "pooling_model = models.Pooling(word_embedding_model.get_word_embedding_dimension(),\n",
        "                                   pooling_mode_mean_tokens=True,\n",
        "                                   pooling_mode_cls_token=False,\n",
        "                                   pooling_mode_max_tokens=False)"
      ],
      "execution_count": null,
      "outputs": []
    },
    {
      "cell_type": "markdown",
      "metadata": {
        "id": "aFU1tos1GsBJ"
      },
      "source": [
        "Pass them in Sentence Tranformers "
      ]
    },
    {
      "cell_type": "code",
      "metadata": {
        "id": "9k6UtmtCm_R9"
      },
      "source": [
        "model = SentenceTransformer(modules=[word_embedding_model, pooling_model])"
      ],
      "execution_count": null,
      "outputs": []
    },
    {
      "cell_type": "markdown",
      "metadata": {
        "id": "DLUSSzWxgIxt"
      },
      "source": [
        "Here I took the whole dataset of 9118 articles, as there isn't any problem with memory or time anymore."
      ]
    },
    {
      "cell_type": "code",
      "metadata": {
        "id": "0s6PqegNnCPM"
      },
      "source": [
        "import copy\n",
        "\n",
        "mini_articles = articles[:9118]\n",
        "\n",
        "embeddings = copy.deepcopy(mini_articles)"
      ],
      "execution_count": null,
      "outputs": []
    },
    {
      "cell_type": "markdown",
      "metadata": {
        "id": "AjFy6ZkOhhC9"
      },
      "source": [
        "## ***Step 6:*** Use GPU"
      ]
    },
    {
      "cell_type": "code",
      "metadata": {
        "colab": {
          "base_uri": "https://localhost:8080/"
        },
        "id": "s7RBLwwrnYXp",
        "outputId": "3f65896a-5a46-4e84-87bc-840a0dba49d3"
      },
      "source": [
        "import torch\n",
        "device = torch.device('cuda:0' if torch.cuda.is_available()\n",
        "                      else 'cpu')\n",
        "\n",
        "print(device)\n",
        "model.to(device)"
      ],
      "execution_count": null,
      "outputs": [
        {
          "output_type": "stream",
          "text": [
            "cuda:0\n"
          ],
          "name": "stdout"
        },
        {
          "output_type": "execute_result",
          "data": {
            "text/plain": [
              "SentenceTransformer(\n",
              "  (0): BERT(\n",
              "    (bert): BertModel(\n",
              "      (embeddings): BertEmbeddings(\n",
              "        (word_embeddings): Embedding(30522, 768, padding_idx=0)\n",
              "        (position_embeddings): Embedding(512, 768)\n",
              "        (token_type_embeddings): Embedding(2, 768)\n",
              "        (LayerNorm): LayerNorm((768,), eps=1e-12, elementwise_affine=True)\n",
              "        (dropout): Dropout(p=0.1, inplace=False)\n",
              "      )\n",
              "      (encoder): BertEncoder(\n",
              "        (layer): ModuleList(\n",
              "          (0): BertLayer(\n",
              "            (attention): BertAttention(\n",
              "              (self): BertSelfAttention(\n",
              "                (query): Linear(in_features=768, out_features=768, bias=True)\n",
              "                (key): Linear(in_features=768, out_features=768, bias=True)\n",
              "                (value): Linear(in_features=768, out_features=768, bias=True)\n",
              "                (dropout): Dropout(p=0.1, inplace=False)\n",
              "              )\n",
              "              (output): BertSelfOutput(\n",
              "                (dense): Linear(in_features=768, out_features=768, bias=True)\n",
              "                (LayerNorm): LayerNorm((768,), eps=1e-12, elementwise_affine=True)\n",
              "                (dropout): Dropout(p=0.1, inplace=False)\n",
              "              )\n",
              "            )\n",
              "            (intermediate): BertIntermediate(\n",
              "              (dense): Linear(in_features=768, out_features=3072, bias=True)\n",
              "            )\n",
              "            (output): BertOutput(\n",
              "              (dense): Linear(in_features=3072, out_features=768, bias=True)\n",
              "              (LayerNorm): LayerNorm((768,), eps=1e-12, elementwise_affine=True)\n",
              "              (dropout): Dropout(p=0.1, inplace=False)\n",
              "            )\n",
              "          )\n",
              "          (1): BertLayer(\n",
              "            (attention): BertAttention(\n",
              "              (self): BertSelfAttention(\n",
              "                (query): Linear(in_features=768, out_features=768, bias=True)\n",
              "                (key): Linear(in_features=768, out_features=768, bias=True)\n",
              "                (value): Linear(in_features=768, out_features=768, bias=True)\n",
              "                (dropout): Dropout(p=0.1, inplace=False)\n",
              "              )\n",
              "              (output): BertSelfOutput(\n",
              "                (dense): Linear(in_features=768, out_features=768, bias=True)\n",
              "                (LayerNorm): LayerNorm((768,), eps=1e-12, elementwise_affine=True)\n",
              "                (dropout): Dropout(p=0.1, inplace=False)\n",
              "              )\n",
              "            )\n",
              "            (intermediate): BertIntermediate(\n",
              "              (dense): Linear(in_features=768, out_features=3072, bias=True)\n",
              "            )\n",
              "            (output): BertOutput(\n",
              "              (dense): Linear(in_features=3072, out_features=768, bias=True)\n",
              "              (LayerNorm): LayerNorm((768,), eps=1e-12, elementwise_affine=True)\n",
              "              (dropout): Dropout(p=0.1, inplace=False)\n",
              "            )\n",
              "          )\n",
              "          (2): BertLayer(\n",
              "            (attention): BertAttention(\n",
              "              (self): BertSelfAttention(\n",
              "                (query): Linear(in_features=768, out_features=768, bias=True)\n",
              "                (key): Linear(in_features=768, out_features=768, bias=True)\n",
              "                (value): Linear(in_features=768, out_features=768, bias=True)\n",
              "                (dropout): Dropout(p=0.1, inplace=False)\n",
              "              )\n",
              "              (output): BertSelfOutput(\n",
              "                (dense): Linear(in_features=768, out_features=768, bias=True)\n",
              "                (LayerNorm): LayerNorm((768,), eps=1e-12, elementwise_affine=True)\n",
              "                (dropout): Dropout(p=0.1, inplace=False)\n",
              "              )\n",
              "            )\n",
              "            (intermediate): BertIntermediate(\n",
              "              (dense): Linear(in_features=768, out_features=3072, bias=True)\n",
              "            )\n",
              "            (output): BertOutput(\n",
              "              (dense): Linear(in_features=3072, out_features=768, bias=True)\n",
              "              (LayerNorm): LayerNorm((768,), eps=1e-12, elementwise_affine=True)\n",
              "              (dropout): Dropout(p=0.1, inplace=False)\n",
              "            )\n",
              "          )\n",
              "          (3): BertLayer(\n",
              "            (attention): BertAttention(\n",
              "              (self): BertSelfAttention(\n",
              "                (query): Linear(in_features=768, out_features=768, bias=True)\n",
              "                (key): Linear(in_features=768, out_features=768, bias=True)\n",
              "                (value): Linear(in_features=768, out_features=768, bias=True)\n",
              "                (dropout): Dropout(p=0.1, inplace=False)\n",
              "              )\n",
              "              (output): BertSelfOutput(\n",
              "                (dense): Linear(in_features=768, out_features=768, bias=True)\n",
              "                (LayerNorm): LayerNorm((768,), eps=1e-12, elementwise_affine=True)\n",
              "                (dropout): Dropout(p=0.1, inplace=False)\n",
              "              )\n",
              "            )\n",
              "            (intermediate): BertIntermediate(\n",
              "              (dense): Linear(in_features=768, out_features=3072, bias=True)\n",
              "            )\n",
              "            (output): BertOutput(\n",
              "              (dense): Linear(in_features=3072, out_features=768, bias=True)\n",
              "              (LayerNorm): LayerNorm((768,), eps=1e-12, elementwise_affine=True)\n",
              "              (dropout): Dropout(p=0.1, inplace=False)\n",
              "            )\n",
              "          )\n",
              "          (4): BertLayer(\n",
              "            (attention): BertAttention(\n",
              "              (self): BertSelfAttention(\n",
              "                (query): Linear(in_features=768, out_features=768, bias=True)\n",
              "                (key): Linear(in_features=768, out_features=768, bias=True)\n",
              "                (value): Linear(in_features=768, out_features=768, bias=True)\n",
              "                (dropout): Dropout(p=0.1, inplace=False)\n",
              "              )\n",
              "              (output): BertSelfOutput(\n",
              "                (dense): Linear(in_features=768, out_features=768, bias=True)\n",
              "                (LayerNorm): LayerNorm((768,), eps=1e-12, elementwise_affine=True)\n",
              "                (dropout): Dropout(p=0.1, inplace=False)\n",
              "              )\n",
              "            )\n",
              "            (intermediate): BertIntermediate(\n",
              "              (dense): Linear(in_features=768, out_features=3072, bias=True)\n",
              "            )\n",
              "            (output): BertOutput(\n",
              "              (dense): Linear(in_features=3072, out_features=768, bias=True)\n",
              "              (LayerNorm): LayerNorm((768,), eps=1e-12, elementwise_affine=True)\n",
              "              (dropout): Dropout(p=0.1, inplace=False)\n",
              "            )\n",
              "          )\n",
              "          (5): BertLayer(\n",
              "            (attention): BertAttention(\n",
              "              (self): BertSelfAttention(\n",
              "                (query): Linear(in_features=768, out_features=768, bias=True)\n",
              "                (key): Linear(in_features=768, out_features=768, bias=True)\n",
              "                (value): Linear(in_features=768, out_features=768, bias=True)\n",
              "                (dropout): Dropout(p=0.1, inplace=False)\n",
              "              )\n",
              "              (output): BertSelfOutput(\n",
              "                (dense): Linear(in_features=768, out_features=768, bias=True)\n",
              "                (LayerNorm): LayerNorm((768,), eps=1e-12, elementwise_affine=True)\n",
              "                (dropout): Dropout(p=0.1, inplace=False)\n",
              "              )\n",
              "            )\n",
              "            (intermediate): BertIntermediate(\n",
              "              (dense): Linear(in_features=768, out_features=3072, bias=True)\n",
              "            )\n",
              "            (output): BertOutput(\n",
              "              (dense): Linear(in_features=3072, out_features=768, bias=True)\n",
              "              (LayerNorm): LayerNorm((768,), eps=1e-12, elementwise_affine=True)\n",
              "              (dropout): Dropout(p=0.1, inplace=False)\n",
              "            )\n",
              "          )\n",
              "          (6): BertLayer(\n",
              "            (attention): BertAttention(\n",
              "              (self): BertSelfAttention(\n",
              "                (query): Linear(in_features=768, out_features=768, bias=True)\n",
              "                (key): Linear(in_features=768, out_features=768, bias=True)\n",
              "                (value): Linear(in_features=768, out_features=768, bias=True)\n",
              "                (dropout): Dropout(p=0.1, inplace=False)\n",
              "              )\n",
              "              (output): BertSelfOutput(\n",
              "                (dense): Linear(in_features=768, out_features=768, bias=True)\n",
              "                (LayerNorm): LayerNorm((768,), eps=1e-12, elementwise_affine=True)\n",
              "                (dropout): Dropout(p=0.1, inplace=False)\n",
              "              )\n",
              "            )\n",
              "            (intermediate): BertIntermediate(\n",
              "              (dense): Linear(in_features=768, out_features=3072, bias=True)\n",
              "            )\n",
              "            (output): BertOutput(\n",
              "              (dense): Linear(in_features=3072, out_features=768, bias=True)\n",
              "              (LayerNorm): LayerNorm((768,), eps=1e-12, elementwise_affine=True)\n",
              "              (dropout): Dropout(p=0.1, inplace=False)\n",
              "            )\n",
              "          )\n",
              "          (7): BertLayer(\n",
              "            (attention): BertAttention(\n",
              "              (self): BertSelfAttention(\n",
              "                (query): Linear(in_features=768, out_features=768, bias=True)\n",
              "                (key): Linear(in_features=768, out_features=768, bias=True)\n",
              "                (value): Linear(in_features=768, out_features=768, bias=True)\n",
              "                (dropout): Dropout(p=0.1, inplace=False)\n",
              "              )\n",
              "              (output): BertSelfOutput(\n",
              "                (dense): Linear(in_features=768, out_features=768, bias=True)\n",
              "                (LayerNorm): LayerNorm((768,), eps=1e-12, elementwise_affine=True)\n",
              "                (dropout): Dropout(p=0.1, inplace=False)\n",
              "              )\n",
              "            )\n",
              "            (intermediate): BertIntermediate(\n",
              "              (dense): Linear(in_features=768, out_features=3072, bias=True)\n",
              "            )\n",
              "            (output): BertOutput(\n",
              "              (dense): Linear(in_features=3072, out_features=768, bias=True)\n",
              "              (LayerNorm): LayerNorm((768,), eps=1e-12, elementwise_affine=True)\n",
              "              (dropout): Dropout(p=0.1, inplace=False)\n",
              "            )\n",
              "          )\n",
              "          (8): BertLayer(\n",
              "            (attention): BertAttention(\n",
              "              (self): BertSelfAttention(\n",
              "                (query): Linear(in_features=768, out_features=768, bias=True)\n",
              "                (key): Linear(in_features=768, out_features=768, bias=True)\n",
              "                (value): Linear(in_features=768, out_features=768, bias=True)\n",
              "                (dropout): Dropout(p=0.1, inplace=False)\n",
              "              )\n",
              "              (output): BertSelfOutput(\n",
              "                (dense): Linear(in_features=768, out_features=768, bias=True)\n",
              "                (LayerNorm): LayerNorm((768,), eps=1e-12, elementwise_affine=True)\n",
              "                (dropout): Dropout(p=0.1, inplace=False)\n",
              "              )\n",
              "            )\n",
              "            (intermediate): BertIntermediate(\n",
              "              (dense): Linear(in_features=768, out_features=3072, bias=True)\n",
              "            )\n",
              "            (output): BertOutput(\n",
              "              (dense): Linear(in_features=3072, out_features=768, bias=True)\n",
              "              (LayerNorm): LayerNorm((768,), eps=1e-12, elementwise_affine=True)\n",
              "              (dropout): Dropout(p=0.1, inplace=False)\n",
              "            )\n",
              "          )\n",
              "          (9): BertLayer(\n",
              "            (attention): BertAttention(\n",
              "              (self): BertSelfAttention(\n",
              "                (query): Linear(in_features=768, out_features=768, bias=True)\n",
              "                (key): Linear(in_features=768, out_features=768, bias=True)\n",
              "                (value): Linear(in_features=768, out_features=768, bias=True)\n",
              "                (dropout): Dropout(p=0.1, inplace=False)\n",
              "              )\n",
              "              (output): BertSelfOutput(\n",
              "                (dense): Linear(in_features=768, out_features=768, bias=True)\n",
              "                (LayerNorm): LayerNorm((768,), eps=1e-12, elementwise_affine=True)\n",
              "                (dropout): Dropout(p=0.1, inplace=False)\n",
              "              )\n",
              "            )\n",
              "            (intermediate): BertIntermediate(\n",
              "              (dense): Linear(in_features=768, out_features=3072, bias=True)\n",
              "            )\n",
              "            (output): BertOutput(\n",
              "              (dense): Linear(in_features=3072, out_features=768, bias=True)\n",
              "              (LayerNorm): LayerNorm((768,), eps=1e-12, elementwise_affine=True)\n",
              "              (dropout): Dropout(p=0.1, inplace=False)\n",
              "            )\n",
              "          )\n",
              "          (10): BertLayer(\n",
              "            (attention): BertAttention(\n",
              "              (self): BertSelfAttention(\n",
              "                (query): Linear(in_features=768, out_features=768, bias=True)\n",
              "                (key): Linear(in_features=768, out_features=768, bias=True)\n",
              "                (value): Linear(in_features=768, out_features=768, bias=True)\n",
              "                (dropout): Dropout(p=0.1, inplace=False)\n",
              "              )\n",
              "              (output): BertSelfOutput(\n",
              "                (dense): Linear(in_features=768, out_features=768, bias=True)\n",
              "                (LayerNorm): LayerNorm((768,), eps=1e-12, elementwise_affine=True)\n",
              "                (dropout): Dropout(p=0.1, inplace=False)\n",
              "              )\n",
              "            )\n",
              "            (intermediate): BertIntermediate(\n",
              "              (dense): Linear(in_features=768, out_features=3072, bias=True)\n",
              "            )\n",
              "            (output): BertOutput(\n",
              "              (dense): Linear(in_features=3072, out_features=768, bias=True)\n",
              "              (LayerNorm): LayerNorm((768,), eps=1e-12, elementwise_affine=True)\n",
              "              (dropout): Dropout(p=0.1, inplace=False)\n",
              "            )\n",
              "          )\n",
              "          (11): BertLayer(\n",
              "            (attention): BertAttention(\n",
              "              (self): BertSelfAttention(\n",
              "                (query): Linear(in_features=768, out_features=768, bias=True)\n",
              "                (key): Linear(in_features=768, out_features=768, bias=True)\n",
              "                (value): Linear(in_features=768, out_features=768, bias=True)\n",
              "                (dropout): Dropout(p=0.1, inplace=False)\n",
              "              )\n",
              "              (output): BertSelfOutput(\n",
              "                (dense): Linear(in_features=768, out_features=768, bias=True)\n",
              "                (LayerNorm): LayerNorm((768,), eps=1e-12, elementwise_affine=True)\n",
              "                (dropout): Dropout(p=0.1, inplace=False)\n",
              "              )\n",
              "            )\n",
              "            (intermediate): BertIntermediate(\n",
              "              (dense): Linear(in_features=768, out_features=3072, bias=True)\n",
              "            )\n",
              "            (output): BertOutput(\n",
              "              (dense): Linear(in_features=3072, out_features=768, bias=True)\n",
              "              (LayerNorm): LayerNorm((768,), eps=1e-12, elementwise_affine=True)\n",
              "              (dropout): Dropout(p=0.1, inplace=False)\n",
              "            )\n",
              "          )\n",
              "        )\n",
              "      )\n",
              "      (pooler): BertPooler(\n",
              "        (dense): Linear(in_features=768, out_features=768, bias=True)\n",
              "        (activation): Tanh()\n",
              "      )\n",
              "    )\n",
              "  )\n",
              "  (1): Pooling()\n",
              ")"
            ]
          },
          "metadata": {
            "tags": []
          },
          "execution_count": 25
        }
      ]
    },
    {
      "cell_type": "markdown",
      "metadata": {
        "id": "KpasE459hn5W"
      },
      "source": [
        "## ***Step 7:*** Encode Sentences "
      ]
    },
    {
      "cell_type": "markdown",
      "metadata": {
        "id": "-IHfCNhUMoDc"
      },
      "source": [
        "Here I encoded only the sentences of abstracts. This was helped me to not wait so much time as in the previous notebook. The abstract content of each article is obviously much less than the content of all body texts and abstracts together."
      ]
    },
    {
      "cell_type": "code",
      "metadata": {
        "id": "BbjGfhfl2lQ3"
      },
      "source": [
        "import time\n",
        "start_time = time.time()"
      ],
      "execution_count": null,
      "outputs": []
    },
    {
      "cell_type": "code",
      "metadata": {
        "id": "pHYIiPn-nmJE"
      },
      "source": [
        "origin_list_of_articles = []\n",
        "list_of_articles = []\n",
        "\n",
        "for article in embeddings:\n",
        "  article_list = []\n",
        "\n",
        "  # Choose to encode only the abstract content of each article\n",
        "  abs_text = article[1]\n",
        "  \n",
        "  if abs_text != []:\n",
        "    for sentence in abs_text:\n",
        "      article_list.append(sentence)\n",
        "\n",
        "  origin_list_of_articles.append(article_list)\n",
        "\n",
        "  # Encode the abstract\n",
        "  list_of_articles.append(model.encode(article_list))  "
      ],
      "execution_count": null,
      "outputs": []
    },
    {
      "cell_type": "code",
      "metadata": {
        "id": "W46KKYSk75pY",
        "colab": {
          "base_uri": "https://localhost:8080/"
        },
        "outputId": "2e8111f5-980d-43b2-b8d6-167d6cbe338a"
      },
      "source": [
        "print(len(list_of_articles))"
      ],
      "execution_count": null,
      "outputs": [
        {
          "output_type": "stream",
          "text": [
            "9118\n"
          ],
          "name": "stdout"
        }
      ]
    },
    {
      "cell_type": "code",
      "metadata": {
        "id": "1W8fAWLO2p_R",
        "colab": {
          "base_uri": "https://localhost:8080/"
        },
        "outputId": "d7734f24-b5ef-4edb-83ff-25409a465f9d"
      },
      "source": [
        "end_time = time.time()\n",
        "print(end_time-start_time)"
      ],
      "execution_count": null,
      "outputs": [
        {
          "output_type": "stream",
          "text": [
            "372.9490256309509\n"
          ],
          "name": "stdout"
        }
      ]
    },
    {
      "cell_type": "markdown",
      "metadata": {
        "id": "bJgFgnbdKRNP"
      },
      "source": [
        "## ***Step 8:*** Comprehension Model Pipeline\n"
      ]
    },
    {
      "cell_type": "markdown",
      "metadata": {
        "id": "Gbi3DKxrKZhz"
      },
      "source": [
        "The *HuggingFace* provides pipeline feature for question-answering. I could provided any model and it's corresponding tokenizer, but I used covid_squad model for comprehension, as I believe that this was the closest dataset to covid data. From this model, I  will be able to take the probability associated to the answer.\n"
      ]
    },
    {
      "cell_type": "code",
      "metadata": {
        "id": "nFJWy-ymFOv6",
        "colab": {
          "base_uri": "https://localhost:8080/",
          "height": 264,
          "referenced_widgets": [
            "c87a95d42c0d4469b79336d4d5f2e5a4",
            "85672762bbf24af2ac856e6e5a8390ab",
            "334dd3cf6760437da89beb7e5de9457f",
            "c63364a79e6646faaf9a08978793b66c",
            "b583292006e64bbab26d6e64bd709bc2",
            "922f307b50654cebafd6e25ec93c720c",
            "645c4ae30e984708a07eea2a9187e00b",
            "3e26958c280944b1ad247ccb1804b73f",
            "407b3da2a2e343ab83eaf08f3e175058",
            "e2952095ed3d4b35954d091e903c3757",
            "7da1aadb6ca64762bccf116a1c4f55ce",
            "a45a24de926142c3938819ab1c03d940",
            "030d1f8af34348fe8a39b3685681b540",
            "6e9754b837ff4a02b0ab9ef3988dd2b1",
            "a3f100fe366c4bd4a031ec5094ba6ab2",
            "359f4fff167942aa9c828d0553264b8d",
            "c8614994e06e4cf09036dfab3035922f",
            "c1eef85b665d47e99bda492769ce086f",
            "cb25c0ed984042c2964affe49abac36f",
            "d25751f93ecc424bab94a26a4695e78d",
            "d487c18bbdc44754a446af56f6dd01eb",
            "1cb13bba6b9b4e5ea2cbc9109d1e29d4",
            "c1f41e8ceaae461283b644ad0eec44cf",
            "8b15e7fdc3bc47838a9de2e0cf5187d4",
            "f2ce12a534d34d079bc49ea34061b144",
            "c4ecf4ec49d94066b98e21e9529f2e72",
            "7b1f44b740444df5a5b510158974b22e",
            "ba81bea2e28b4c7fa713f2fd25ec2f81",
            "0b176202fffd462a9653e4a02c38e47e",
            "8259363261654d38a5228192b30e682b",
            "82b0dc06cb6145b18452be00bff98e14",
            "4c42a0c500ef4dfa83e6ab25fad60aaa",
            "9d3639b76f45488ea8c2b2d6b5750e37",
            "298b171e15014f9583241e31db4b6887",
            "ec01d2218d3c4be5ada5928680f79e17",
            "df8edd77a476411295019f1b87b9b507",
            "4ac67293b2b84ef89635122d9ef9a194",
            "56f2ccc09d96441a88a9adaae702bd85",
            "cf5ddaa604064c6cb81a8c001b52e954",
            "84b8f6db14d24770a5e8dde2a2556e8b"
          ]
        },
        "outputId": "4012b593-d1ea-4d23-9023-b45f8f1a8c39"
      },
      "source": [
        "# device is set to -1 to use the available gpu\n",
        "comprehension_model = pipeline(\"question-answering\", model=AutoModelForQuestionAnswering.from_pretrained(\"graviraja/covidbert_squad\"), tokenizer=AutoTokenizer.from_pretrained(\"graviraja/covidbert_squad\"), device=-1)              "
      ],
      "execution_count": null,
      "outputs": [
        {
          "output_type": "display_data",
          "data": {
            "application/vnd.jupyter.widget-view+json": {
              "model_id": "c87a95d42c0d4469b79336d4d5f2e5a4",
              "version_minor": 0,
              "version_major": 2
            },
            "text/plain": [
              "HBox(children=(FloatProgress(value=0.0, description='Downloading', max=508.0, style=ProgressStyle(description_…"
            ]
          },
          "metadata": {
            "tags": []
          }
        },
        {
          "output_type": "stream",
          "text": [
            "\n"
          ],
          "name": "stdout"
        },
        {
          "output_type": "display_data",
          "data": {
            "application/vnd.jupyter.widget-view+json": {
              "model_id": "407b3da2a2e343ab83eaf08f3e175058",
              "version_minor": 0,
              "version_major": 2
            },
            "text/plain": [
              "HBox(children=(FloatProgress(value=0.0, description='Downloading', max=437985356.0, style=ProgressStyle(descri…"
            ]
          },
          "metadata": {
            "tags": []
          }
        },
        {
          "output_type": "stream",
          "text": [
            "\n"
          ],
          "name": "stdout"
        },
        {
          "output_type": "display_data",
          "data": {
            "application/vnd.jupyter.widget-view+json": {
              "model_id": "c8614994e06e4cf09036dfab3035922f",
              "version_minor": 0,
              "version_major": 2
            },
            "text/plain": [
              "HBox(children=(FloatProgress(value=0.0, description='Downloading', max=231508.0, style=ProgressStyle(descripti…"
            ]
          },
          "metadata": {
            "tags": []
          }
        },
        {
          "output_type": "stream",
          "text": [
            "\n"
          ],
          "name": "stdout"
        },
        {
          "output_type": "display_data",
          "data": {
            "application/vnd.jupyter.widget-view+json": {
              "model_id": "f2ce12a534d34d079bc49ea34061b144",
              "version_minor": 0,
              "version_major": 2
            },
            "text/plain": [
              "HBox(children=(FloatProgress(value=0.0, description='Downloading', max=112.0, style=ProgressStyle(description_…"
            ]
          },
          "metadata": {
            "tags": []
          }
        },
        {
          "output_type": "stream",
          "text": [
            "\n"
          ],
          "name": "stdout"
        },
        {
          "output_type": "display_data",
          "data": {
            "application/vnd.jupyter.widget-view+json": {
              "model_id": "9d3639b76f45488ea8c2b2d6b5750e37",
              "version_minor": 0,
              "version_major": 2
            },
            "text/plain": [
              "HBox(children=(FloatProgress(value=0.0, description='Downloading', max=152.0, style=ProgressStyle(description_…"
            ]
          },
          "metadata": {
            "tags": []
          }
        },
        {
          "output_type": "stream",
          "text": [
            "\n"
          ],
          "name": "stdout"
        }
      ]
    },
    {
      "cell_type": "code",
      "metadata": {
        "id": "nPg0nhaOUBvc",
        "colab": {
          "base_uri": "https://localhost:8080/"
        },
        "outputId": "a24b9aea-585e-4713-dd4f-21215cbaa288"
      },
      "source": [
        "print((embeddings[0][2]))"
      ],
      "execution_count": null,
      "outputs": [
        {
          "output_type": "stream",
          "text": [
            "[['Travel medicine is the branch of medicine that deals with the prevention and management of health problems of international travelers [1] [2] [3] [4] . We presented the case of a child with central hypoventilation syndrome (CHS) to highlight issues that need to be considered in planning long-haul flight and problems that may arise during the flight.'], [\"In the summer of 2013, the pediatric intensive care unit (PICU) of a hospital in Hong Kong received an 8-year-old boy with central hypoventilation with respiratory infection and decompensation en route to Hong Kong on a make-a-wish campaign. He was diagnosed with central hypoventilation (medullary atrophy) or Ondine's curse and had been well managed in Toronto, Canada. He was ambulatory, only needed home ventilatory support at night via tracheostomy, and inhaled salbutamol puffs on a prn basis, and he was on PEG (percutaneous endoscopic gastrostomy) feeding with puree food. Advanced fitness for air-travel arrangement was well negotiated with the respective commercial airline. However, he developed symptoms of respiratory infections with intermittent fever (up to 39 ∘ C), cough, and sputum for 2 days prior to departure. The child was seen at the emergency department of a children's hospital in Toronto and was treated with an oral course of cefuroxime. During the long-haul flight, symptoms of respiratory infections persisted and desaturations (86%) developed. The patient had his own oxygen monitoring and air compressor on board which needed to be increased to 1 L/min. On arrival in Hong Kong, he was taken to the emergency department. His vital signs were as follows: tympanic temperature 38.6 ∘ C, heart rate 157/min, and SpO 2 98% on own ventilator with flow 1 L/min. The home ventilator's electric plug was in Canadian style and did not fit the Hong Kong standard socket. Chest radiograph revealed mild right sided haziness. He was admitted to PICU for management. He weighed 23.2 kg and his vital signs were as follows: temperature 36.5 ∘ C, heart rate 121/min, respiratory rate 23/min, BP 97/57 mmHg, and SpO 2 97% in room air on arrival at PICU. The child received physiotherapy and the tracheostomy was temporarily connected to the ICU ventilator on SIMV mode with pressure control (PC) and pressure support (PS). Settings were FiO 2 0.25, inspiratory time (Ti) 0.9 seconds, intermittent mandatory ventilation (IMV) rate 20/min, positive end expiratory pressure (PEEP) 5 cm H 2 O, pressure control 15 cm H 2 O above PEEP, and PS 13 cm H 2 O above PEEP. There was no further desaturation, and the settings were gradually reduced to IMV 10/min and FiO 2 of 0.21. The child gave a history of drug allergy to Ativan (lorazepam) and gluten sensitivity. Sedation was not needed. He received a course of intravenous amoxicillin/clavulanate (30 mg/kg/dose, 8 hourly). The patient remained playful, talkative, and not in distress. Laboratory data were normal complete blood count with white blood cell count of 16.1 × 10 9 /L, neutrophil differential of 77%, and elevated C-reactive protein of 44.1 (normal < 9.9 mg/L). There was no bacterial or respiratory viral isolation in the tracheal aspirate. Blood culture was negative. The patient was discharged from the PICU 2 days later and went on with his make-a-wish journey to Disneyland in Hong Kong prior to returning home.\"], ['Ondine\\'s curse, also called congenital central hypoventilation syndrome (CCHS) or primary alveolar hypoventilation, is a serious form of central nervous system failure, involving an inborn failure of autonomic control of breathing. Patients generally require tracheotomies and lifetime mechanical ventilator support. With advances of home ventilatory support, patients with central hypoventilation are no longer \"cursed.\" They can live a relative normal life at home, as reported by Hon et al., even in the remote countryside setting in one case report [5] [6] [7] .'], [\"Travel medicine is the branch of medicine that deals with the prevention and management of health problems of international travelers [1] [2] [3] [4] . The field of travel medicine encompasses a wide variety of disciplines including epidemiology, infectious disease, public health, tropical medicine, high altitude physiology, travel related obstetrics, psychiatry, occupational medicine, military and migration medicine, and environmental health. In our case, potential problems that may arise during travel include cardiopulmonary disease mortality, injury, and accident. Infectious disease accounts for about 2.8-4% of deaths during/from travel [1] [2] [3] [4] [8] [9] [10] . In terms of morbidity, traveler's diarrhea is the most common problem encountered [9, 10] .\"], [\"In this day and age, international travel is made possible even for patients who need ventilatory support. Prior to a long-haul air travel, parents should negotiate with airline to detail the transport and inflight plans [8, 11, 12] . The following part gives 4 website addresses of checklists for commercial air-travel preparation for ventilated children. In our case of CCHS with specific needs for ventilatory support, the patient, family, and the airline collaborated well. In general, the patient's usual emergency medication such as inhaled salbutamol should be readily accompanying the patient. Additional space is required to station the ventilator, air compressor, and monitor. An international travel insurance policy is mandatory in this age of unexpected and unavoidable disasters [8] .\"], ['Websites of checklists for commercial air-travel preparation for ventilated children are as follows:'], ['(1) A Special Needs Preflight Checklist: 16 Things You Need to Do before Heading to the Airport (http:// www.friendshipcircle.org/blog/2012/01/09/a-specialneeds-pre-flight-checklist/). This website gives some tips about travelling with a ventilator.'], [\"One more issue pertinent to the discussion of travel medicine is advice regarding feasibility of long-haul travel in a patient with acute or intercurrent respiratory infection. Since the days of SARS (severe acute respiratory syndrome) and recently MERS (Middle East respiratory syndrome) and SARI (severe acute respiratory infection), travel transmission of novel respiratory infections has become hot issues [13] [14] [15] . Ideally, patients with an acute respiratory infection should not be travelling for the patient's own sake as well as for the sake of other passengers. However, travel may be once-in-a-lifetime opportunity for a young person with chronic illness as was in our case. This may be inhumane to the child if his/her opportunity was removed from him/her due to a non-life threatening chest infection. On the other hand, the risk has to be weighed between a seemingly minor infection which may predispose a major decompensation during long-haul travel in a child with already compromised respiratory health.\"], [\"No published literature on mortality and morbidity in children travelling with central hypoventilation syndrome or Ondine's curse is available. Critically ill children are transported safely via medical evacuation teams [16, 17] . However, critically ill children cannot be transported via commercial airlines. Our case illustrates that children who are ventilator dependent may travel in commercial airlines if they are stable. The issue of quarantine to prevent international transmission of SARI is a much more complicated issue that is likely to remain a contemporary controversy. This case illustrates the many issues associated with long-haul flight in a pediatric patient with a chronic respiratory disorder. Air travel is possible for children with respiratory compromise if anticipatory preparation is timely arranged.\"]]\n"
          ],
          "name": "stdout"
        }
      ]
    },
    {
      "cell_type": "markdown",
      "metadata": {
        "id": "xJQGYE6bjT3M"
      },
      "source": [
        "## ***Step 9:*** Ask model for answers"
      ]
    },
    {
      "cell_type": "markdown",
      "metadata": {
        "id": "JcSAbAz85Ykn"
      },
      "source": [
        "Firstly, as I have the sentence embeddings of the abstract content of each article, I start by looking for the top 20 most similar articles to a given question (based only in abstracts). \n",
        "\n",
        "Though I retrived the top related articles, each paper contains a lot of body text content. Finding the relevant paragraphs in the article will help in narrow down the amount of data needs to comprehended for finding the answer to the given query.\n",
        "\n",
        "After I have in my hands the top 20 articles, I started to encode the body texts of each articles. So we understant that there is a big different with the previous notebook, as here I encode the body texts of only 20 articles, while in the other notebook I encode the body texts of 9000 articles! \n",
        "\n",
        "I already have top 20 articles and in each document top 20 most relevant body texts. Comprehension will help even more finetuned details up to a sentence level. So, in the end, I used my comprehension model to find the appropriate answer with the biggest score."
      ]
    },
    {
      "cell_type": "markdown",
      "metadata": {
        "id": "jlIHDNWNN5aD"
      },
      "source": [
        "This function returns the relative sentence of original text, given a specific paragraph (body text)."
      ]
    },
    {
      "cell_type": "code",
      "metadata": {
        "id": "_sOPcPQRvkbT"
      },
      "source": [
        "import spacy\n",
        "\n",
        "spacy_nlp = spacy.load('en_core_web_sm')\n",
        "\n",
        "# Returns the relative sentence of original text, given a specific paragraph (body text).\n",
        "def get_full_sentence(para_text, start_index, end_index):\n",
        "\n",
        "    sent_start = 0\n",
        "    sent_end = len(para_text)\n",
        "    for sent in spacy_nlp(para_text).sents:\n",
        "        if (sent.start_char <= start_index) and (sent.end_char >= start_index):\n",
        "            sent_start = sent.start_char\n",
        "        if (sent.start_char <= end_index) and (sent.end_char >= end_index):\n",
        "            sent_end = sent.end_char\n",
        "    sentence = para_text[sent_start:sent_end + 1]\n",
        "    return sentence"
      ],
      "execution_count": null,
      "outputs": []
    },
    {
      "cell_type": "code",
      "metadata": {
        "id": "MgM30ZqLwm7u"
      },
      "source": [
        "start_time = time.time()"
      ],
      "execution_count": null,
      "outputs": []
    },
    {
      "cell_type": "code",
      "metadata": {
        "colab": {
          "base_uri": "https://localhost:8080/"
        },
        "id": "7fWX42Lnr5q2",
        "outputId": "d0ca2765-14c3-4d1d-dd59-3b0237ba9e35"
      },
      "source": [
        "# Query sentences:\n",
        "queries = ['What are the coronoviruses?', \n",
        "           'What was discovered in Wuhuan in December 2019?', \n",
        "           \"What are common symptoms observed in COVID-19 patients?\",\n",
        "           'What is coronovirus Disease 2019?', \n",
        "           'What is COVID-19?', \n",
        "           'What is caused by SARS?', \n",
        "           'How is COVID-19 spread?', \n",
        "           'How does coronavirus spread?',\n",
        "           \"Can the use of masks prevent SARS?\",\n",
        "           \"What is the Persistence of virus on surfaces of different materials (e.g. copper, stainless steel, plastic)?\",\n",
        "           \"What ages have higher mortality rate in covid-19?\",\n",
        "           \"What are the protective measures of covid-19?\"\n",
        "           ]\n",
        "\n",
        "# Encode queries\n",
        "query_embeddings = model.encode(queries)\n",
        "\n",
        "# Find the closest sentences of the corpus for each query sentence based on cosine similarity and the comprehension model\n",
        "for query, query_embedding in zip(queries, query_embeddings):\n",
        "\n",
        "  # Compare all the articles' abstract content with each query\n",
        "  all_abs_distances = []\n",
        "\n",
        "  for idx_of_article,article in enumerate(list_of_articles):\n",
        "    distances = []\n",
        "    for idx,sentence in enumerate(article):\n",
        "      distances.append((idx, (1 - (scipy.spatial.distance.cdist([query_embedding], [sentence], \"cosine\")[0]))))\n",
        "\n",
        "    results = sorted(distances, key=lambda x: x[1], reverse=True)\n",
        "    if results:\n",
        "      all_abs_distances.append((idx_of_article, results[0][0], results[0][1]))\n",
        "\n",
        "  results = sorted(all_abs_distances, key=lambda x: x[2], reverse=True)\n",
        "\n",
        "  ########################################################################################\n",
        "  # Take the 20 most similar articles, based on the relevant abstracts and compare all the body texts content to the query\n",
        "  all_text_distances = []\n",
        "  for top in results[0:20]:\n",
        "    article_idx = top[0]\n",
        "\n",
        "    body_text_distances = []\n",
        "    for text_idx,text in enumerate(embeddings[article_idx][2]):\n",
        "      # Encode only the body texts of 20 best articles \n",
        "      body_text_embedding = model.encode(text, show_progress_bar=False)\n",
        "\n",
        "      body_text_distances.append(((text_idx, (1 - (scipy.spatial.distance.cdist([query_embedding], body_text_embedding, \"cosine\")[0])))))\n",
        "\n",
        "    results = sorted(body_text_distances, key=lambda x: x[1], reverse=True)\n",
        "\n",
        "    if results:\n",
        "      all_text_distances.append((article_idx, results[0][0], results[0][1]))\n",
        "\n",
        "  results = sorted(all_text_distances, key=lambda x: x[2], reverse=True)\n",
        "\n",
        "  ########################################################################################\n",
        "  # For the top 20 retrieved paragraphs in the document, answer will be comprehended on each paragraph using the model.\n",
        "\n",
        "  answers = []\n",
        "  for top_text in results[0:20]:\n",
        "    article_idx = top_text[0]\n",
        "    body_text_idx = top_text[1]\n",
        "\n",
        "    query_ = {\"context\": embeddings[article_idx][2][body_text_idx][0], \"question\": query}\n",
        "    pred = comprehension_model(query_, topk=1, show_progress_bar=False)\n",
        "\n",
        "    # If there is any answer\n",
        "    if pred[\"answer\"] and round(pred[\"score\"], 4) > 0:\n",
        "        # Take the suitable sentence from the paragraph\n",
        "        sent = get_full_sentence(query_['context'], pred[\"start\"], pred[\"end\"])\n",
        "        answers.append((article_idx, round(pred[\"score\"], 4), sent))\n",
        "  ########################################################################################\n",
        "  results = sorted(answers, key=lambda x: x[1], reverse=True)\n",
        "\n",
        "  print(\"\\n======================\\n\")\n",
        "  print(\"Query:\", query)\n",
        "  print(\"\\nThe most similar sentences in corpus:\\n\")\n",
        "\n",
        "  if results:\n",
        "    count = 1\n",
        "\n",
        "    for res in results:\n",
        "      print(count,\". \", res[2], \"(Score: %.4f)\" % (res[1]))\n",
        "      print(\"From the article with title: \", embeddings[res[0]][0])\n",
        "      print(\"\\n\")\n",
        "      if count > 3:\n",
        "        break\n",
        "      count += 1\n",
        "  else:\n",
        "    print(\"There isn't any answer\")"
      ],
      "execution_count": null,
      "outputs": [
        {
          "output_type": "stream",
          "text": [
            "convert squad examples to features: 100%|██████████| 1/1 [00:00<00:00, 78.28it/s]\n",
            "add example index and unique id: 100%|██████████| 1/1 [00:00<00:00, 621.75it/s]\n",
            "convert squad examples to features: 100%|██████████| 1/1 [00:00<00:00, 88.46it/s]\n",
            "add example index and unique id: 100%|██████████| 1/1 [00:00<00:00, 427.47it/s]\n",
            "convert squad examples to features: 100%|██████████| 1/1 [00:00<00:00, 82.57it/s]\n",
            "add example index and unique id: 100%|██████████| 1/1 [00:00<00:00, 4378.19it/s]\n",
            "convert squad examples to features: 100%|██████████| 1/1 [00:00<00:00, 39.21it/s]\n",
            "add example index and unique id: 100%|██████████| 1/1 [00:00<00:00, 2360.33it/s]\n",
            "convert squad examples to features: 100%|██████████| 1/1 [00:00<00:00, 69.21it/s]\n",
            "add example index and unique id: 100%|██████████| 1/1 [00:00<00:00, 2441.39it/s]\n",
            "convert squad examples to features: 100%|██████████| 1/1 [00:00<00:00, 82.19it/s]\n",
            "add example index and unique id: 100%|██████████| 1/1 [00:00<00:00, 5737.76it/s]\n",
            "convert squad examples to features: 100%|██████████| 1/1 [00:00<00:00, 38.04it/s]\n",
            "add example index and unique id: 100%|██████████| 1/1 [00:00<00:00, 5526.09it/s]\n",
            "convert squad examples to features: 100%|██████████| 1/1 [00:00<00:00, 82.20it/s]\n",
            "add example index and unique id: 100%|██████████| 1/1 [00:00<00:00, 1545.43it/s]\n",
            "convert squad examples to features: 100%|██████████| 1/1 [00:00<00:00, 48.62it/s]\n",
            "add example index and unique id: 100%|██████████| 1/1 [00:00<00:00, 5035.18it/s]\n",
            "convert squad examples to features: 100%|██████████| 1/1 [00:00<00:00, 71.76it/s]\n",
            "add example index and unique id: 100%|██████████| 1/1 [00:00<00:00, 1240.18it/s]\n",
            "convert squad examples to features: 100%|██████████| 1/1 [00:00<00:00, 29.66it/s]\n",
            "add example index and unique id: 100%|██████████| 1/1 [00:00<00:00, 1551.15it/s]\n",
            "convert squad examples to features: 100%|██████████| 1/1 [00:00<00:00, 62.23it/s]\n",
            "add example index and unique id: 100%|██████████| 1/1 [00:00<00:00, 5562.74it/s]\n",
            "convert squad examples to features: 100%|██████████| 1/1 [00:00<00:00, 41.57it/s]\n",
            "add example index and unique id: 100%|██████████| 1/1 [00:00<00:00, 6009.03it/s]\n",
            "convert squad examples to features: 100%|██████████| 1/1 [00:00<00:00, 43.80it/s]\n",
            "add example index and unique id: 100%|██████████| 1/1 [00:00<00:00, 717.83it/s]\n",
            "convert squad examples to features: 100%|██████████| 1/1 [00:00<00:00, 72.04it/s]\n",
            "add example index and unique id: 100%|██████████| 1/1 [00:00<00:00, 719.81it/s]\n",
            "convert squad examples to features: 100%|██████████| 1/1 [00:00<00:00, 76.53it/s]\n",
            "add example index and unique id: 100%|██████████| 1/1 [00:00<00:00, 2270.87it/s]\n",
            "convert squad examples to features: 100%|██████████| 1/1 [00:00<00:00, 59.65it/s]\n",
            "add example index and unique id: 100%|██████████| 1/1 [00:00<00:00, 6432.98it/s]\n",
            "convert squad examples to features: 100%|██████████| 1/1 [00:00<00:00, 54.44it/s]\n",
            "add example index and unique id: 100%|██████████| 1/1 [00:00<00:00, 2094.01it/s]\n",
            "convert squad examples to features: 100%|██████████| 1/1 [00:00<00:00, 51.32it/s]\n",
            "add example index and unique id: 100%|██████████| 1/1 [00:00<00:00, 756.68it/s]\n",
            "convert squad examples to features: 100%|██████████| 1/1 [00:00<00:00, 44.25it/s]\n",
            "add example index and unique id: 100%|██████████| 1/1 [00:00<00:00, 2085.68it/s]\n"
          ],
          "name": "stderr"
        },
        {
          "output_type": "stream",
          "text": [
            "\n",
            "======================\n",
            "\n",
            "Query: What are the coronoviruses?\n",
            "\n",
            "The most similar sentences in corpus:\n",
            "\n",
            "1 .  Mitochondria, lysosomes, phagosomes, Golgi complex, peroxisomes, and endoplasmic reticulum (ER) are subverted and remodeled by viruses (3, 4) , many of which use the ER as a preferred membranous compartment to build replication organelles (5) . (Score: 0.7324)\n",
            "From the article with title:  Reovirus NS and NS Proteins Remodel the Endoplasmic Reticulum to Build Replication Neo-Organelles\n",
            "\n",
            "\n",
            "2 .  Members exploiting ribosome shunting strategy include Cauliflower mosaic virus (CaMV), Rice tungro bacilliform virus, Sendai virus and adenovirus, etc.  (Score: 0.5875)\n",
            "From the article with title:  cells Regulation of Ribosomal Proteins on Viral Infection\n",
            "\n",
            "\n",
            "3 .  If so, do these viruses pose a risk for domestic animals and/or humans as observed in bat-derived severe acute respiratory syndrome (SARS), rabies, Nipah, and probably Ebola viruses? (Score: 0.1813)\n",
            "From the article with title:  Expected and Unexpected Features of the Newly Discovered Bat Influenza A-like Viruses Are Bat Influenza A-like Viruses Different from Classical IAVs?\n",
            "\n",
            "\n",
            "4 .  To determine whether the two tyrosines of DAP12 are required for LSECtin/DAP12-mediated phosphorylation of protein tyrosines, we transduced a lentivirus encoding wild-type (WT) or mutant DAP12 in which the ITAM tyrosines at positions 91 and 102 were mutated to phenylalanine (2YF) into Jurkat-LSECtin stable cells.  (Score: 0.0827)\n",
            "From the article with title:  The Myeloid LSECtin Is a DAP12-Coupled Receptor That Is Crucial for Inflammatory Response Induced by Ebola Virus Glycoprotein a11111 OPEN ACCESS\n",
            "\n",
            "\n"
          ],
          "name": "stdout"
        },
        {
          "output_type": "stream",
          "text": [
            "convert squad examples to features: 100%|██████████| 1/1 [00:00<00:00, 41.26it/s]\n",
            "add example index and unique id: 100%|██████████| 1/1 [00:00<00:00, 3125.41it/s]\n",
            "convert squad examples to features: 100%|██████████| 1/1 [00:00<00:00, 81.37it/s]\n",
            "add example index and unique id: 100%|██████████| 1/1 [00:00<00:00, 2098.20it/s]\n",
            "convert squad examples to features: 100%|██████████| 1/1 [00:00<00:00, 60.41it/s]\n",
            "add example index and unique id: 100%|██████████| 1/1 [00:00<00:00, 6374.32it/s]\n",
            "convert squad examples to features: 100%|██████████| 1/1 [00:00<00:00, 49.55it/s]\n",
            "add example index and unique id: 100%|██████████| 1/1 [00:00<00:00, 5242.88it/s]\n",
            "convert squad examples to features: 100%|██████████| 1/1 [00:00<00:00, 82.20it/s]\n",
            "add example index and unique id: 100%|██████████| 1/1 [00:00<00:00, 1595.40it/s]\n",
            "convert squad examples to features: 100%|██████████| 1/1 [00:00<00:00, 68.23it/s]\n",
            "add example index and unique id: 100%|██████████| 1/1 [00:00<00:00, 2221.56it/s]\n",
            "convert squad examples to features: 100%|██████████| 1/1 [00:00<00:00, 58.68it/s]\n",
            "add example index and unique id: 100%|██████████| 1/1 [00:00<00:00, 4240.95it/s]\n",
            "convert squad examples to features: 100%|██████████| 1/1 [00:00<00:00, 77.00it/s]\n",
            "add example index and unique id: 100%|██████████| 1/1 [00:00<00:00, 6026.30it/s]\n",
            "convert squad examples to features: 100%|██████████| 1/1 [00:00<00:00, 72.43it/s]\n",
            "add example index and unique id: 100%|██████████| 1/1 [00:00<00:00, 584.00it/s]\n",
            "convert squad examples to features: 100%|██████████| 1/1 [00:00<00:00, 55.10it/s]\n",
            "add example index and unique id: 100%|██████████| 1/1 [00:00<00:00, 4619.28it/s]\n",
            "convert squad examples to features: 100%|██████████| 1/1 [00:00<00:00, 95.13it/s]\n",
            "add example index and unique id: 100%|██████████| 1/1 [00:00<00:00, 6875.91it/s]\n",
            "convert squad examples to features: 100%|██████████| 1/1 [00:00<00:00, 70.86it/s]\n",
            "add example index and unique id: 100%|██████████| 1/1 [00:00<00:00, 2198.27it/s]\n",
            "convert squad examples to features: 100%|██████████| 1/1 [00:00<00:00, 60.32it/s]\n",
            "add example index and unique id: 100%|██████████| 1/1 [00:00<00:00, 4092.00it/s]\n",
            "convert squad examples to features: 100%|██████████| 1/1 [00:00<00:00, 84.75it/s]\n",
            "add example index and unique id: 100%|██████████| 1/1 [00:00<00:00, 602.80it/s]\n",
            "convert squad examples to features: 100%|██████████| 1/1 [00:00<00:00, 70.37it/s]\n",
            "add example index and unique id: 100%|██████████| 1/1 [00:00<00:00, 6061.13it/s]\n",
            "convert squad examples to features: 100%|██████████| 1/1 [00:00<00:00, 47.23it/s]\n",
            "add example index and unique id: 100%|██████████| 1/1 [00:00<00:00, 5592.41it/s]\n",
            "convert squad examples to features: 100%|██████████| 1/1 [00:00<00:00, 49.98it/s]\n",
            "add example index and unique id: 100%|██████████| 1/1 [00:00<00:00, 534.71it/s]\n",
            "convert squad examples to features: 100%|██████████| 1/1 [00:00<00:00, 73.67it/s]\n",
            "add example index and unique id: 100%|██████████| 1/1 [00:00<00:00, 4433.73it/s]\n",
            "convert squad examples to features: 100%|██████████| 1/1 [00:00<00:00, 36.96it/s]\n",
            "add example index and unique id: 100%|██████████| 1/1 [00:00<00:00, 6452.78it/s]\n",
            "convert squad examples to features: 100%|██████████| 1/1 [00:00<00:00, 48.15it/s]\n",
            "add example index and unique id: 100%|██████████| 1/1 [00:00<00:00, 2088.80it/s]\n"
          ],
          "name": "stderr"
        },
        {
          "output_type": "stream",
          "text": [
            "\n",
            "======================\n",
            "\n",
            "Query: What was discovered in Wuhuan in December 2019?\n",
            "\n",
            "The most similar sentences in corpus:\n",
            "\n",
            "1 .  In December 2019, China detected many cases of viral pneumonia-like disease similar to SARS that were confirmed to be caused by novel Betacoronavirus, provisionally called 2019 novel coronavirus (2019-nCoV).  (Score: 0.1037)\n",
            "From the article with title:  pathogens Emergence of Novel Coronavirus 2019-nCoV: Need for Rapid Vaccine and Biologics Development\n",
            "\n",
            "\n",
            "2 .  Since the announcement of a cluster of pneumonia cases of unknown etiology in Wuhan, Hubei Province, China, was made on 31 December 2019, many rapid virological, clinical, and epidemiological research responses have taken place [1, 2] .  (Score: 0.0001)\n",
            "From the article with title:  Clinical Medicine The Extent of Transmission of Novel Coronavirus in\n",
            "\n",
            "\n"
          ],
          "name": "stdout"
        },
        {
          "output_type": "stream",
          "text": [
            "convert squad examples to features: 100%|██████████| 1/1 [00:00<00:00, 78.35it/s]\n",
            "add example index and unique id: 100%|██████████| 1/1 [00:00<00:00, 5949.37it/s]\n",
            "convert squad examples to features: 100%|██████████| 1/1 [00:00<00:00, 54.72it/s]\n",
            "add example index and unique id: 100%|██████████| 1/1 [00:00<00:00, 2233.39it/s]\n",
            "convert squad examples to features: 100%|██████████| 1/1 [00:00<00:00, 53.13it/s]\n",
            "add example index and unique id: 100%|██████████| 1/1 [00:00<00:00, 2576.35it/s]\n",
            "convert squad examples to features: 100%|██████████| 1/1 [00:00<00:00, 69.61it/s]\n",
            "add example index and unique id: 100%|██████████| 1/1 [00:00<00:00, 2251.37it/s]\n",
            "convert squad examples to features: 100%|██████████| 1/1 [00:00<00:00, 73.68it/s]\n",
            "add example index and unique id: 100%|██████████| 1/1 [00:00<00:00, 4266.84it/s]\n",
            "convert squad examples to features: 100%|██████████| 1/1 [00:00<00:00, 59.01it/s]\n",
            "add example index and unique id: 100%|██████████| 1/1 [00:00<00:00, 4438.42it/s]\n",
            "convert squad examples to features: 100%|██████████| 1/1 [00:00<00:00, 72.43it/s]\n",
            "add example index and unique id: 100%|██████████| 1/1 [00:00<00:00, 569.65it/s]\n",
            "convert squad examples to features: 100%|██████████| 1/1 [00:00<00:00, 54.96it/s]\n",
            "add example index and unique id: 100%|██████████| 1/1 [00:00<00:00, 2309.64it/s]\n",
            "convert squad examples to features: 100%|██████████| 1/1 [00:00<00:00, 43.19it/s]\n",
            "add example index and unique id: 100%|██████████| 1/1 [00:00<00:00, 5714.31it/s]\n",
            "convert squad examples to features: 100%|██████████| 1/1 [00:00<00:00, 76.96it/s]\n",
            "add example index and unique id: 100%|██████████| 1/1 [00:00<00:00, 2322.43it/s]\n",
            "convert squad examples to features: 100%|██████████| 1/1 [00:00<00:00, 72.60it/s]\n",
            "add example index and unique id: 100%|██████████| 1/1 [00:00<00:00, 5475.59it/s]\n",
            "convert squad examples to features: 100%|██████████| 1/1 [00:00<00:00, 57.94it/s]\n",
            "add example index and unique id: 100%|██████████| 1/1 [00:00<00:00, 703.98it/s]\n",
            "convert squad examples to features: 100%|██████████| 1/1 [00:00<00:00, 64.72it/s]\n",
            "add example index and unique id: 100%|██████████| 1/1 [00:00<00:00, 702.45it/s]\n",
            "convert squad examples to features: 100%|██████████| 1/1 [00:00<00:00, 61.83it/s]\n",
            "add example index and unique id: 100%|██████████| 1/1 [00:00<00:00, 2138.86it/s]\n",
            "convert squad examples to features: 100%|██████████| 1/1 [00:00<00:00, 63.27it/s]\n",
            "add example index and unique id: 100%|██████████| 1/1 [00:00<00:00, 2030.16it/s]\n",
            "convert squad examples to features: 100%|██████████| 1/1 [00:00<00:00, 60.56it/s]\n",
            "add example index and unique id: 100%|██████████| 1/1 [00:00<00:00, 455.21it/s]\n",
            "convert squad examples to features: 100%|██████████| 1/1 [00:00<00:00, 81.58it/s]\n",
            "add example index and unique id: 100%|██████████| 1/1 [00:00<00:00, 2439.97it/s]\n",
            "convert squad examples to features: 100%|██████████| 1/1 [00:00<00:00, 57.66it/s]\n",
            "add example index and unique id: 100%|██████████| 1/1 [00:00<00:00, 5691.05it/s]\n",
            "convert squad examples to features: 100%|██████████| 1/1 [00:00<00:00, 69.05it/s]\n",
            "add example index and unique id: 100%|██████████| 1/1 [00:00<00:00, 6096.37it/s]\n",
            "convert squad examples to features: 100%|██████████| 1/1 [00:00<00:00, 59.26it/s]\n",
            "add example index and unique id: 100%|██████████| 1/1 [00:00<00:00, 2109.81it/s]\n"
          ],
          "name": "stderr"
        },
        {
          "output_type": "stream",
          "text": [
            "\n",
            "======================\n",
            "\n",
            "Query: What are common symptoms observed in COVID-19 patients?\n",
            "\n",
            "The most similar sentences in corpus:\n",
            "\n",
            "1 .  To evaluate the factors associated with mortality of ARDS patients and investigate the relationship between age and mortality in ARDS patients. (Score: 0.6544)\n",
            "From the article with title:  ESICM LIVES 2016: part one Oral Sessions. ARDS: CLINICAL STUDIES A1 Identification of distinct endophenotypes in patients with acute respiratory distress syndrome by unbiased cluster analysis, and their association with mortality\n",
            "\n",
            "\n",
            "2 .  The purpose of current study was to determine the incidence and seasonal patterns of viral etiological agents and to compare their clinical manifestations and disease severity, including single and coinfections. (Score: 0.4504)\n",
            "From the article with title:  Virological and clinical characterizations of respiratory infections in hospitalized children\n",
            "\n",
            "\n",
            "3 .  These patients were grouped according to the severity of injuries and their household status.  (Score: 0.1597)\n",
            "From the article with title:  Comparison of Road Traffic Injury Characteristics between Local versus Floating Migrant Patients in a Tertiary Hospital between 2007 and 2010\n",
            "\n",
            "\n",
            "4 .  IFN-γ , a key cytokine involved in the activation of Th1 cells, was consistently observed in most patients during the first and second weeks after symptom onset.  (Score: 0.1108)\n",
            "From the article with title:  Comparative and kinetic analysis of viral shedding and immunological responses in MERS patients representing a broad spectrum of disease severity OPEN\n",
            "\n",
            "\n"
          ],
          "name": "stdout"
        },
        {
          "output_type": "stream",
          "text": [
            "convert squad examples to features: 100%|██████████| 1/1 [00:00<00:00, 83.93it/s]\n",
            "add example index and unique id: 100%|██████████| 1/1 [00:00<00:00, 2103.46it/s]\n",
            "convert squad examples to features: 100%|██████████| 1/1 [00:00<00:00, 81.20it/s]\n",
            "add example index and unique id: 100%|██████████| 1/1 [00:00<00:00, 4922.89it/s]\n",
            "convert squad examples to features: 100%|██████████| 1/1 [00:00<00:00, 82.41it/s]\n",
            "add example index and unique id: 100%|██████████| 1/1 [00:00<00:00, 5857.97it/s]\n",
            "convert squad examples to features: 100%|██████████| 1/1 [00:00<00:00, 61.71it/s]\n",
            "add example index and unique id: 100%|██████████| 1/1 [00:00<00:00, 2481.84it/s]\n",
            "convert squad examples to features: 100%|██████████| 1/1 [00:00<00:00, 51.41it/s]\n",
            "add example index and unique id: 100%|██████████| 1/1 [00:00<00:00, 1861.65it/s]\n",
            "convert squad examples to features: 100%|██████████| 1/1 [00:00<00:00, 70.88it/s]\n",
            "add example index and unique id: 100%|██████████| 1/1 [00:00<00:00, 6096.37it/s]\n",
            "convert squad examples to features: 100%|██████████| 1/1 [00:00<00:00, 63.66it/s]\n",
            "add example index and unique id: 100%|██████████| 1/1 [00:00<00:00, 2383.13it/s]\n",
            "convert squad examples to features: 100%|██████████| 1/1 [00:00<00:00, 91.46it/s]\n",
            "add example index and unique id: 100%|██████████| 1/1 [00:00<00:00, 2137.77it/s]\n",
            "convert squad examples to features: 100%|██████████| 1/1 [00:00<00:00, 58.29it/s]\n",
            "add example index and unique id: 100%|██████████| 1/1 [00:00<00:00, 615.72it/s]\n",
            "convert squad examples to features: 100%|██████████| 1/1 [00:00<00:00, 67.65it/s]\n",
            "add example index and unique id: 100%|██████████| 1/1 [00:00<00:00, 3504.01it/s]\n",
            "convert squad examples to features: 100%|██████████| 1/1 [00:00<00:00, 46.66it/s]\n",
            "add example index and unique id: 100%|██████████| 1/1 [00:00<00:00, 2431.48it/s]\n",
            "convert squad examples to features: 100%|██████████| 1/1 [00:00<00:00, 52.03it/s]\n",
            "add example index and unique id: 100%|██████████| 1/1 [00:00<00:00, 593.42it/s]\n",
            "convert squad examples to features: 100%|██████████| 1/1 [00:00<00:00, 24.31it/s]\n",
            "add example index and unique id: 100%|██████████| 1/1 [00:00<00:00, 2105.57it/s]\n",
            "convert squad examples to features: 100%|██████████| 1/1 [00:00<00:00, 49.22it/s]\n",
            "add example index and unique id: 100%|██████████| 1/1 [00:00<00:00, 2148.72it/s]\n",
            "convert squad examples to features: 100%|██████████| 1/1 [00:00<00:00, 62.67it/s]\n",
            "add example index and unique id: 100%|██████████| 1/1 [00:00<00:00, 415.28it/s]\n",
            "convert squad examples to features: 100%|██████████| 1/1 [00:00<00:00, 46.62it/s]\n",
            "add example index and unique id: 100%|██████████| 1/1 [00:00<00:00, 2120.48it/s]\n",
            "convert squad examples to features: 100%|██████████| 1/1 [00:00<00:00, 53.82it/s]\n",
            "add example index and unique id: 100%|██████████| 1/1 [00:00<00:00, 2275.80it/s]\n",
            "convert squad examples to features: 100%|██████████| 1/1 [00:00<00:00, 54.13it/s]\n",
            "add example index and unique id: 100%|██████████| 1/1 [00:00<00:00, 2351.07it/s]\n",
            "convert squad examples to features: 100%|██████████| 1/1 [00:00<00:00, 38.63it/s]\n",
            "add example index and unique id: 100%|██████████| 1/1 [00:00<00:00, 1770.50it/s]\n",
            "convert squad examples to features: 100%|██████████| 1/1 [00:00<00:00, 47.67it/s]\n",
            "add example index and unique id: 100%|██████████| 1/1 [00:00<00:00, 2312.19it/s]\n"
          ],
          "name": "stderr"
        },
        {
          "output_type": "stream",
          "text": [
            "\n",
            "======================\n",
            "\n",
            "Query: What is coronovirus Disease 2019?\n",
            "\n",
            "The most similar sentences in corpus:\n",
            "\n",
            "1 .  The causative agent of the pneumonia is suggested to be a novel coronavirus (2019-nCoV) of the same lineage (but genetically distinct) from the coronavirus causing severe acute respiratory syndrome (SARS)  (Score: 0.0056)\n",
            "From the article with title:  Clinical Medicine The Extent of Transmission of Novel Coronavirus in\n",
            "\n",
            "\n"
          ],
          "name": "stdout"
        },
        {
          "output_type": "stream",
          "text": [
            "convert squad examples to features: 100%|██████████| 1/1 [00:00<00:00, 89.67it/s]\n",
            "add example index and unique id: 100%|██████████| 1/1 [00:00<00:00, 2267.19it/s]\n",
            "convert squad examples to features: 100%|██████████| 1/1 [00:00<00:00, 68.07it/s]\n",
            "add example index and unique id: 100%|██████████| 1/1 [00:00<00:00, 2201.73it/s]\n",
            "convert squad examples to features: 100%|██████████| 1/1 [00:00<00:00, 69.79it/s]\n",
            "add example index and unique id: 100%|██████████| 1/1 [00:00<00:00, 2357.68it/s]\n",
            "convert squad examples to features: 100%|██████████| 1/1 [00:00<00:00, 111.50it/s]\n",
            "add example index and unique id: 100%|██████████| 1/1 [00:00<00:00, 6250.83it/s]\n",
            "convert squad examples to features: 100%|██████████| 1/1 [00:00<00:00, 76.72it/s]\n",
            "add example index and unique id: 100%|██████████| 1/1 [00:00<00:00, 2300.77it/s]\n",
            "convert squad examples to features: 100%|██████████| 1/1 [00:00<00:00, 89.10it/s]\n",
            "add example index and unique id: 100%|██████████| 1/1 [00:00<00:00, 1960.87it/s]\n",
            "convert squad examples to features: 100%|██████████| 1/1 [00:00<00:00, 71.97it/s]\n",
            "add example index and unique id: 100%|██████████| 1/1 [00:00<00:00, 584.57it/s]\n",
            "convert squad examples to features: 100%|██████████| 1/1 [00:00<00:00, 63.99it/s]\n",
            "add example index and unique id: 100%|██████████| 1/1 [00:00<00:00, 2231.01it/s]\n",
            "convert squad examples to features: 100%|██████████| 1/1 [00:00<00:00, 76.81it/s]\n",
            "add example index and unique id: 100%|██████████| 1/1 [00:00<00:00, 538.49it/s]\n",
            "convert squad examples to features: 100%|██████████| 1/1 [00:00<00:00, 83.38it/s]\n",
            "add example index and unique id: 100%|██████████| 1/1 [00:00<00:00, 1926.64it/s]\n",
            "convert squad examples to features: 100%|██████████| 1/1 [00:00<00:00, 84.15it/s]\n",
            "add example index and unique id: 100%|██████████| 1/1 [00:00<00:00, 5966.29it/s]\n",
            "convert squad examples to features: 100%|██████████| 1/1 [00:00<00:00, 92.78it/s]\n",
            "add example index and unique id: 100%|██████████| 1/1 [00:00<00:00, 4660.34it/s]\n",
            "convert squad examples to features: 100%|██████████| 1/1 [00:00<00:00, 117.24it/s]\n",
            "add example index and unique id: 100%|██████████| 1/1 [00:00<00:00, 456.80it/s]\n",
            "convert squad examples to features: 100%|██████████| 1/1 [00:00<00:00, 54.11it/s]\n",
            "add example index and unique id: 100%|██████████| 1/1 [00:00<00:00, 2359.00it/s]\n",
            "convert squad examples to features: 100%|██████████| 1/1 [00:00<00:00, 73.92it/s]\n",
            "add example index and unique id: 100%|██████████| 1/1 [00:00<00:00, 709.34it/s]\n",
            "convert squad examples to features: 100%|██████████| 1/1 [00:00<00:00, 59.03it/s]\n",
            "add example index and unique id: 100%|██████████| 1/1 [00:00<00:00, 437.13it/s]\n",
            "convert squad examples to features: 100%|██████████| 1/1 [00:00<00:00, 15.22it/s]\n",
            "add example index and unique id: 100%|██████████| 1/1 [00:00<00:00, 5809.29it/s]\n",
            "convert squad examples to features: 100%|██████████| 1/1 [00:00<00:00, 64.46it/s]\n",
            "add example index and unique id: 100%|██████████| 1/1 [00:00<00:00, 2039.04it/s]\n",
            "convert squad examples to features: 100%|██████████| 1/1 [00:00<00:00, 58.47it/s]\n",
            "add example index and unique id: 100%|██████████| 1/1 [00:00<00:00, 2437.13it/s]\n",
            "convert squad examples to features: 100%|██████████| 1/1 [00:00<00:00, 34.17it/s]\n",
            "add example index and unique id: 100%|██████████| 1/1 [00:00<00:00, 2285.72it/s]\n"
          ],
          "name": "stderr"
        },
        {
          "output_type": "stream",
          "text": [
            "\n",
            "======================\n",
            "\n",
            "Query: What is COVID-19?\n",
            "\n",
            "The most similar sentences in corpus:\n",
            "\n",
            "1 .  Logistic regression analyses showed that male HCWs Table 5 . (Score: 0.0829)\n",
            "From the article with title:  The perceived effectiveness of MERS-CoV educational programs and knowledge transfer among primary healthcare workers: a cross-sectional survey\n",
            "\n",
            "\n",
            "2 .  Competing Interests: (Score: 0.0271)\n",
            "From the article with title:  Open Peer Review Study design and protocol for investigating social network patterns in rural and urban schools and households in a coastal setting in Kenya using wearable proximity sensors [version 2; peer review: 2 approved] version 1 , London School of Hygiene\n",
            "\n",
            "\n",
            "3 .  Contents of the file ebola.R: (Score: 0.0015)\n",
            "From the article with title:  Supplementary Material for: Avoidable errors in the modeling of outbreaks of emerging pathogens, with special reference to Ebola Appendix A. Simulation study\n",
            "\n",
            "\n",
            "4 .  Notably, analysis of the detected pathogens revealed that none of the pathogens is dominant (Fig. S3B) .  (Score: 0.0001)\n",
            "From the article with title:  3. Supporting Information S3 -Cohort characteristics 3.1. Summary of the patient cohorts used in this study\n",
            "\n",
            "\n"
          ],
          "name": "stdout"
        },
        {
          "output_type": "stream",
          "text": [
            "convert squad examples to features: 100%|██████████| 1/1 [00:00<00:00, 54.13it/s]\n",
            "add example index and unique id: 100%|██████████| 1/1 [00:00<00:00, 6452.78it/s]\n",
            "convert squad examples to features: 100%|██████████| 1/1 [00:00<00:00, 73.19it/s]\n",
            "add example index and unique id: 100%|██████████| 1/1 [00:00<00:00, 2244.14it/s]\n",
            "convert squad examples to features: 100%|██████████| 1/1 [00:00<00:00, 69.67it/s]\n",
            "add example index and unique id: 100%|██████████| 1/1 [00:00<00:00, 2183.40it/s]\n",
            "convert squad examples to features: 100%|██████████| 1/1 [00:00<00:00, 89.03it/s]\n",
            "add example index and unique id: 100%|██████████| 1/1 [00:00<00:00, 2182.26it/s]\n",
            "convert squad examples to features: 100%|██████████| 1/1 [00:00<00:00, 72.12it/s]\n",
            "add example index and unique id: 100%|██████████| 1/1 [00:00<00:00, 2318.58it/s]\n",
            "convert squad examples to features: 100%|██████████| 1/1 [00:00<00:00, 124.16it/s]\n",
            "add example index and unique id: 100%|██████████| 1/1 [00:00<00:00, 2280.75it/s]\n",
            "convert squad examples to features: 100%|██████████| 1/1 [00:00<00:00, 65.37it/s]\n",
            "add example index and unique id: 100%|██████████| 1/1 [00:00<00:00, 635.69it/s]\n",
            "convert squad examples to features: 100%|██████████| 1/1 [00:00<00:00, 70.85it/s]\n",
            "add example index and unique id: 100%|██████████| 1/1 [00:00<00:00, 351.22it/s]\n",
            "convert squad examples to features: 100%|██████████| 1/1 [00:00<00:00, 65.92it/s]\n",
            "add example index and unique id: 100%|██████████| 1/1 [00:00<00:00, 2714.76it/s]\n",
            "convert squad examples to features: 100%|██████████| 1/1 [00:00<00:00, 43.33it/s]\n",
            "add example index and unique id: 100%|██████████| 1/1 [00:00<00:00, 1833.17it/s]\n",
            "convert squad examples to features: 100%|██████████| 1/1 [00:00<00:00, 73.99it/s]\n",
            "add example index and unique id: 100%|██████████| 1/1 [00:00<00:00, 1976.58it/s]\n",
            "convert squad examples to features: 100%|██████████| 1/1 [00:00<00:00, 74.25it/s]\n",
            "add example index and unique id: 100%|██████████| 1/1 [00:00<00:00, 916.79it/s]\n",
            "convert squad examples to features: 100%|██████████| 1/1 [00:00<00:00, 75.57it/s]\n",
            "add example index and unique id: 100%|██████████| 1/1 [00:00<00:00, 2221.56it/s]\n",
            "convert squad examples to features: 100%|██████████| 1/1 [00:00<00:00, 75.39it/s]\n",
            "add example index and unique id: 100%|██████████| 1/1 [00:00<00:00, 2173.21it/s]\n",
            "convert squad examples to features: 100%|██████████| 1/1 [00:00<00:00, 51.52it/s]\n",
            "add example index and unique id: 100%|██████████| 1/1 [00:00<00:00, 4271.19it/s]\n",
            "convert squad examples to features: 100%|██████████| 1/1 [00:00<00:00, 42.18it/s]\n",
            "add example index and unique id: 100%|██████████| 1/1 [00:00<00:00, 2425.86it/s]\n",
            "convert squad examples to features: 100%|██████████| 1/1 [00:00<00:00, 48.47it/s]\n",
            "add example index and unique id: 100%|██████████| 1/1 [00:00<00:00, 5645.09it/s]\n",
            "convert squad examples to features: 100%|██████████| 1/1 [00:00<00:00, 32.78it/s]\n",
            "add example index and unique id: 100%|██████████| 1/1 [00:00<00:00, 5940.94it/s]\n",
            "convert squad examples to features: 100%|██████████| 1/1 [00:00<00:00, 64.99it/s]\n",
            "add example index and unique id: 100%|██████████| 1/1 [00:00<00:00, 2322.43it/s]\n",
            "convert squad examples to features: 100%|██████████| 1/1 [00:00<00:00, 63.08it/s]\n",
            "add example index and unique id: 100%|██████████| 1/1 [00:00<00:00, 2194.82it/s]\n"
          ],
          "name": "stderr"
        },
        {
          "output_type": "stream",
          "text": [
            "\n",
            "======================\n",
            "\n",
            "Query: What is caused by SARS?\n",
            "\n",
            "The most similar sentences in corpus:\n",
            "\n",
            "1 .  For instance, variants of NS1 or prM affect ZIKV ability to infect mosquito cells or induce microcephaly, respectively 59, 60 . (Score: 0.6377)\n",
            "From the article with title:  Ribosomal stress and Tp53- mediated neuronal apoptosis in response to capsid protein of the Zika virus OPEN\n",
            "\n",
            "\n",
            "2 .  The iFiTM3 snP rs12252 c allele and cc genotype associated with severe hFrs Disease and a higher Plasma hTnV load (Score: 0.4592)\n",
            "From the article with title:  interferon-induced Transmembrane Protein 3 inhibits hantaan Virus infection, and its single nucleotide Polymorphism rs12252 influences the severity of hemorrhagic Fever with renal syndrome\n",
            "\n",
            "\n",
            "3 .  Such secondary forms of sIgMD, occurring concomitantly to CD, could be linked to a decreased immunoglobulin synthesis by a dysfunctional lymphoreticular tissue stimulated by gluten antigen exposure [85, 87] . (Score: 0.3761)\n",
            "From the article with title:  Seronegative Celiac Disease and Immunoglobulin Deficiency: Where to Look in the Submerged Iceberg?\n",
            "\n",
            "\n",
            "4 .  To reduce transmission of infectious diseases. (Score: 0.3549)\n",
            "From the article with title:  BMC Public Health Applying the balanced scorecard to local public health performance measurement: deliberations and decisions\n",
            "\n",
            "\n"
          ],
          "name": "stdout"
        },
        {
          "output_type": "stream",
          "text": [
            "convert squad examples to features: 100%|██████████| 1/1 [00:00<00:00, 70.50it/s]\n",
            "add example index and unique id: 100%|██████████| 1/1 [00:00<00:00, 753.15it/s]\n",
            "convert squad examples to features: 100%|██████████| 1/1 [00:00<00:00, 72.63it/s]\n",
            "add example index and unique id: 100%|██████████| 1/1 [00:00<00:00, 5801.25it/s]\n",
            "convert squad examples to features: 100%|██████████| 1/1 [00:00<00:00, 66.81it/s]\n",
            "add example index and unique id: 100%|██████████| 1/1 [00:00<00:00, 2159.79it/s]\n",
            "convert squad examples to features: 100%|██████████| 1/1 [00:00<00:00, 71.55it/s]\n",
            "add example index and unique id: 100%|██████████| 1/1 [00:00<00:00, 2139.95it/s]\n",
            "convert squad examples to features: 100%|██████████| 1/1 [00:00<00:00, 73.61it/s]\n",
            "add example index and unique id: 100%|██████████| 1/1 [00:00<00:00, 2262.30it/s]\n",
            "convert squad examples to features: 100%|██████████| 1/1 [00:00<00:00, 77.62it/s]\n",
            "add example index and unique id: 100%|██████████| 1/1 [00:00<00:00, 1860.83it/s]\n",
            "convert squad examples to features: 100%|██████████| 1/1 [00:00<00:00, 66.16it/s]\n",
            "add example index and unique id: 100%|██████████| 1/1 [00:00<00:00, 2148.72it/s]\n",
            "convert squad examples to features: 100%|██████████| 1/1 [00:00<00:00, 77.65it/s]\n",
            "add example index and unique id: 100%|██████████| 1/1 [00:00<00:00, 731.10it/s]\n",
            "convert squad examples to features: 100%|██████████| 1/1 [00:00<00:00, 80.00it/s]\n",
            "add example index and unique id: 100%|██████████| 1/1 [00:00<00:00, 3246.37it/s]\n",
            "convert squad examples to features: 100%|██████████| 1/1 [00:00<00:00, 81.25it/s]\n",
            "add example index and unique id: 100%|██████████| 1/1 [00:00<00:00, 3775.25it/s]\n",
            "convert squad examples to features: 100%|██████████| 1/1 [00:00<00:00, 61.52it/s]\n",
            "add example index and unique id: 100%|██████████| 1/1 [00:00<00:00, 610.44it/s]\n",
            "convert squad examples to features: 100%|██████████| 1/1 [00:00<00:00, 39.17it/s]\n",
            "add example index and unique id: 100%|██████████| 1/1 [00:00<00:00, 2198.27it/s]\n",
            "convert squad examples to features: 100%|██████████| 1/1 [00:00<00:00, 49.34it/s]\n",
            "add example index and unique id: 100%|██████████| 1/1 [00:00<00:00, 1986.88it/s]\n",
            "convert squad examples to features: 100%|██████████| 1/1 [00:00<00:00, 45.03it/s]\n",
            "add example index and unique id: 100%|██████████| 1/1 [00:00<00:00, 3123.09it/s]\n",
            "convert squad examples to features: 100%|██████████| 1/1 [00:00<00:00, 72.51it/s]\n",
            "add example index and unique id: 100%|██████████| 1/1 [00:00<00:00, 647.07it/s]\n",
            "convert squad examples to features: 100%|██████████| 1/1 [00:00<00:00, 65.48it/s]\n",
            "add example index and unique id: 100%|██████████| 1/1 [00:00<00:00, 3905.31it/s]\n",
            "convert squad examples to features: 100%|██████████| 1/1 [00:00<00:00, 45.60it/s]\n",
            "add example index and unique id: 100%|██████████| 1/1 [00:00<00:00, 491.02it/s]\n",
            "convert squad examples to features: 100%|██████████| 1/1 [00:00<00:00, 64.19it/s]\n",
            "add example index and unique id: 100%|██████████| 1/1 [00:00<00:00, 718.69it/s]\n",
            "convert squad examples to features: 100%|██████████| 1/1 [00:00<00:00, 34.96it/s]\n",
            "add example index and unique id: 100%|██████████| 1/1 [00:00<00:00, 1942.71it/s]\n",
            "convert squad examples to features: 100%|██████████| 1/1 [00:00<00:00, 62.37it/s]\n",
            "add example index and unique id: 100%|██████████| 1/1 [00:00<00:00, 2334.06it/s]\n"
          ],
          "name": "stderr"
        },
        {
          "output_type": "stream",
          "text": [
            "\n",
            "======================\n",
            "\n",
            "Query: How is COVID-19 spread?\n",
            "\n",
            "The most similar sentences in corpus:\n",
            "\n",
            "1 .  SARS-CoV is thought to be transmitted by respiratory droplets produced when an infected person coughs or sneezes [19] .  (Score: 0.5132)\n",
            "From the article with title:  Structure analysis of the receptor binding of 2019-nCoV\n",
            "\n",
            "\n",
            "2 .  SARS-CoV is thought to be transmitted by respiratory droplets produced when an infected person coughs or sneezes [19] .  (Score: 0.5132)\n",
            "From the article with title:  Structure analysis of the receptor binding of 2019-nCoV\n",
            "\n",
            "\n",
            "3 .  Competing Interests: (Score: 0.0039)\n",
            "From the article with title:  Open Peer Review Study design and protocol for investigating social network patterns in rural and urban schools and households in a coastal setting in Kenya using wearable proximity sensors [version 2; peer review: 2 approved] version 1 , London School of Hygiene\n",
            "\n",
            "\n",
            "4 .  Are there more influenza and influenza-like viruses circulating in bats or other hosts in Central and South America and other parts of the world?  (Score: 0.0005)\n",
            "From the article with title:  Expected and Unexpected Features of the Newly Discovered Bat Influenza A-like Viruses Are Bat Influenza A-like Viruses Different from Classical IAVs?\n",
            "\n",
            "\n"
          ],
          "name": "stdout"
        },
        {
          "output_type": "stream",
          "text": [
            "convert squad examples to features: 100%|██████████| 1/1 [00:00<00:00, 68.90it/s]\n",
            "add example index and unique id: 100%|██████████| 1/1 [00:00<00:00, 5622.39it/s]\n",
            "convert squad examples to features: 100%|██████████| 1/1 [00:00<00:00, 61.58it/s]\n",
            "add example index and unique id: 100%|██████████| 1/1 [00:00<00:00, 690.42it/s]\n",
            "convert squad examples to features: 100%|██████████| 1/1 [00:00<00:00, 56.89it/s]\n",
            "add example index and unique id: 100%|██████████| 1/1 [00:00<00:00, 1936.43it/s]\n",
            "convert squad examples to features: 100%|██████████| 1/1 [00:00<00:00, 56.94it/s]\n",
            "add example index and unique id: 100%|██████████| 1/1 [00:00<00:00, 700.92it/s]\n",
            "convert squad examples to features: 100%|██████████| 1/1 [00:00<00:00, 60.24it/s]\n",
            "add example index and unique id: 100%|██████████| 1/1 [00:00<00:00, 3761.71it/s]\n",
            "convert squad examples to features: 100%|██████████| 1/1 [00:00<00:00, 71.23it/s]\n",
            "add example index and unique id: 100%|██████████| 1/1 [00:00<00:00, 2136.68it/s]\n",
            "convert squad examples to features: 100%|██████████| 1/1 [00:00<00:00, 60.33it/s]\n",
            "add example index and unique id: 100%|██████████| 1/1 [00:00<00:00, 5857.97it/s]\n",
            "convert squad examples to features: 100%|██████████| 1/1 [00:00<00:00, 129.23it/s]\n",
            "add example index and unique id: 100%|██████████| 1/1 [00:00<00:00, 1833.17it/s]\n",
            "convert squad examples to features: 100%|██████████| 1/1 [00:00<00:00, 65.30it/s]\n",
            "add example index and unique id: 100%|██████████| 1/1 [00:00<00:00, 5309.25it/s]\n",
            "convert squad examples to features: 100%|██████████| 1/1 [00:00<00:00, 65.54it/s]\n",
            "add example index and unique id: 100%|██████████| 1/1 [00:00<00:00, 481.94it/s]\n",
            "convert squad examples to features: 100%|██████████| 1/1 [00:00<00:00, 30.18it/s]\n",
            "add example index and unique id: 100%|██████████| 1/1 [00:00<00:00, 1738.21it/s]\n",
            "convert squad examples to features: 100%|██████████| 1/1 [00:00<00:00, 42.80it/s]\n",
            "add example index and unique id: 100%|██████████| 1/1 [00:00<00:00, 6765.01it/s]\n",
            "convert squad examples to features: 100%|██████████| 1/1 [00:00<00:00, 54.16it/s]\n",
            "add example index and unique id: 100%|██████████| 1/1 [00:00<00:00, 4185.93it/s]\n",
            "convert squad examples to features: 100%|██████████| 1/1 [00:00<00:00, 42.72it/s]\n",
            "add example index and unique id: 100%|██████████| 1/1 [00:00<00:00, 1913.46it/s]\n",
            "convert squad examples to features: 100%|██████████| 1/1 [00:00<00:00, 73.90it/s]\n",
            "add example index and unique id: 100%|██████████| 1/1 [00:00<00:00, 2065.14it/s]\n",
            "convert squad examples to features: 100%|██████████| 1/1 [00:00<00:00, 52.57it/s]\n",
            "add example index and unique id: 100%|██████████| 1/1 [00:00<00:00, 488.22it/s]\n",
            "convert squad examples to features: 100%|██████████| 1/1 [00:00<00:00, 48.89it/s]\n",
            "add example index and unique id: 100%|██████████| 1/1 [00:00<00:00, 4675.92it/s]\n",
            "convert squad examples to features: 100%|██████████| 1/1 [00:00<00:00, 60.11it/s]\n",
            "add example index and unique id: 100%|██████████| 1/1 [00:00<00:00, 2074.33it/s]\n",
            "convert squad examples to features: 100%|██████████| 1/1 [00:00<00:00, 38.55it/s]\n",
            "add example index and unique id: 100%|██████████| 1/1 [00:00<00:00, 752.88it/s]\n",
            "convert squad examples to features: 100%|██████████| 1/1 [00:00<00:00, 62.98it/s]\n",
            "add example index and unique id: 100%|██████████| 1/1 [00:00<00:00, 4369.07it/s]\n"
          ],
          "name": "stderr"
        },
        {
          "output_type": "stream",
          "text": [
            "\n",
            "======================\n",
            "\n",
            "Query: How does coronavirus spread?\n",
            "\n",
            "The most similar sentences in corpus:\n",
            "\n",
            "1 .  Furthermore, we proposed that the site of aggregation of p97 and EV71 viral proteins in the infected cells might be the site of viral replication. (Score: 0.7229)\n",
            "From the article with title:  Enterovirus 71 protease 2A pro and 3C pro differentially inhibit the cellular endoplasmic reticulum-associated degradation (ERAD) pathway via distinct mechanisms, and enterovirus 71 hijacks ERAD component p97 to promote its replication\n",
            "\n",
            "\n",
            "2 .  Further studies are needed to assess the risk of airborne transmission of PEDV among farms and the need to address this route in biosecurity and health control programs.  (Score: 0.2049)\n",
            "From the article with title:  Evidence of infectivity of airborne porcine epidemic diarrhea virus and detection of airborne viral RNA at long distances from infected herds\n",
            "\n",
            "\n",
            "3 .  Together, these experiments demonstrate that bat T cells are able to proliferate in response to either mitogenic stimulation or to the presence of non-self antigens. (Score: 0.1070)\n",
            "From the article with title:  Phenotypic and functional characterization of the major lymphocyte populations in the fruit-eating bat Pteropus alecto OPEN\n",
            "\n",
            "\n",
            "4 .  There is evidence of human infection of ebolavirus in central Africa as a result of direct bat-to-human transmission [16] .  (Score: 0.0962)\n",
            "From the article with title:  Serological evidence of ebolavirus infection in bats, China\n",
            "\n",
            "\n"
          ],
          "name": "stdout"
        },
        {
          "output_type": "stream",
          "text": [
            "convert squad examples to features: 100%|██████████| 1/1 [00:00<00:00, 57.67it/s]\n",
            "add example index and unique id: 100%|██████████| 1/1 [00:00<00:00, 5899.16it/s]\n",
            "convert squad examples to features: 100%|██████████| 1/1 [00:00<00:00, 33.35it/s]\n",
            "add example index and unique id: 100%|██████████| 1/1 [00:00<00:00, 6533.18it/s]\n",
            "convert squad examples to features: 100%|██████████| 1/1 [00:00<00:00, 60.38it/s]\n",
            "add example index and unique id: 100%|██████████| 1/1 [00:00<00:00, 1940.91it/s]\n",
            "convert squad examples to features: 100%|██████████| 1/1 [00:00<00:00, 63.68it/s]\n",
            "add example index and unique id: 100%|██████████| 1/1 [00:00<00:00, 385.93it/s]\n",
            "convert squad examples to features: 100%|██████████| 1/1 [00:00<00:00, 49.49it/s]\n",
            "add example index and unique id: 100%|██████████| 1/1 [00:00<00:00, 632.43it/s]\n",
            "convert squad examples to features: 100%|██████████| 1/1 [00:00<00:00, 70.30it/s]\n",
            "add example index and unique id: 100%|██████████| 1/1 [00:00<00:00, 330.57it/s]\n",
            "convert squad examples to features: 100%|██████████| 1/1 [00:00<00:00, 36.36it/s]\n",
            "add example index and unique id: 100%|██████████| 1/1 [00:00<00:00, 690.19it/s]\n",
            "convert squad examples to features: 100%|██████████| 1/1 [00:00<00:00, 35.05it/s]\n",
            "add example index and unique id: 100%|██████████| 1/1 [00:00<00:00, 6307.22it/s]\n",
            "convert squad examples to features: 100%|██████████| 1/1 [00:00<00:00, 36.03it/s]\n",
            "add example index and unique id: 100%|██████████| 1/1 [00:00<00:00, 5121.25it/s]\n",
            "convert squad examples to features: 100%|██████████| 1/1 [00:00<00:00, 62.71it/s]\n",
            "add example index and unique id: 100%|██████████| 1/1 [00:00<00:00, 6345.39it/s]\n",
            "convert squad examples to features: 100%|██████████| 1/1 [00:00<00:00, 40.70it/s]\n",
            "add example index and unique id: 100%|██████████| 1/1 [00:00<00:00, 811.59it/s]\n",
            "convert squad examples to features: 100%|██████████| 1/1 [00:00<00:00, 34.76it/s]\n",
            "add example index and unique id: 100%|██████████| 1/1 [00:00<00:00, 2092.97it/s]\n",
            "convert squad examples to features: 100%|██████████| 1/1 [00:00<00:00, 64.41it/s]\n",
            "add example index and unique id: 100%|██████████| 1/1 [00:00<00:00, 2562.19it/s]\n",
            "convert squad examples to features: 100%|██████████| 1/1 [00:00<00:00, 56.10it/s]\n",
            "add example index and unique id: 100%|██████████| 1/1 [00:00<00:00, 6232.25it/s]\n",
            "convert squad examples to features: 100%|██████████| 1/1 [00:00<00:00, 35.94it/s]\n",
            "add example index and unique id: 100%|██████████| 1/1 [00:00<00:00, 2061.08it/s]\n",
            "convert squad examples to features: 100%|██████████| 1/1 [00:00<00:00, 46.69it/s]\n",
            "add example index and unique id: 100%|██████████| 1/1 [00:00<00:00, 2232.20it/s]\n",
            "convert squad examples to features: 100%|██████████| 1/1 [00:00<00:00, 42.49it/s]\n",
            "add example index and unique id: 100%|██████████| 1/1 [00:00<00:00, 4219.62it/s]\n",
            "convert squad examples to features: 100%|██████████| 1/1 [00:00<00:00, 39.01it/s]\n",
            "add example index and unique id: 100%|██████████| 1/1 [00:00<00:00, 723.78it/s]\n",
            "convert squad examples to features: 100%|██████████| 1/1 [00:00<00:00, 49.11it/s]\n",
            "add example index and unique id: 100%|██████████| 1/1 [00:00<00:00, 3584.88it/s]\n",
            "convert squad examples to features: 100%|██████████| 1/1 [00:00<00:00, 55.24it/s]\n",
            "add example index and unique id: 100%|██████████| 1/1 [00:00<00:00, 2452.81it/s]\n"
          ],
          "name": "stderr"
        },
        {
          "output_type": "stream",
          "text": [
            "\n",
            "======================\n",
            "\n",
            "Query: Can the use of masks prevent SARS?\n",
            "\n",
            "The most similar sentences in corpus:\n",
            "\n",
            "1 .  Our study was limited in that we were unable to evaluate the effects of N95-mask usage at higher work intensities and over longer durations because of ethical concerns.  (Score: 0.7816)\n",
            "From the article with title:  Respiratory consequences of N95-type Mask usage in pregnant healthcare workers-a controlled clinical study\n",
            "\n",
            "\n",
            "2 .  This device prevented participants from interfering with the path of the laser beam. (Score: 0.3837)\n",
            "From the article with title:  Effectiveness of cough etiquette maneuvers in disrupting the chain of transmission of infectious respiratory diseases\n",
            "\n",
            "\n",
            "3 .  At the time of FI-RSV production and clinical evaluation, it was thought that although formalin treatment would render RSV non-infectious, it would not interfere with the antigenic properties of the virus.  (Score: 0.1353)\n",
            "From the article with title:  Pre-fusion F is absent on the surface of formalin-inactivated respiratory syncytial virus OPEN\n",
            "\n",
            "\n",
            "4 .  There is currently no established protocol for the decolonization of patients with C. auris. (Score: 0.0605)\n",
            "From the article with title:  Candida auris: A Review of Recommendations for Detection and Control in Healthcare Settings\n",
            "\n",
            "\n"
          ],
          "name": "stdout"
        },
        {
          "output_type": "stream",
          "text": [
            "convert squad examples to features: 100%|██████████| 1/1 [00:00<00:00, 61.99it/s]\n",
            "add example index and unique id: 100%|██████████| 1/1 [00:00<00:00, 797.70it/s]\n",
            "convert squad examples to features: 100%|██████████| 1/1 [00:00<00:00, 45.06it/s]\n",
            "add example index and unique id: 100%|██████████| 1/1 [00:00<00:00, 2507.06it/s]\n",
            "convert squad examples to features: 100%|██████████| 1/1 [00:00<00:00, 49.63it/s]\n",
            "add example index and unique id: 100%|██████████| 1/1 [00:00<00:00, 2261.08it/s]\n",
            "convert squad examples to features: 100%|██████████| 1/1 [00:00<00:00, 63.70it/s]\n",
            "add example index and unique id: 100%|██████████| 1/1 [00:00<00:00, 3975.64it/s]\n",
            "convert squad examples to features: 100%|██████████| 1/1 [00:00<00:00, 36.67it/s]\n",
            "add example index and unique id: 100%|██████████| 1/1 [00:00<00:00, 2447.09it/s]\n",
            "convert squad examples to features: 100%|██████████| 1/1 [00:00<00:00, 42.35it/s]\n",
            "add example index and unique id: 100%|██████████| 1/1 [00:00<00:00, 454.32it/s]\n",
            "convert squad examples to features: 100%|██████████| 1/1 [00:00<00:00, 36.87it/s]\n",
            "add example index and unique id: 100%|██████████| 1/1 [00:00<00:00, 1938.22it/s]\n",
            "convert squad examples to features: 100%|██████████| 1/1 [00:00<00:00, 41.20it/s]\n",
            "add example index and unique id: 100%|██████████| 1/1 [00:00<00:00, 2038.05it/s]\n",
            "convert squad examples to features: 100%|██████████| 1/1 [00:00<00:00, 43.25it/s]\n",
            "add example index and unique id: 100%|██████████| 1/1 [00:00<00:00, 2113.00it/s]\n",
            "convert squad examples to features: 100%|██████████| 1/1 [00:00<00:00, 31.19it/s]\n",
            "add example index and unique id: 100%|██████████| 1/1 [00:00<00:00, 2147.62it/s]\n",
            "convert squad examples to features: 100%|██████████| 1/1 [00:00<00:00, 61.88it/s]\n",
            "add example index and unique id: 100%|██████████| 1/1 [00:00<00:00, 2234.58it/s]\n",
            "convert squad examples to features: 100%|██████████| 1/1 [00:00<00:00, 33.39it/s]\n",
            "add example index and unique id: 100%|██████████| 1/1 [00:00<00:00, 5899.16it/s]\n",
            "convert squad examples to features: 100%|██████████| 1/1 [00:00<00:00, 61.42it/s]\n",
            "add example index and unique id: 100%|██████████| 1/1 [00:00<00:00, 4675.92it/s]\n",
            "convert squad examples to features: 100%|██████████| 1/1 [00:00<00:00, 21.57it/s]\n",
            "add example index and unique id: 100%|██████████| 1/1 [00:00<00:00, 2332.76it/s]\n",
            "convert squad examples to features: 100%|██████████| 1/1 [00:00<00:00, 56.43it/s]\n",
            "add example index and unique id: 100%|██████████| 1/1 [00:00<00:00, 5184.55it/s]\n",
            "convert squad examples to features: 100%|██████████| 1/1 [00:00<00:00, 44.38it/s]\n",
            "add example index and unique id: 100%|██████████| 1/1 [00:00<00:00, 5336.26it/s]\n",
            "convert squad examples to features: 100%|██████████| 1/1 [00:00<00:00, 28.87it/s]\n",
            "add example index and unique id: 100%|██████████| 1/1 [00:00<00:00, 3919.91it/s]\n",
            "convert squad examples to features: 100%|██████████| 1/1 [00:00<00:00, 41.16it/s]\n",
            "add example index and unique id: 100%|██████████| 1/1 [00:00<00:00, 1558.64it/s]\n",
            "convert squad examples to features: 100%|██████████| 1/1 [00:00<00:00, 40.31it/s]\n",
            "add example index and unique id: 100%|██████████| 1/1 [00:00<00:00, 3685.68it/s]\n",
            "convert squad examples to features: 100%|██████████| 1/1 [00:00<00:00, 50.37it/s]\n",
            "add example index and unique id: 100%|██████████| 1/1 [00:00<00:00, 1909.11it/s]\n"
          ],
          "name": "stderr"
        },
        {
          "output_type": "stream",
          "text": [
            "\n",
            "======================\n",
            "\n",
            "Query: What is the Persistence of virus on surfaces of different materials (e.g. copper, stainless steel, plastic)?\n",
            "\n",
            "The most similar sentences in corpus:\n",
            "\n",
            "1 .  The NA proteins of human FLUAV facilitate release of progeny particles from infected cells by removing sialic acids from the cell surface.  (Score: 0.0948)\n",
            "From the article with title:  The Hemagglutinin of Bat-Associated Influenza Viruses Is Activated by TMPRSS2 for pH-Dependent Entry into Bat but Not Human Cells\n",
            "\n",
            "\n",
            "2 .  Diverse phenotypes of ZIKV have been demonstrated [41, 54, 55] where African strains showed a higher infection rate than Asian strains, and varying yields of virus produced in human neuronal cell lines were recently reported.  (Score: 0.0848)\n",
            "From the article with title:  Mitigating the risk of Zika virus contamination of raw materials and cell lines in the manufacture of biologicals\n",
            "\n",
            "\n",
            "3 .  The model considers spleen, liver and blood compartments, in which MHV replication is described at different resolution levels.  (Score: 0.0632)\n",
            "From the article with title:  A Systems Immunology Approach to Plasmacytoid Dendritic Cell Function in Cytopathic Virus Infections\n",
            "\n",
            "\n",
            "4 .  Common modes of transmission from inanimate surfaces to susceptible patients Figure 1 Common modes of transmission from inanimate surfaces to susceptible patients. (Score: 0.0294)\n",
            "From the article with title:  BMC Infectious Diseases How long do nosocomial pathogens persist on inanimate surfaces? A systematic review\n",
            "\n",
            "\n"
          ],
          "name": "stdout"
        },
        {
          "output_type": "stream",
          "text": [
            "convert squad examples to features: 100%|██████████| 1/1 [00:00<00:00, 96.26it/s]\n",
            "add example index and unique id: 100%|██████████| 1/1 [00:00<00:00, 2122.62it/s]\n",
            "convert squad examples to features: 100%|██████████| 1/1 [00:00<00:00, 61.90it/s]\n",
            "add example index and unique id: 100%|██████████| 1/1 [00:00<00:00, 2434.30it/s]\n",
            "convert squad examples to features: 100%|██████████| 1/1 [00:00<00:00, 63.87it/s]\n",
            "add example index and unique id: 100%|██████████| 1/1 [00:00<00:00, 2126.93it/s]\n",
            "convert squad examples to features: 100%|██████████| 1/1 [00:00<00:00, 69.45it/s]\n",
            "add example index and unique id: 100%|██████████| 1/1 [00:00<00:00, 4315.13it/s]\n",
            "convert squad examples to features: 100%|██████████| 1/1 [00:00<00:00, 51.42it/s]\n",
            "add example index and unique id: 100%|██████████| 1/1 [00:00<00:00, 5660.33it/s]\n",
            "convert squad examples to features: 100%|██████████| 1/1 [00:00<00:00, 39.94it/s]\n",
            "add example index and unique id: 100%|██████████| 1/1 [00:00<00:00, 2383.13it/s]\n",
            "convert squad examples to features: 100%|██████████| 1/1 [00:00<00:00, 58.29it/s]\n",
            "add example index and unique id: 100%|██████████| 1/1 [00:00<00:00, 2238.16it/s]\n",
            "convert squad examples to features: 100%|██████████| 1/1 [00:00<00:00, 39.96it/s]\n",
            "add example index and unique id: 100%|██████████| 1/1 [00:00<00:00, 748.58it/s]\n",
            "convert squad examples to features: 100%|██████████| 1/1 [00:00<00:00, 42.13it/s]\n",
            "add example index and unique id: 100%|██████████| 1/1 [00:00<00:00, 1292.54it/s]\n",
            "convert squad examples to features: 100%|██████████| 1/1 [00:00<00:00, 38.32it/s]\n",
            "add example index and unique id: 100%|██████████| 1/1 [00:00<00:00, 2121.55it/s]\n",
            "convert squad examples to features: 100%|██████████| 1/1 [00:00<00:00, 56.81it/s]\n",
            "add example index and unique id: 100%|██████████| 1/1 [00:00<00:00, 2325.00it/s]\n",
            "convert squad examples to features: 100%|██████████| 1/1 [00:00<00:00, 49.63it/s]\n",
            "add example index and unique id: 100%|██████████| 1/1 [00:00<00:00, 2078.45it/s]\n",
            "convert squad examples to features: 100%|██████████| 1/1 [00:00<00:00, 55.78it/s]\n",
            "add example index and unique id: 100%|██████████| 1/1 [00:00<00:00, 2387.20it/s]\n",
            "convert squad examples to features: 100%|██████████| 1/1 [00:00<00:00, 69.11it/s]\n",
            "add example index and unique id: 100%|██████████| 1/1 [00:00<00:00, 1614.44it/s]\n",
            "convert squad examples to features: 100%|██████████| 1/1 [00:00<00:00, 58.70it/s]\n",
            "add example index and unique id: 100%|██████████| 1/1 [00:00<00:00, 2305.83it/s]\n",
            "convert squad examples to features: 100%|██████████| 1/1 [00:00<00:00, 35.80it/s]\n",
            "add example index and unique id: 100%|██████████| 1/1 [00:00<00:00, 6689.48it/s]\n",
            "convert squad examples to features: 100%|██████████| 1/1 [00:00<00:00, 76.29it/s]\n",
            "add example index and unique id: 100%|██████████| 1/1 [00:00<00:00, 4253.86it/s]\n",
            "convert squad examples to features: 100%|██████████| 1/1 [00:00<00:00, 63.46it/s]\n",
            "add example index and unique id: 100%|██████████| 1/1 [00:00<00:00, 649.27it/s]\n",
            "convert squad examples to features: 100%|██████████| 1/1 [00:00<00:00, 36.86it/s]\n",
            "add example index and unique id: 100%|██████████| 1/1 [00:00<00:00, 4832.15it/s]\n",
            "convert squad examples to features: 100%|██████████| 1/1 [00:00<00:00, 46.11it/s]\n",
            "add example index and unique id: 100%|██████████| 1/1 [00:00<00:00, 1854.25it/s]\n"
          ],
          "name": "stderr"
        },
        {
          "output_type": "stream",
          "text": [
            "\n",
            "======================\n",
            "\n",
            "Query: What ages have higher mortality rate in covid-19?\n",
            "\n",
            "The most similar sentences in corpus:\n",
            "\n",
            "1 .  Nearly half of the patients (8/18) had hypertension, two had diabetes, three had coronary heart diseases, and three had COPD, indicating that chronic heart and lung diseases would increase risk for H7N9 infection. (Score: 0.1372)\n",
            "From the article with title:  Clinical Features and Factors Associated with Outcomes of Patients Infected with a Novel Influenza A (H7N9) Virus: A Preliminary Study\n",
            "\n",
            "\n",
            "2 .  : Flu+, 0.41 (0.24-0.69); Flu-, 0.42 (0.20, 0.90). (Score: 0.0012)\n",
            "From the article with title:  Gastroenteritis and respiratory infection outbreaks in French nursing homes from 2007 to 2018: Morbidity and all-cause lethality according to the individual characteristics of residents\n",
            "\n",
            "\n",
            "3 .  One-way ANOVA analysis was conducted to determine the age-related risk of BPH, OAB, and QoL. The risk of BPH significantly increased with age (12.65±7.96 for those aged 60-69 years and 15.21±8.86 for those over 80 years; P=0.002).  (Score: 0.0010)\n",
            "From the article with title:  Association between ambient temperature and lower urinary tract symptoms: a community-based survey\n",
            "\n",
            "\n",
            "4 .  We investigated the distribution of the three major categories of surgical indication according to sex, age group (<5 years, 5-11 years, 11-17 years, 18-40 years, and >40 years), hospital level (medical centers, regional hospitals, and local hospitals), and insured residence areas according to the NHI divisions (Taipei, Northern, Central, Southern, Kaoping, and Eastern).  (Score: 0.0010)\n",
            "From the article with title:  Factors associated with changing indications for adenotonsillectomy: A population-based longitudinal study\n",
            "\n",
            "\n"
          ],
          "name": "stdout"
        },
        {
          "output_type": "stream",
          "text": [
            "convert squad examples to features: 100%|██████████| 1/1 [00:00<00:00, 57.92it/s]\n",
            "add example index and unique id: 100%|██████████| 1/1 [00:00<00:00, 4424.37it/s]\n",
            "convert squad examples to features: 100%|██████████| 1/1 [00:00<00:00, 77.25it/s]\n",
            "add example index and unique id: 100%|██████████| 1/1 [00:00<00:00, 821.45it/s]\n",
            "convert squad examples to features: 100%|██████████| 1/1 [00:00<00:00, 65.32it/s]\n",
            "add example index and unique id: 100%|██████████| 1/1 [00:00<00:00, 3515.76it/s]\n",
            "convert squad examples to features: 100%|██████████| 1/1 [00:00<00:00, 62.87it/s]\n",
            "add example index and unique id: 100%|██████████| 1/1 [00:00<00:00, 6000.43it/s]\n",
            "convert squad examples to features: 100%|██████████| 1/1 [00:00<00:00, 53.49it/s]\n",
            "add example index and unique id: 100%|██████████| 1/1 [00:00<00:00, 2310.91it/s]\n",
            "convert squad examples to features: 100%|██████████| 1/1 [00:00<00:00, 63.50it/s]\n",
            "add example index and unique id: 100%|██████████| 1/1 [00:00<00:00, 2077.42it/s]\n",
            "convert squad examples to features: 100%|██████████| 1/1 [00:00<00:00, 55.69it/s]\n",
            "add example index and unique id: 100%|██████████| 1/1 [00:00<00:00, 2245.34it/s]\n",
            "convert squad examples to features: 100%|██████████| 1/1 [00:00<00:00, 51.38it/s]\n",
            "add example index and unique id: 100%|██████████| 1/1 [00:00<00:00, 627.80it/s]\n",
            "convert squad examples to features: 100%|██████████| 1/1 [00:00<00:00, 68.94it/s]\n",
            "add example index and unique id: 100%|██████████| 1/1 [00:00<00:00, 2326.29it/s]\n",
            "convert squad examples to features: 100%|██████████| 1/1 [00:00<00:00, 53.99it/s]\n",
            "add example index and unique id: 100%|██████████| 1/1 [00:00<00:00, 5817.34it/s]\n",
            "convert squad examples to features: 100%|██████████| 1/1 [00:00<00:00, 40.75it/s]\n",
            "add example index and unique id: 100%|██████████| 1/1 [00:00<00:00, 439.38it/s]\n",
            "convert squad examples to features: 100%|██████████| 1/1 [00:00<00:00, 64.14it/s]\n",
            "add example index and unique id: 100%|██████████| 1/1 [00:00<00:00, 2109.81it/s]\n",
            "convert squad examples to features: 100%|██████████| 1/1 [00:00<00:00, 52.80it/s]\n",
            "add example index and unique id: 100%|██████████| 1/1 [00:00<00:00, 1711.26it/s]\n",
            "convert squad examples to features: 100%|██████████| 1/1 [00:00<00:00, 59.98it/s]\n",
            "add example index and unique id: 100%|██████████| 1/1 [00:00<00:00, 675.85it/s]\n",
            "convert squad examples to features: 100%|██████████| 1/1 [00:00<00:00, 54.10it/s]\n",
            "add example index and unique id: 100%|██████████| 1/1 [00:00<00:00, 2304.56it/s]\n",
            "convert squad examples to features: 100%|██████████| 1/1 [00:00<00:00, 59.15it/s]\n",
            "add example index and unique id: 100%|██████████| 1/1 [00:00<00:00, 661.77it/s]\n",
            "convert squad examples to features: 100%|██████████| 1/1 [00:00<00:00, 48.21it/s]\n",
            "add example index and unique id: 100%|██████████| 1/1 [00:00<00:00, 642.71it/s]\n",
            "convert squad examples to features: 100%|██████████| 1/1 [00:00<00:00, 40.67it/s]\n",
            "add example index and unique id: 100%|██████████| 1/1 [00:00<00:00, 2228.64it/s]\n",
            "convert squad examples to features: 100%|██████████| 1/1 [00:00<00:00, 48.40it/s]\n",
            "add example index and unique id: 100%|██████████| 1/1 [00:00<00:00, 382.17it/s]\n",
            "convert squad examples to features: 100%|██████████| 1/1 [00:00<00:00, 61.04it/s]\n",
            "add example index and unique id: 100%|██████████| 1/1 [00:00<00:00, 1961.79it/s]\n"
          ],
          "name": "stderr"
        },
        {
          "output_type": "stream",
          "text": [
            "\n",
            "======================\n",
            "\n",
            "Query: What are the protective measures of covid-19?\n",
            "\n",
            "The most similar sentences in corpus:\n",
            "\n",
            "1 .  To reduce transmission of infectious diseases. (Score: 0.5282)\n",
            "From the article with title:  BMC Public Health Applying the balanced scorecard to local public health performance measurement: deliberations and decisions\n",
            "\n",
            "\n",
            "2 .  Following SARS, there were a number of risk communication technical assistance activities primarily coordinated by U.S. CDC, the WHO, and its Western Pacific Regional Office (WPRO).  (Score: 0.0633)\n",
            "From the article with title:  \n",
            "\n",
            "\n",
            "3 .  A P value of less than 0.05 was considered significant. (Score: 0.0189)\n",
            "From the article with title:  Sublingual immunization with recombinant adenovirus encoding SARS-CoV spike protein induces systemic and mucosal immunity without redirection of the virus to the brain\n",
            "\n",
            "\n",
            "4 .  In the prophylaxis scenario, we included adherence to prophylaxis and incidence of adverse events  (Score: 0.0159)\n",
            "From the article with title:  Cost-Effectiveness Analysis of Influenza A (H1N1) Chemoprophylaxis in Brazil\n",
            "\n",
            "\n"
          ],
          "name": "stdout"
        }
      ]
    },
    {
      "cell_type": "code",
      "metadata": {
        "colab": {
          "base_uri": "https://localhost:8080/"
        },
        "id": "4Ow4KEfFwqc1",
        "outputId": "e7774be4-678a-4e5f-c07f-d179fe19f7f8"
      },
      "source": [
        "end_time = time.time()\n",
        "print(end_time-start_time)"
      ],
      "execution_count": null,
      "outputs": [
        {
          "output_type": "stream",
          "text": [
            "498.7024712562561\n"
          ],
          "name": "stdout"
        }
      ]
    },
    {
      "cell_type": "markdown",
      "metadata": {
        "id": "yU4aagRjufUP"
      },
      "source": [
        "## ***Step 10:*** Summaries"
      ]
    },
    {
      "cell_type": "markdown",
      "metadata": {
        "id": "gK5y40KOumZV"
      },
      "source": [
        "- In general, I have to admit that I was more satisfied with my second model. The answers that it gives are more relevant and right (in most cases) than the first pretrained model. This might happens for these reasons:\n",
        "  - For the second model I used the pretrained model of covidbert-nli dataset and the comprehension model with pipeline from transformers with the pretrained model for question answering of covidbert_squad, instead of pretrained nli-roberta-base that I used in the my first model. First model is trained on general data, but the second model is based in data that concern the covid entirely. So it is very logic to me to give a better performance in questions that concern only the covid issues.\n",
        "  - If we look carefully, we will see that the second model, never returns me a answer that it is only one word like the first does. The first model returned me answers like \"(IM19)\" or \"(DOCX) S19 Information\" or \"1.19).\" or \"19 ).\" many times. This improvement may be due to the fact that I used the complehension model and I search for the sentence-answer in a paragraph by myself and not tokenized all of my data.\n",
        "- In many questions the answers is the requested from the very first answer. For instance, in the question \"What was discovered in Wuhuan in December 2019?\" the given answers were \"In December 2019, China detected many cases of viral pneumonia-like disease similar to SARS that were confirmed to be caused by novel Betacoronavirus, provisionally called 2019 novel coronavirus (2019-nCoV).\" and \"Since the announcement of a cluster of pneumonia cases of unknown etiology in Wuhan, Hubei Province, China, was made on 31 December 2019, many rapid virological, clinical, and epidemiological research responses have taken place.\", which both of them are correct. Moreover, for the question \"What is coronovirus Disease 2019?\" the answer is \"The causative agent of the pneumonia is suggested to be a novel coronavirus (2019-nCoV) of the same lineage (but genetically distinct) from the coronavirus causing severe acute respiratory syndrome (SARS)\" and the question \"How is COVID-19 spread?\" the answer is \"SARS-CoV is thought to be transmitted by respiratory droplets produced when an infected person coughs or sneezes.\" which are very satisfactory. The first model couldn't answer to these questions right and even more so from the first answer.\n",
        "- At some point, I notice that for many questions that includes the word \"covid-19\" has irrelevant answers, both in the first and the second notebook. I discovered after printing the top 15 abstracts for these questions, was in the above form:\n",
        "    - Conceptualization: PZ SP. \n",
        "    - 19.\n",
        "    - 2019; 21(4): e12251.\n",
        "    - IgA responses.\n",
        "    - Trends Parasitol.\n",
        "    - 2019; 11(2): pii: E176.\n",
        "    - mSphere 5:e00807-19.\n",
        "    - The expression of R 0 is as follows:\n",
        "    - a, the).\n",
        "    - (Fam.\n",
        "    - (A) Estimates of R 0 .\n",
        "    - S2) .\n",
        "    - or i.m.\n",
        "    - In Exp.\n",
        "    - In exp.\n",
        "\n",
        "  This is surely caused by the tokenization of abstracts context that had more complex texts and the sentences was splitted to the previous form. This is something that I couldn't control by myself, but it explains the reason that some of the answers have many low score and they are not very relevant to their questions. These abstracts (and these articles in general) aren't representative for looking to them the answer.\n",
        "- Sometimes the model may returns two times the same answer. This is because this sentence may be twice in the bodytexts of the aricles and it isn't something that we should worried about.\n",
        "- There are some asnwers that even if they are very relative and representative to their question, the given score isn't so good. This may happens because this model doesn't use cosine similarity as a metric to see how similar is the texts. Futhermore, the data that managed were very few. I did comparisons between only 20 paragraphs! So I was very satisfied if with so few data gives me these results.\n",
        "- The above comment may is responsible for some answers aren't always 4, but fewer.\n"
      ]
    },
    {
      "cell_type": "markdown",
      "metadata": {
        "id": "HGIWppm9ANMS"
      },
      "source": [
        "### ***Compare your 2 models based on at least 2 different criteria of your choice:***\n",
        "\n",
        "The main criteria that I select to compare my models is the ***time*** and the ***computing power and memory***:\n",
        "- In the first model I used all the articles with all of their abstracts and body texts. In general I applied the brute force method in all of my data. Something like that is needed a lot of computer power and memory. Sometimes, I have to mention, in my tests I faced memory crashed and it took many hours to find a way to deal with it. If I didn't use GPU the first notebook would needed countless hours to run and it isn't sure that my memory will allow it. On the other hand, in the second notebook I used only the abstracts of the articles, which they weren't so much in quantity and in the end I used only the body texts from the 20 most similar abstracts. Undoubtedly, I used much less data in the second notebook and I take more satisfying answers. Moreover, because I used less data, I didn't need so much the GPU. I could run it without it and it will take surely more time but I would not have any problem with computing power or memory like the first notebook that it doesn't run without the usage of GPU cuda.\n",
        "- Another vital criterion is surely the time that the 2 notebooks needed to run. In the first notebook, the \"encode section\" took ~1 hour to run and the \"question-answering search section\" took just one second. So the total time of 1st notebook is about 1 hour. The 2nd notebook took ~6 minutes for the \"encode section\" and ~8 minutes for the \"question-answering search section\". So the total time of the 2nd notebook is maximum 15 minutes. It is a big time difference, given the fact that the second notebook with less data and time gives more satisfactory answers. This is a big improvement!\n",
        "- From the above, we understand that I based mainly also in the accuracy of my results. The relation between ***time and accuracy*** is a serious criterion that I took into account. And in this fact it helped a lot that the pretrained datasets in the second notebook had immediate relation with the covid. Besides, the comprehendion model that uses question-answering pipeline from transformers library contributed equally. If the second model took less time but more inaccurate results, I wouldn't choose it.\n",
        "- Last criterion I have to refer is the ***metric*** I used to take this results. In the first notebook I used the method of textual similarity based completely in cosine similarity and it returns the sentences that their words are more similar to the question. So it is very logic to returns the most similar sentence or word and not the answer. In the second notebook I used the metric of cosine similarity to take the top 20 similar abstracts and paragraphs, but in the end I used the prediction that the pipeline comprehension model of question-answering returns to me.\n"
      ]
    }
  ]
}